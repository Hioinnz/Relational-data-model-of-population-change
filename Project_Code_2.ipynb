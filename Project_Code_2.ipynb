{
 "cells": [
  {
   "cell_type": "markdown",
   "id": "22516226-105a-45c6-8288-4a187960b220",
   "metadata": {},
   "source": [
    "## Data 422 Group Project (Notebook 2) - Julia"
   ]
  },
  {
   "cell_type": "code",
   "execution_count": 1,
   "id": "e17edae2-d3d5-45f3-8dce-12d41a74bff9",
   "metadata": {},
   "outputs": [],
   "source": [
    "using Pkg\n",
    "using CSV\n",
    "using DataFrames"
   ]
  },
  {
   "cell_type": "code",
   "execution_count": 2,
   "id": "d45aa71a-5f8e-4231-8a65-f2e122948ed7",
   "metadata": {
    "scrolled": true
   },
   "outputs": [
    {
     "data": {
      "text/html": [
       "<div><div style = \"float: left;\"><span>16399×5 DataFrame</span></div><div style = \"float: right;\"><span style = \"font-style: italic;\">16374 rows omitted</span></div><div style = \"clear: both;\"></div></div><div class = \"data-frame\" style = \"overflow-x: scroll;\"><table class = \"data-frame\" style = \"margin-bottom: 6px;\"><thead><tr class = \"header\"><th class = \"rowNumber\" style = \"font-weight: bold; text-align: right;\">Row</th><th style = \"text-align: left;\">Country_Name</th><th style = \"text-align: left;\">Country_Code</th><th style = \"text-align: left;\">Year</th><th style = \"text-align: left;\">Population</th><th style = \"text-align: left;\">Population_Growth_Rate</th></tr><tr class = \"subheader headerLastRow\"><th class = \"rowNumber\" style = \"font-weight: bold; text-align: right;\"></th><th title = \"String\" style = \"text-align: left;\">String</th><th title = \"String\" style = \"text-align: left;\">String</th><th title = \"Int64\" style = \"text-align: left;\">Int64</th><th title = \"Int64\" style = \"text-align: left;\">Int64</th><th title = \"Float64\" style = \"text-align: left;\">Float64</th></tr></thead><tbody><tr><td class = \"rowNumber\" style = \"font-weight: bold; text-align: right;\">1</td><td style = \"text-align: left;\">Aruba</td><td style = \"text-align: left;\">ABW</td><td style = \"text-align: right;\">1961</td><td style = \"text-align: right;\">55811</td><td style = \"text-align: right;\">2.17906</td></tr><tr><td class = \"rowNumber\" style = \"font-weight: bold; text-align: right;\">2</td><td style = \"text-align: left;\">Africa Eastern and Southern</td><td style = \"text-align: left;\">AFE</td><td style = \"text-align: right;\">1961</td><td style = \"text-align: right;\">134169237</td><td style = \"text-align: right;\">2.66018</td></tr><tr><td class = \"rowNumber\" style = \"font-weight: bold; text-align: right;\">3</td><td style = \"text-align: left;\">Afghanistan</td><td style = \"text-align: left;\">AFG</td><td style = \"text-align: right;\">1961</td><td style = \"text-align: right;\">8790140</td><td style = \"text-align: right;\">1.92595</td></tr><tr><td class = \"rowNumber\" style = \"font-weight: bold; text-align: right;\">4</td><td style = \"text-align: left;\">Africa Western and Central</td><td style = \"text-align: left;\">AFW</td><td style = \"text-align: right;\">1961</td><td style = \"text-align: right;\">99314028</td><td style = \"text-align: right;\">2.11579</td></tr><tr><td class = \"rowNumber\" style = \"font-weight: bold; text-align: right;\">5</td><td style = \"text-align: left;\">Angola</td><td style = \"text-align: left;\">AGO</td><td style = \"text-align: right;\">1961</td><td style = \"text-align: right;\">5441333</td><td style = \"text-align: right;\">1.55836</td></tr><tr><td class = \"rowNumber\" style = \"font-weight: bold; text-align: right;\">6</td><td style = \"text-align: left;\">Albania</td><td style = \"text-align: left;\">ALB</td><td style = \"text-align: right;\">1961</td><td style = \"text-align: right;\">1659800</td><td style = \"text-align: right;\">3.12086</td></tr><tr><td class = \"rowNumber\" style = \"font-weight: bold; text-align: right;\">7</td><td style = \"text-align: left;\">Andorra</td><td style = \"text-align: left;\">AND</td><td style = \"text-align: right;\">1961</td><td style = \"text-align: right;\">10216</td><td style = \"text-align: right;\">7.86814</td></tr><tr><td class = \"rowNumber\" style = \"font-weight: bold; text-align: right;\">8</td><td style = \"text-align: left;\">Arab World</td><td style = \"text-align: left;\">ARB</td><td style = \"text-align: right;\">1961</td><td style = \"text-align: right;\">95760348</td><td style = \"text-align: right;\">2.57172</td></tr><tr><td class = \"rowNumber\" style = \"font-weight: bold; text-align: right;\">9</td><td style = \"text-align: left;\">United Arab Emirates</td><td style = \"text-align: left;\">ARE</td><td style = \"text-align: right;\">1961</td><td style = \"text-align: right;\">140984</td><td style = \"text-align: right;\">5.50994</td></tr><tr><td class = \"rowNumber\" style = \"font-weight: bold; text-align: right;\">10</td><td style = \"text-align: left;\">Argentina</td><td style = \"text-align: left;\">ARG</td><td style = \"text-align: right;\">1961</td><td style = \"text-align: right;\">20680653</td><td style = \"text-align: right;\">1.61303</td></tr><tr><td class = \"rowNumber\" style = \"font-weight: bold; text-align: right;\">11</td><td style = \"text-align: left;\">Armenia</td><td style = \"text-align: left;\">ARM</td><td style = \"text-align: right;\">1961</td><td style = \"text-align: right;\">1971530</td><td style = \"text-align: right;\">3.47752</td></tr><tr><td class = \"rowNumber\" style = \"font-weight: bold; text-align: right;\">12</td><td style = \"text-align: left;\">American Samoa</td><td style = \"text-align: left;\">ASM</td><td style = \"text-align: right;\">1961</td><td style = \"text-align: right;\">20626</td><td style = \"text-align: right;\">2.65791</td></tr><tr><td class = \"rowNumber\" style = \"font-weight: bold; text-align: right;\">13</td><td style = \"text-align: left;\">Antigua and Barbuda</td><td style = \"text-align: left;\">ATG</td><td style = \"text-align: right;\">1961</td><td style = \"text-align: right;\">56245</td><td style = \"text-align: right;\">1.6185</td></tr><tr><td style = \"text-align: right;\">&vellip;</td><td style = \"text-align: right;\">&vellip;</td><td style = \"text-align: right;\">&vellip;</td><td style = \"text-align: right;\">&vellip;</td><td style = \"text-align: right;\">&vellip;</td><td style = \"text-align: right;\">&vellip;</td></tr><tr><td class = \"rowNumber\" style = \"font-weight: bold; text-align: right;\">16388</td><td style = \"text-align: left;\">Venezuela, RB</td><td style = \"text-align: left;\">VEN</td><td style = \"text-align: right;\">2022</td><td style = \"text-align: right;\">28301696</td><td style = \"text-align: right;\">0.360447</td></tr><tr><td class = \"rowNumber\" style = \"font-weight: bold; text-align: right;\">16389</td><td style = \"text-align: left;\">British Virgin Islands</td><td style = \"text-align: left;\">VGB</td><td style = \"text-align: right;\">2022</td><td style = \"text-align: right;\">31305</td><td style = \"text-align: right;\">0.586286</td></tr><tr><td class = \"rowNumber\" style = \"font-weight: bold; text-align: right;\">16390</td><td style = \"text-align: left;\">Virgin Islands (U.S.)</td><td style = \"text-align: left;\">VIR</td><td style = \"text-align: right;\">2022</td><td style = \"text-align: right;\">105413</td><td style = \"text-align: right;\">-0.432596</td></tr><tr><td class = \"rowNumber\" style = \"font-weight: bold; text-align: right;\">16391</td><td style = \"text-align: left;\">Vietnam</td><td style = \"text-align: left;\">VNM</td><td style = \"text-align: right;\">2022</td><td style = \"text-align: right;\">98186856</td><td style = \"text-align: right;\">0.734794</td></tr><tr><td class = \"rowNumber\" style = \"font-weight: bold; text-align: right;\">16392</td><td style = \"text-align: left;\">Vanuatu</td><td style = \"text-align: left;\">VUT</td><td style = \"text-align: right;\">2022</td><td style = \"text-align: right;\">326740</td><td style = \"text-align: right;\">2.35443</td></tr><tr><td class = \"rowNumber\" style = \"font-weight: bold; text-align: right;\">16393</td><td style = \"text-align: left;\">World</td><td style = \"text-align: left;\">WLD</td><td style = \"text-align: right;\">2022</td><td style = \"text-align: right;\">7951149546</td><td style = \"text-align: right;\">0.798516</td></tr><tr><td class = \"rowNumber\" style = \"font-weight: bold; text-align: right;\">16394</td><td style = \"text-align: left;\">Samoa</td><td style = \"text-align: left;\">WSM</td><td style = \"text-align: right;\">2022</td><td style = \"text-align: right;\">222382</td><td style = \"text-align: right;\">1.64031</td></tr><tr><td class = \"rowNumber\" style = \"font-weight: bold; text-align: right;\">16395</td><td style = \"text-align: left;\">Kosovo</td><td style = \"text-align: left;\">XKX</td><td style = \"text-align: right;\">2022</td><td style = \"text-align: right;\">1761985</td><td style = \"text-align: right;\">-1.35587</td></tr><tr><td class = \"rowNumber\" style = \"font-weight: bold; text-align: right;\">16396</td><td style = \"text-align: left;\">Yemen, Rep.</td><td style = \"text-align: left;\">YEM</td><td style = \"text-align: right;\">2022</td><td style = \"text-align: right;\">33696614</td><td style = \"text-align: right;\">2.14463</td></tr><tr><td class = \"rowNumber\" style = \"font-weight: bold; text-align: right;\">16397</td><td style = \"text-align: left;\">South Africa</td><td style = \"text-align: left;\">ZAF</td><td style = \"text-align: right;\">2022</td><td style = \"text-align: right;\">59893885</td><td style = \"text-align: right;\">0.841058</td></tr><tr><td class = \"rowNumber\" style = \"font-weight: bold; text-align: right;\">16398</td><td style = \"text-align: left;\">Zambia</td><td style = \"text-align: left;\">ZMB</td><td style = \"text-align: right;\">2022</td><td style = \"text-align: right;\">20017675</td><td style = \"text-align: right;\">2.75803</td></tr><tr><td class = \"rowNumber\" style = \"font-weight: bold; text-align: right;\">16399</td><td style = \"text-align: left;\">Zimbabwe</td><td style = \"text-align: left;\">ZWE</td><td style = \"text-align: right;\">2022</td><td style = \"text-align: right;\">16320537</td><td style = \"text-align: right;\">2.02404</td></tr></tbody></table></div>"
      ],
      "text/latex": [
       "\\begin{tabular}{r|ccccc}\n",
       "\t& Country\\_Name & Country\\_Code & Year & Population & Population\\_Growth\\_Rate\\\\\n",
       "\t\\hline\n",
       "\t& String & String & Int64 & Int64 & Float64\\\\\n",
       "\t\\hline\n",
       "\t1 & Aruba & ABW & 1961 & 55811 & 2.17906 \\\\\n",
       "\t2 & Africa Eastern and Southern & AFE & 1961 & 134169237 & 2.66018 \\\\\n",
       "\t3 & Afghanistan & AFG & 1961 & 8790140 & 1.92595 \\\\\n",
       "\t4 & Africa Western and Central & AFW & 1961 & 99314028 & 2.11579 \\\\\n",
       "\t5 & Angola & AGO & 1961 & 5441333 & 1.55836 \\\\\n",
       "\t6 & Albania & ALB & 1961 & 1659800 & 3.12086 \\\\\n",
       "\t7 & Andorra & AND & 1961 & 10216 & 7.86814 \\\\\n",
       "\t8 & Arab World & ARB & 1961 & 95760348 & 2.57172 \\\\\n",
       "\t9 & United Arab Emirates & ARE & 1961 & 140984 & 5.50994 \\\\\n",
       "\t10 & Argentina & ARG & 1961 & 20680653 & 1.61303 \\\\\n",
       "\t11 & Armenia & ARM & 1961 & 1971530 & 3.47752 \\\\\n",
       "\t12 & American Samoa & ASM & 1961 & 20626 & 2.65791 \\\\\n",
       "\t13 & Antigua and Barbuda & ATG & 1961 & 56245 & 1.6185 \\\\\n",
       "\t14 & Australia & AUS & 1961 & 10483000 & 1.98974 \\\\\n",
       "\t15 & Austria & AUT & 1961 & 7086299 & 0.548472 \\\\\n",
       "\t16 & Azerbaijan & AZE & 1961 & 4045750 & 3.81016 \\\\\n",
       "\t17 & Burundi & BDI & 1961 & 2815972 & 2.49335 \\\\\n",
       "\t18 & Belgium & BEL & 1961 & 9183948 & 0.332206 \\\\\n",
       "\t19 & Benin & BEN & 1961 & 2551216 & 1.53778 \\\\\n",
       "\t20 & Burkina Faso & BFA & 1961 & 4852833 & 1.44405 \\\\\n",
       "\t21 & Bangladesh & BGD & 1961 & 51882769 & 2.90664 \\\\\n",
       "\t22 & Bulgaria & BGR & 1961 & 7943118 & 0.958156 \\\\\n",
       "\t23 & Bahrain & BHR & 1961 & 166970 & 3.83309 \\\\\n",
       "\t24 & Bahamas, The & BHS & 1961 & 120216 & 4.87153 \\\\\n",
       "\t25 & Bosnia and Herzegovina & BIH & 1961 & 3325333 & 1.90641 \\\\\n",
       "\t26 & Belarus & BLR & 1961 & 8271216 & 0.889131 \\\\\n",
       "\t27 & Belize & BLZ & 1961 & 93757 & 2.5428 \\\\\n",
       "\t28 & Bermuda & BMU & 1961 & 45500 & 2.44729 \\\\\n",
       "\t29 & Bolivia & BOL & 1961 & 3784744 & 2.06164 \\\\\n",
       "\t30 & Brazil & BRA & 1961 & 75330008 & 3.01526 \\\\\n",
       "\t$\\dots$ & $\\dots$ & $\\dots$ & $\\dots$ & $\\dots$ & $\\dots$ \\\\\n",
       "\\end{tabular}\n"
      ],
      "text/plain": [
       "\u001b[1m16399×5 DataFrame\u001b[0m\n",
       "\u001b[1m   Row \u001b[0m│\u001b[1m Country_Name                   \u001b[0m\u001b[1m Country_Code \u001b[0m\u001b[1m Year  \u001b[0m\u001b[1m Population \u001b[0m\u001b[1m Popu\u001b[0m ⋯\n",
       "       │\u001b[90m String                         \u001b[0m\u001b[90m String       \u001b[0m\u001b[90m Int64 \u001b[0m\u001b[90m Int64      \u001b[0m\u001b[90m Floa\u001b[0m ⋯\n",
       "───────┼────────────────────────────────────────────────────────────────────────\n",
       "     1 │ Aruba                           ABW            1961       55811       ⋯\n",
       "     2 │ Africa Eastern and Southern     AFE            1961   134169237\n",
       "     3 │ Afghanistan                     AFG            1961     8790140\n",
       "     4 │ Africa Western and Central      AFW            1961    99314028\n",
       "     5 │ Angola                          AGO            1961     5441333       ⋯\n",
       "     6 │ Albania                         ALB            1961     1659800\n",
       "     7 │ Andorra                         AND            1961       10216\n",
       "     8 │ Arab World                      ARB            1961    95760348\n",
       "     9 │ United Arab Emirates            ARE            1961      140984       ⋯\n",
       "    10 │ Argentina                       ARG            1961    20680653\n",
       "    11 │ Armenia                         ARM            1961     1971530\n",
       "   ⋮   │               ⋮                      ⋮          ⋮        ⋮            ⋱\n",
       " 16390 │ Virgin Islands (U.S.)           VIR            2022      105413\n",
       " 16391 │ Vietnam                         VNM            2022    98186856       ⋯\n",
       " 16392 │ Vanuatu                         VUT            2022      326740\n",
       " 16393 │ World                           WLD            2022  7951149546\n",
       " 16394 │ Samoa                           WSM            2022      222382\n",
       " 16395 │ Kosovo                          XKX            2022     1761985       ⋯\n",
       " 16396 │ Yemen, Rep.                     YEM            2022    33696614\n",
       " 16397 │ South Africa                    ZAF            2022    59893885\n",
       " 16398 │ Zambia                          ZMB            2022    20017675\n",
       " 16399 │ Zimbabwe                        ZWE            2022    16320537       ⋯\n",
       "\u001b[36m                                                 1 column and 16378 rows omitted\u001b[0m"
      ]
     },
     "execution_count": 2,
     "metadata": {},
     "output_type": "execute_result"
    }
   ],
   "source": [
    "Population = CSV.read(\"Population_Clean.csv\", DataFrame)"
   ]
  },
  {
   "cell_type": "markdown",
   "id": "49cc89af-44f2-436e-80a0-3be55fea7870",
   "metadata": {},
   "source": [
    "### comment\n",
    "\n",
    "Read the `Population_Clean.csv` file saved from Group_Project_1 notebook, using `CSV.read()` function. "
   ]
  },
  {
   "cell_type": "code",
   "execution_count": 3,
   "id": "f2eb5f7e-3c79-4c31-ad5c-5ffb7b6212aa",
   "metadata": {
    "scrolled": true
   },
   "outputs": [
    {
     "data": {
      "text/html": [
       "<div><div style = \"float: left;\"><span>16399×5 DataFrame</span></div><div style = \"float: right;\"><span style = \"font-style: italic;\">16374 rows omitted</span></div><div style = \"clear: both;\"></div></div><div class = \"data-frame\" style = \"overflow-x: scroll;\"><table class = \"data-frame\" style = \"margin-bottom: 6px;\"><thead><tr class = \"header\"><th class = \"rowNumber\" style = \"font-weight: bold; text-align: right;\">Row</th><th style = \"text-align: left;\">Country_Name</th><th style = \"text-align: left;\">Country_Code</th><th style = \"text-align: left;\">Year</th><th style = \"text-align: left;\">Population</th><th style = \"text-align: left;\">Population_Growth_Rate</th></tr><tr class = \"subheader headerLastRow\"><th class = \"rowNumber\" style = \"font-weight: bold; text-align: right;\"></th><th title = \"String\" style = \"text-align: left;\">String</th><th title = \"String\" style = \"text-align: left;\">String</th><th title = \"Int64\" style = \"text-align: left;\">Int64</th><th title = \"Int64\" style = \"text-align: left;\">Int64</th><th title = \"Float64\" style = \"text-align: left;\">Float64</th></tr></thead><tbody><tr><td class = \"rowNumber\" style = \"font-weight: bold; text-align: right;\">1</td><td style = \"text-align: left;\">World</td><td style = \"text-align: left;\">WLD</td><td style = \"text-align: right;\">2022</td><td style = \"text-align: right;\">7951149546</td><td style = \"text-align: right;\">0.798516</td></tr><tr><td class = \"rowNumber\" style = \"font-weight: bold; text-align: right;\">2</td><td style = \"text-align: left;\">World</td><td style = \"text-align: left;\">WLD</td><td style = \"text-align: right;\">2021</td><td style = \"text-align: right;\">7888161297</td><td style = \"text-align: right;\">0.859197</td></tr><tr><td class = \"rowNumber\" style = \"font-weight: bold; text-align: right;\">3</td><td style = \"text-align: left;\">World</td><td style = \"text-align: left;\">WLD</td><td style = \"text-align: right;\">2020</td><td style = \"text-align: right;\">7820963775</td><td style = \"text-align: right;\">1.01104</td></tr><tr><td class = \"rowNumber\" style = \"font-weight: bold; text-align: right;\">4</td><td style = \"text-align: left;\">World</td><td style = \"text-align: left;\">WLD</td><td style = \"text-align: right;\">2019</td><td style = \"text-align: right;\">7742682218</td><td style = \"text-align: right;\">1.05596</td></tr><tr><td class = \"rowNumber\" style = \"font-weight: bold; text-align: right;\">5</td><td style = \"text-align: left;\">World</td><td style = \"text-align: left;\">WLD</td><td style = \"text-align: right;\">2018</td><td style = \"text-align: right;\">7661776612</td><td style = \"text-align: right;\">1.10258</td></tr><tr><td class = \"rowNumber\" style = \"font-weight: bold; text-align: right;\">6</td><td style = \"text-align: left;\">World</td><td style = \"text-align: left;\">WLD</td><td style = \"text-align: right;\">2017</td><td style = \"text-align: right;\">7578220703</td><td style = \"text-align: right;\">1.14872</td></tr><tr><td class = \"rowNumber\" style = \"font-weight: bold; text-align: right;\">7</td><td style = \"text-align: left;\">World</td><td style = \"text-align: left;\">WLD</td><td style = \"text-align: right;\">2016</td><td style = \"text-align: right;\">7492156881</td><td style = \"text-align: right;\">1.1732</td></tr><tr><td class = \"rowNumber\" style = \"font-weight: bold; text-align: right;\">8</td><td style = \"text-align: left;\">World</td><td style = \"text-align: left;\">WLD</td><td style = \"text-align: right;\">2015</td><td style = \"text-align: right;\">7405277863</td><td style = \"text-align: right;\">1.19305</td></tr><tr><td class = \"rowNumber\" style = \"font-weight: bold; text-align: right;\">9</td><td style = \"text-align: left;\">World</td><td style = \"text-align: left;\">WLD</td><td style = \"text-align: right;\">2014</td><td style = \"text-align: right;\">7317970484</td><td style = \"text-align: right;\">1.2205</td></tr><tr><td class = \"rowNumber\" style = \"font-weight: bold; text-align: right;\">10</td><td style = \"text-align: left;\">World</td><td style = \"text-align: left;\">WLD</td><td style = \"text-align: right;\">2013</td><td style = \"text-align: right;\">7229731581</td><td style = \"text-align: right;\">1.23565</td></tr><tr><td class = \"rowNumber\" style = \"font-weight: bold; text-align: right;\">11</td><td style = \"text-align: left;\">World</td><td style = \"text-align: left;\">WLD</td><td style = \"text-align: right;\">2012</td><td style = \"text-align: right;\">7141487869</td><td style = \"text-align: right;\">1.24034</td></tr><tr><td class = \"rowNumber\" style = \"font-weight: bold; text-align: right;\">12</td><td style = \"text-align: left;\">World</td><td style = \"text-align: left;\">WLD</td><td style = \"text-align: right;\">2011</td><td style = \"text-align: right;\">7053994597</td><td style = \"text-align: right;\">1.20453</td></tr><tr><td class = \"rowNumber\" style = \"font-weight: bold; text-align: right;\">13</td><td style = \"text-align: left;\">World</td><td style = \"text-align: left;\">WLD</td><td style = \"text-align: right;\">2010</td><td style = \"text-align: right;\">6970038720</td><td style = \"text-align: right;\">1.22264</td></tr><tr><td style = \"text-align: right;\">&vellip;</td><td style = \"text-align: right;\">&vellip;</td><td style = \"text-align: right;\">&vellip;</td><td style = \"text-align: right;\">&vellip;</td><td style = \"text-align: right;\">&vellip;</td><td style = \"text-align: right;\">&vellip;</td></tr><tr><td class = \"rowNumber\" style = \"font-weight: bold; text-align: right;\">16388</td><td style = \"text-align: left;\">St. Martin (French part)</td><td style = \"text-align: left;\">MAF</td><td style = \"text-align: right;\">1965</td><td style = \"text-align: right;\">4832</td><td style = \"text-align: right;\">3.49583</td></tr><tr><td class = \"rowNumber\" style = \"font-weight: bold; text-align: right;\">16389</td><td style = \"text-align: left;\">Nauru</td><td style = \"text-align: left;\">NRU</td><td style = \"text-align: right;\">1961</td><td style = \"text-align: right;\">4753</td><td style = \"text-align: right;\">3.66404</td></tr><tr><td class = \"rowNumber\" style = \"font-weight: bold; text-align: right;\">16390</td><td style = \"text-align: left;\">St. Martin (French part)</td><td style = \"text-align: left;\">MAF</td><td style = \"text-align: right;\">1964</td><td style = \"text-align: right;\">4666</td><td style = \"text-align: right;\">3.09056</td></tr><tr><td class = \"rowNumber\" style = \"font-weight: bold; text-align: right;\">16391</td><td style = \"text-align: left;\">Sint Maarten (Dutch part)</td><td style = \"text-align: left;\">SXM</td><td style = \"text-align: right;\">1966</td><td style = \"text-align: right;\">4531</td><td style = \"text-align: right;\">8.51872</td></tr><tr><td class = \"rowNumber\" style = \"font-weight: bold; text-align: right;\">16392</td><td style = \"text-align: left;\">St. Martin (French part)</td><td style = \"text-align: left;\">MAF</td><td style = \"text-align: right;\">1963</td><td style = \"text-align: right;\">4524</td><td style = \"text-align: right;\">3.0523</td></tr><tr><td class = \"rowNumber\" style = \"font-weight: bold; text-align: right;\">16393</td><td style = \"text-align: left;\">St. Martin (French part)</td><td style = \"text-align: left;\">MAF</td><td style = \"text-align: right;\">1962</td><td style = \"text-align: right;\">4388</td><td style = \"text-align: right;\">3.0074</td></tr><tr><td class = \"rowNumber\" style = \"font-weight: bold; text-align: right;\">16394</td><td style = \"text-align: left;\">St. Martin (French part)</td><td style = \"text-align: left;\">MAF</td><td style = \"text-align: right;\">1961</td><td style = \"text-align: right;\">4258</td><td style = \"text-align: right;\">2.93122</td></tr><tr><td class = \"rowNumber\" style = \"font-weight: bold; text-align: right;\">16395</td><td style = \"text-align: left;\">Sint Maarten (Dutch part)</td><td style = \"text-align: left;\">SXM</td><td style = \"text-align: right;\">1965</td><td style = \"text-align: right;\">4161</td><td style = \"text-align: right;\">8.78638</td></tr><tr><td class = \"rowNumber\" style = \"font-weight: bold; text-align: right;\">16396</td><td style = \"text-align: left;\">Sint Maarten (Dutch part)</td><td style = \"text-align: left;\">SXM</td><td style = \"text-align: right;\">1964</td><td style = \"text-align: right;\">3811</td><td style = \"text-align: right;\">9.0572</td></tr><tr><td class = \"rowNumber\" style = \"font-weight: bold; text-align: right;\">16397</td><td style = \"text-align: left;\">Sint Maarten (Dutch part)</td><td style = \"text-align: left;\">SXM</td><td style = \"text-align: right;\">1963</td><td style = \"text-align: right;\">3481</td><td style = \"text-align: right;\">9.32726</td></tr><tr><td class = \"rowNumber\" style = \"font-weight: bold; text-align: right;\">16398</td><td style = \"text-align: left;\">Sint Maarten (Dutch part)</td><td style = \"text-align: left;\">SXM</td><td style = \"text-align: right;\">1962</td><td style = \"text-align: right;\">3171</td><td style = \"text-align: right;\">9.34828</td></tr><tr><td class = \"rowNumber\" style = \"font-weight: bold; text-align: right;\">16399</td><td style = \"text-align: left;\">Sint Maarten (Dutch part)</td><td style = \"text-align: left;\">SXM</td><td style = \"text-align: right;\">1961</td><td style = \"text-align: right;\">2888</td><td style = \"text-align: right;\">8.75152</td></tr></tbody></table></div>"
      ],
      "text/latex": [
       "\\begin{tabular}{r|ccccc}\n",
       "\t& Country\\_Name & Country\\_Code & Year & Population & Population\\_Growth\\_Rate\\\\\n",
       "\t\\hline\n",
       "\t& String & String & Int64 & Int64 & Float64\\\\\n",
       "\t\\hline\n",
       "\t1 & World & WLD & 2022 & 7951149546 & 0.798516 \\\\\n",
       "\t2 & World & WLD & 2021 & 7888161297 & 0.859197 \\\\\n",
       "\t3 & World & WLD & 2020 & 7820963775 & 1.01104 \\\\\n",
       "\t4 & World & WLD & 2019 & 7742682218 & 1.05596 \\\\\n",
       "\t5 & World & WLD & 2018 & 7661776612 & 1.10258 \\\\\n",
       "\t6 & World & WLD & 2017 & 7578220703 & 1.14872 \\\\\n",
       "\t7 & World & WLD & 2016 & 7492156881 & 1.1732 \\\\\n",
       "\t8 & World & WLD & 2015 & 7405277863 & 1.19305 \\\\\n",
       "\t9 & World & WLD & 2014 & 7317970484 & 1.2205 \\\\\n",
       "\t10 & World & WLD & 2013 & 7229731581 & 1.23565 \\\\\n",
       "\t11 & World & WLD & 2012 & 7141487869 & 1.24034 \\\\\n",
       "\t12 & World & WLD & 2011 & 7053994597 & 1.20453 \\\\\n",
       "\t13 & World & WLD & 2010 & 6970038720 & 1.22264 \\\\\n",
       "\t14 & World & WLD & 2009 & 6885849785 & 1.23704 \\\\\n",
       "\t15 & World & WLD & 2008 & 6801710019 & 1.24789 \\\\\n",
       "\t16 & IDA \\& IBRD total & IBT & 2022 & 6754326592 & 0.881005 \\\\\n",
       "\t17 & World & WLD & 2007 & 6717878341 & 1.24742 \\\\\n",
       "\t18 & IDA \\& IBRD total & IBT & 2021 & 6695340280 & 1.01496 \\\\\n",
       "\t19 & Low \\& middle income & LMY & 2022 & 6677948824 & 0.895297 \\\\\n",
       "\t20 & World & WLD & 2006 & 6635110367 & 1.25765 \\\\\n",
       "\t21 & IDA \\& IBRD total & IBT & 2020 & 6628068247 & 1.11654 \\\\\n",
       "\t22 & Low \\& middle income & LMY & 2021 & 6618691904 & 1.03721 \\\\\n",
       "\t23 & IDA \\& IBRD total & IBT & 2019 & 6554880543 & 1.16965 \\\\\n",
       "\t24 & World & WLD & 2005 & 6552700448 & 1.26375 \\\\\n",
       "\t25 & Low \\& middle income & LMY & 2020 & 6550746999 & 1.13867 \\\\\n",
       "\t26 & IDA \\& IBRD total & IBT & 2018 & 6479097568 & 1.21328 \\\\\n",
       "\t27 & Low \\& middle income & LMY & 2019 & 6476995208 & 1.19611 \\\\\n",
       "\t28 & World & WLD & 2004 & 6470924346 & 1.27494 \\\\\n",
       "\t29 & IDA \\& IBRD total & IBT & 2017 & 6401430493 & 1.26367 \\\\\n",
       "\t30 & Low \\& middle income & LMY & 2018 & 6400438789 & 1.23894 \\\\\n",
       "\t$\\dots$ & $\\dots$ & $\\dots$ & $\\dots$ & $\\dots$ & $\\dots$ \\\\\n",
       "\\end{tabular}\n"
      ],
      "text/plain": [
       "\u001b[1m16399×5 DataFrame\u001b[0m\n",
       "\u001b[1m   Row \u001b[0m│\u001b[1m Country_Name              \u001b[0m\u001b[1m Country_Code \u001b[0m\u001b[1m Year  \u001b[0m\u001b[1m Population \u001b[0m\u001b[1m Populatio\u001b[0m ⋯\n",
       "       │\u001b[90m String                    \u001b[0m\u001b[90m String       \u001b[0m\u001b[90m Int64 \u001b[0m\u001b[90m Int64      \u001b[0m\u001b[90m Float64  \u001b[0m ⋯\n",
       "───────┼────────────────────────────────────────────────────────────────────────\n",
       "     1 │ World                      WLD            2022  7951149546            ⋯\n",
       "     2 │ World                      WLD            2021  7888161297\n",
       "     3 │ World                      WLD            2020  7820963775\n",
       "     4 │ World                      WLD            2019  7742682218\n",
       "     5 │ World                      WLD            2018  7661776612            ⋯\n",
       "     6 │ World                      WLD            2017  7578220703\n",
       "     7 │ World                      WLD            2016  7492156881\n",
       "     8 │ World                      WLD            2015  7405277863\n",
       "     9 │ World                      WLD            2014  7317970484            ⋯\n",
       "    10 │ World                      WLD            2013  7229731581\n",
       "    11 │ World                      WLD            2012  7141487869\n",
       "   ⋮   │             ⋮                   ⋮          ⋮        ⋮                 ⋱\n",
       " 16390 │ St. Martin (French part)   MAF            1964        4666\n",
       " 16391 │ Sint Maarten (Dutch part)  SXM            1966        4531            ⋯\n",
       " 16392 │ St. Martin (French part)   MAF            1963        4524\n",
       " 16393 │ St. Martin (French part)   MAF            1962        4388\n",
       " 16394 │ St. Martin (French part)   MAF            1961        4258\n",
       " 16395 │ Sint Maarten (Dutch part)  SXM            1965        4161            ⋯\n",
       " 16396 │ Sint Maarten (Dutch part)  SXM            1964        3811\n",
       " 16397 │ Sint Maarten (Dutch part)  SXM            1963        3481\n",
       " 16398 │ Sint Maarten (Dutch part)  SXM            1962        3171\n",
       " 16399 │ Sint Maarten (Dutch part)  SXM            1961        2888            ⋯\n",
       "\u001b[36m                                                 1 column and 16378 rows omitted\u001b[0m"
      ]
     },
     "execution_count": 3,
     "metadata": {},
     "output_type": "execute_result"
    }
   ],
   "source": [
    "sort(Population, [order(:Population, rev=true)])"
   ]
  },
  {
   "cell_type": "markdown",
   "id": "a9c6f804-736b-4f1d-ba79-904d94e14145",
   "metadata": {},
   "source": [
    "### comment\n",
    "\n",
    "We tried to sort the data by **Population** in descending order to see which countries have the most population. However, top population observations are not single country, it was the world. We wanted to have the single countries in the dataset, not bigger region like the world. "
   ]
  },
  {
   "cell_type": "code",
   "execution_count": 4,
   "id": "736b3e5d-10df-4751-9c6e-c5df0e3a92b6",
   "metadata": {
    "scrolled": true
   },
   "outputs": [
    {
     "name": "stderr",
     "output_type": "stream",
     "text": [
      "\u001b[33m\u001b[1m┌ \u001b[22m\u001b[39m\u001b[33m\u001b[1mWarning: \u001b[22m\u001b[39mthread = 1 warning: only found 14 / 15 columns around data row: 249. Filling remaining columns with `missing`\n",
      "\u001b[33m\u001b[1m└ \u001b[22m\u001b[39m\u001b[90m@ CSV C:\\Users\\chuec\\.julia\\packages\\CSV\\Zl2ww\\src\\file.jl:612\u001b[39m\n"
     ]
    },
    {
     "data": {
      "text/html": [
       "<div><div style = \"float: left;\"><span>248×15 DataFrame</span></div><div style = \"float: right;\"><span style = \"font-style: italic;\">223 rows omitted</span></div><div style = \"clear: both;\"></div></div><div class = \"data-frame\" style = \"overflow-x: scroll;\"><table class = \"data-frame\" style = \"margin-bottom: 6px;\"><thead><tr class = \"header\"><th class = \"rowNumber\" style = \"font-weight: bold; text-align: right;\">Row</th><th style = \"text-align: left;\">Global Code</th><th style = \"text-align: left;\">Global Name</th><th style = \"text-align: left;\">Region Code</th><th style = \"text-align: left;\">Region Name</th><th style = \"text-align: left;\">Sub-region Code</th><th style = \"text-align: left;\">Sub-region Name</th><th style = \"text-align: left;\">Intermediate Region Code</th><th style = \"text-align: left;\">Intermediate Region Name</th><th style = \"text-align: left;\">Country or Area</th><th style = \"text-align: left;\">M49 Code</th><th style = \"text-align: left;\">ISO-alpha2 Code</th><th style = \"text-align: left;\">ISO-alpha3 Code</th><th style = \"text-align: left;\">Least Developed Countries (LDC)</th><th style = \"text-align: left;\">Land Locked Developing Countries (LLDC)</th><th style = \"text-align: left;\">Small Island Developing States (SIDS)</th></tr><tr class = \"subheader headerLastRow\"><th class = \"rowNumber\" style = \"font-weight: bold; text-align: right;\"></th><th title = \"Int64\" style = \"text-align: left;\">Int64</th><th title = \"String\" style = \"text-align: left;\">String</th><th title = \"Union{Missing, Int64}\" style = \"text-align: left;\">Int64?</th><th title = \"Union{Missing, String}\" style = \"text-align: left;\">String?</th><th title = \"Union{Missing, Int64}\" style = \"text-align: left;\">Int64?</th><th title = \"Union{Missing, String}\" style = \"text-align: left;\">String?</th><th title = \"Union{Missing, Int64}\" style = \"text-align: left;\">Int64?</th><th title = \"Union{Missing, String}\" style = \"text-align: left;\">String?</th><th title = \"String\" style = \"text-align: left;\">String</th><th title = \"Int64\" style = \"text-align: left;\">Int64</th><th title = \"String\" style = \"text-align: left;\">String</th><th title = \"String\" style = \"text-align: left;\">String</th><th title = \"Union{Missing, String}\" style = \"text-align: left;\">String?</th><th title = \"Union{Missing, String}\" style = \"text-align: left;\">String?</th><th title = \"Union{Missing, String}\" style = \"text-align: left;\">String?</th></tr></thead><tbody><tr><td class = \"rowNumber\" style = \"font-weight: bold; text-align: right;\">1</td><td style = \"text-align: right;\">1</td><td style = \"text-align: left;\">World</td><td style = \"text-align: right;\">2</td><td style = \"text-align: left;\">Africa</td><td style = \"text-align: right;\">15</td><td style = \"text-align: left;\">Northern Africa</td><td style = \"font-style: italic; text-align: right;\">missing</td><td style = \"font-style: italic; text-align: left;\">missing</td><td style = \"text-align: left;\">Algeria</td><td style = \"text-align: right;\">12</td><td style = \"text-align: left;\">DZ</td><td style = \"text-align: left;\">DZA</td><td style = \"font-style: italic; text-align: left;\">missing</td><td style = \"font-style: italic; text-align: left;\">missing</td><td style = \"font-style: italic; text-align: left;\">missing</td></tr><tr><td class = \"rowNumber\" style = \"font-weight: bold; text-align: right;\">2</td><td style = \"text-align: right;\">1</td><td style = \"text-align: left;\">World</td><td style = \"text-align: right;\">2</td><td style = \"text-align: left;\">Africa</td><td style = \"text-align: right;\">15</td><td style = \"text-align: left;\">Northern Africa</td><td style = \"font-style: italic; text-align: right;\">missing</td><td style = \"font-style: italic; text-align: left;\">missing</td><td style = \"text-align: left;\">Egypt</td><td style = \"text-align: right;\">818</td><td style = \"text-align: left;\">EG</td><td style = \"text-align: left;\">EGY</td><td style = \"font-style: italic; text-align: left;\">missing</td><td style = \"font-style: italic; text-align: left;\">missing</td><td style = \"font-style: italic; text-align: left;\">missing</td></tr><tr><td class = \"rowNumber\" style = \"font-weight: bold; text-align: right;\">3</td><td style = \"text-align: right;\">1</td><td style = \"text-align: left;\">World</td><td style = \"text-align: right;\">2</td><td style = \"text-align: left;\">Africa</td><td style = \"text-align: right;\">15</td><td style = \"text-align: left;\">Northern Africa</td><td style = \"font-style: italic; text-align: right;\">missing</td><td style = \"font-style: italic; text-align: left;\">missing</td><td style = \"text-align: left;\">Libya</td><td style = \"text-align: right;\">434</td><td style = \"text-align: left;\">LY</td><td style = \"text-align: left;\">LBY</td><td style = \"font-style: italic; text-align: left;\">missing</td><td style = \"font-style: italic; text-align: left;\">missing</td><td style = \"font-style: italic; text-align: left;\">missing</td></tr><tr><td class = \"rowNumber\" style = \"font-weight: bold; text-align: right;\">4</td><td style = \"text-align: right;\">1</td><td style = \"text-align: left;\">World</td><td style = \"text-align: right;\">2</td><td style = \"text-align: left;\">Africa</td><td style = \"text-align: right;\">15</td><td style = \"text-align: left;\">Northern Africa</td><td style = \"font-style: italic; text-align: right;\">missing</td><td style = \"font-style: italic; text-align: left;\">missing</td><td style = \"text-align: left;\">Morocco</td><td style = \"text-align: right;\">504</td><td style = \"text-align: left;\">MA</td><td style = \"text-align: left;\">MAR</td><td style = \"font-style: italic; text-align: left;\">missing</td><td style = \"font-style: italic; text-align: left;\">missing</td><td style = \"font-style: italic; text-align: left;\">missing</td></tr><tr><td class = \"rowNumber\" style = \"font-weight: bold; text-align: right;\">5</td><td style = \"text-align: right;\">1</td><td style = \"text-align: left;\">World</td><td style = \"text-align: right;\">2</td><td style = \"text-align: left;\">Africa</td><td style = \"text-align: right;\">15</td><td style = \"text-align: left;\">Northern Africa</td><td style = \"font-style: italic; text-align: right;\">missing</td><td style = \"font-style: italic; text-align: left;\">missing</td><td style = \"text-align: left;\">Sudan</td><td style = \"text-align: right;\">729</td><td style = \"text-align: left;\">SD</td><td style = \"text-align: left;\">SDN</td><td style = \"text-align: left;\">x</td><td style = \"font-style: italic; text-align: left;\">missing</td><td style = \"font-style: italic; text-align: left;\">missing</td></tr><tr><td class = \"rowNumber\" style = \"font-weight: bold; text-align: right;\">6</td><td style = \"text-align: right;\">1</td><td style = \"text-align: left;\">World</td><td style = \"text-align: right;\">2</td><td style = \"text-align: left;\">Africa</td><td style = \"text-align: right;\">15</td><td style = \"text-align: left;\">Northern Africa</td><td style = \"font-style: italic; text-align: right;\">missing</td><td style = \"font-style: italic; text-align: left;\">missing</td><td style = \"text-align: left;\">Tunisia</td><td style = \"text-align: right;\">788</td><td style = \"text-align: left;\">TN</td><td style = \"text-align: left;\">TUN</td><td style = \"font-style: italic; text-align: left;\">missing</td><td style = \"font-style: italic; text-align: left;\">missing</td><td style = \"font-style: italic; text-align: left;\">missing</td></tr><tr><td class = \"rowNumber\" style = \"font-weight: bold; text-align: right;\">7</td><td style = \"text-align: right;\">1</td><td style = \"text-align: left;\">World</td><td style = \"text-align: right;\">2</td><td style = \"text-align: left;\">Africa</td><td style = \"text-align: right;\">15</td><td style = \"text-align: left;\">Northern Africa</td><td style = \"font-style: italic; text-align: right;\">missing</td><td style = \"font-style: italic; text-align: left;\">missing</td><td style = \"text-align: left;\">Western Sahara</td><td style = \"text-align: right;\">732</td><td style = \"text-align: left;\">EH</td><td style = \"text-align: left;\">ESH</td><td style = \"font-style: italic; text-align: left;\">missing</td><td style = \"font-style: italic; text-align: left;\">missing</td><td style = \"font-style: italic; text-align: left;\">missing</td></tr><tr><td class = \"rowNumber\" style = \"font-weight: bold; text-align: right;\">8</td><td style = \"text-align: right;\">1</td><td style = \"text-align: left;\">World</td><td style = \"text-align: right;\">2</td><td style = \"text-align: left;\">Africa</td><td style = \"text-align: right;\">202</td><td style = \"text-align: left;\">Sub-Saharan Africa</td><td style = \"text-align: right;\">14</td><td style = \"text-align: left;\">Eastern Africa</td><td style = \"text-align: left;\">British Indian Ocean Territory</td><td style = \"text-align: right;\">86</td><td style = \"text-align: left;\">IO</td><td style = \"text-align: left;\">IOT</td><td style = \"font-style: italic; text-align: left;\">missing</td><td style = \"font-style: italic; text-align: left;\">missing</td><td style = \"font-style: italic; text-align: left;\">missing</td></tr><tr><td class = \"rowNumber\" style = \"font-weight: bold; text-align: right;\">9</td><td style = \"text-align: right;\">1</td><td style = \"text-align: left;\">World</td><td style = \"text-align: right;\">2</td><td style = \"text-align: left;\">Africa</td><td style = \"text-align: right;\">202</td><td style = \"text-align: left;\">Sub-Saharan Africa</td><td style = \"text-align: right;\">14</td><td style = \"text-align: left;\">Eastern Africa</td><td style = \"text-align: left;\">Burundi</td><td style = \"text-align: right;\">108</td><td style = \"text-align: left;\">BI</td><td style = \"text-align: left;\">BDI</td><td style = \"text-align: left;\">x</td><td style = \"text-align: left;\">x</td><td style = \"font-style: italic; text-align: left;\">missing</td></tr><tr><td class = \"rowNumber\" style = \"font-weight: bold; text-align: right;\">10</td><td style = \"text-align: right;\">1</td><td style = \"text-align: left;\">World</td><td style = \"text-align: right;\">2</td><td style = \"text-align: left;\">Africa</td><td style = \"text-align: right;\">202</td><td style = \"text-align: left;\">Sub-Saharan Africa</td><td style = \"text-align: right;\">14</td><td style = \"text-align: left;\">Eastern Africa</td><td style = \"text-align: left;\">Comoros</td><td style = \"text-align: right;\">174</td><td style = \"text-align: left;\">KM</td><td style = \"text-align: left;\">COM</td><td style = \"text-align: left;\">x</td><td style = \"font-style: italic; text-align: left;\">missing</td><td style = \"text-align: left;\">x</td></tr><tr><td class = \"rowNumber\" style = \"font-weight: bold; text-align: right;\">11</td><td style = \"text-align: right;\">1</td><td style = \"text-align: left;\">World</td><td style = \"text-align: right;\">2</td><td style = \"text-align: left;\">Africa</td><td style = \"text-align: right;\">202</td><td style = \"text-align: left;\">Sub-Saharan Africa</td><td style = \"text-align: right;\">14</td><td style = \"text-align: left;\">Eastern Africa</td><td style = \"text-align: left;\">Djibouti</td><td style = \"text-align: right;\">262</td><td style = \"text-align: left;\">DJ</td><td style = \"text-align: left;\">DJI</td><td style = \"text-align: left;\">x</td><td style = \"font-style: italic; text-align: left;\">missing</td><td style = \"font-style: italic; text-align: left;\">missing</td></tr><tr><td class = \"rowNumber\" style = \"font-weight: bold; text-align: right;\">12</td><td style = \"text-align: right;\">1</td><td style = \"text-align: left;\">World</td><td style = \"text-align: right;\">2</td><td style = \"text-align: left;\">Africa</td><td style = \"text-align: right;\">202</td><td style = \"text-align: left;\">Sub-Saharan Africa</td><td style = \"text-align: right;\">14</td><td style = \"text-align: left;\">Eastern Africa</td><td style = \"text-align: left;\">Eritrea</td><td style = \"text-align: right;\">232</td><td style = \"text-align: left;\">ER</td><td style = \"text-align: left;\">ERI</td><td style = \"text-align: left;\">x</td><td style = \"font-style: italic; text-align: left;\">missing</td><td style = \"font-style: italic; text-align: left;\">missing</td></tr><tr><td class = \"rowNumber\" style = \"font-weight: bold; text-align: right;\">13</td><td style = \"text-align: right;\">1</td><td style = \"text-align: left;\">World</td><td style = \"text-align: right;\">2</td><td style = \"text-align: left;\">Africa</td><td style = \"text-align: right;\">202</td><td style = \"text-align: left;\">Sub-Saharan Africa</td><td style = \"text-align: right;\">14</td><td style = \"text-align: left;\">Eastern Africa</td><td style = \"text-align: left;\">Ethiopia</td><td style = \"text-align: right;\">231</td><td style = \"text-align: left;\">ET</td><td style = \"text-align: left;\">ETH</td><td style = \"text-align: left;\">x</td><td style = \"text-align: left;\">x</td><td style = \"font-style: italic; text-align: left;\">missing</td></tr><tr><td style = \"text-align: right;\">&vellip;</td><td style = \"text-align: right;\">&vellip;</td><td style = \"text-align: right;\">&vellip;</td><td style = \"text-align: right;\">&vellip;</td><td style = \"text-align: right;\">&vellip;</td><td style = \"text-align: right;\">&vellip;</td><td style = \"text-align: right;\">&vellip;</td><td style = \"text-align: right;\">&vellip;</td><td style = \"text-align: right;\">&vellip;</td><td style = \"text-align: right;\">&vellip;</td><td style = \"text-align: right;\">&vellip;</td><td style = \"text-align: right;\">&vellip;</td><td style = \"text-align: right;\">&vellip;</td><td style = \"text-align: right;\">&vellip;</td><td style = \"text-align: right;\">&vellip;</td><td style = \"text-align: right;\">&vellip;</td></tr><tr><td class = \"rowNumber\" style = \"font-weight: bold; text-align: right;\">237</td><td style = \"text-align: right;\">1</td><td style = \"text-align: left;\">World</td><td style = \"text-align: right;\">9</td><td style = \"text-align: left;\">Oceania</td><td style = \"text-align: right;\">57</td><td style = \"text-align: left;\">Micronesia</td><td style = \"text-align: right;\">missing</td><td style = \"text-align: left;\">missing</td><td style = \"text-align: left;\">Palau</td><td style = \"text-align: right;\">585</td><td style = \"text-align: left;\">PW</td><td style = \"text-align: left;\">PLW</td><td style = \"font-style: italic; text-align: left;\">missing</td><td style = \"font-style: italic; text-align: left;\">missing</td><td style = \"font-style: italic; text-align: left;\">x</td></tr><tr><td class = \"rowNumber\" style = \"font-weight: bold; text-align: right;\">238</td><td style = \"text-align: right;\">1</td><td style = \"text-align: left;\">World</td><td style = \"text-align: right;\">9</td><td style = \"text-align: left;\">Oceania</td><td style = \"text-align: right;\">57</td><td style = \"text-align: left;\">Micronesia</td><td style = \"text-align: right;\">missing</td><td style = \"text-align: left;\">missing</td><td style = \"text-align: left;\">United States Minor Outlying Islands</td><td style = \"text-align: right;\">581</td><td style = \"text-align: left;\">UM</td><td style = \"text-align: left;\">UMI</td><td style = \"font-style: italic; text-align: left;\">missing</td><td style = \"font-style: italic; text-align: left;\">missing</td><td style = \"font-style: italic; text-align: left;\">missing</td></tr><tr><td class = \"rowNumber\" style = \"font-weight: bold; text-align: right;\">239</td><td style = \"text-align: right;\">1</td><td style = \"text-align: left;\">World</td><td style = \"text-align: right;\">9</td><td style = \"text-align: left;\">Oceania</td><td style = \"text-align: right;\">61</td><td style = \"text-align: left;\">Polynesia</td><td style = \"text-align: right;\">missing</td><td style = \"text-align: left;\">missing</td><td style = \"text-align: left;\">American Samoa</td><td style = \"text-align: right;\">16</td><td style = \"text-align: left;\">AS</td><td style = \"text-align: left;\">ASM</td><td style = \"text-align: left;\">missing</td><td style = \"font-style: italic; text-align: left;\">missing</td><td style = \"font-style: italic; text-align: left;\">x</td></tr><tr><td class = \"rowNumber\" style = \"font-weight: bold; text-align: right;\">240</td><td style = \"text-align: right;\">1</td><td style = \"text-align: left;\">World</td><td style = \"text-align: right;\">9</td><td style = \"text-align: left;\">Oceania</td><td style = \"text-align: right;\">61</td><td style = \"text-align: left;\">Polynesia</td><td style = \"text-align: right;\">missing</td><td style = \"text-align: left;\">missing</td><td style = \"text-align: left;\">Cook Islands</td><td style = \"text-align: right;\">184</td><td style = \"text-align: left;\">CK</td><td style = \"text-align: left;\">COK</td><td style = \"text-align: left;\">missing</td><td style = \"text-align: left;\">missing</td><td style = \"font-style: italic; text-align: left;\">x</td></tr><tr><td class = \"rowNumber\" style = \"font-weight: bold; text-align: right;\">241</td><td style = \"text-align: right;\">1</td><td style = \"text-align: left;\">World</td><td style = \"text-align: right;\">9</td><td style = \"text-align: left;\">Oceania</td><td style = \"text-align: right;\">61</td><td style = \"text-align: left;\">Polynesia</td><td style = \"text-align: right;\">missing</td><td style = \"text-align: left;\">missing</td><td style = \"text-align: left;\">French Polynesia</td><td style = \"text-align: right;\">258</td><td style = \"text-align: left;\">PF</td><td style = \"text-align: left;\">PYF</td><td style = \"font-style: italic; text-align: left;\">missing</td><td style = \"font-style: italic; text-align: left;\">missing</td><td style = \"text-align: left;\">x</td></tr><tr><td class = \"rowNumber\" style = \"font-weight: bold; text-align: right;\">242</td><td style = \"text-align: right;\">1</td><td style = \"text-align: left;\">World</td><td style = \"text-align: right;\">9</td><td style = \"text-align: left;\">Oceania</td><td style = \"text-align: right;\">61</td><td style = \"text-align: left;\">Polynesia</td><td style = \"text-align: right;\">missing</td><td style = \"text-align: left;\">missing</td><td style = \"text-align: left;\">Niue</td><td style = \"text-align: right;\">570</td><td style = \"text-align: left;\">NU</td><td style = \"text-align: left;\">NIU</td><td style = \"font-style: italic; text-align: left;\">missing</td><td style = \"font-style: italic; text-align: left;\">missing</td><td style = \"font-style: italic; text-align: left;\">x</td></tr><tr><td class = \"rowNumber\" style = \"font-weight: bold; text-align: right;\">243</td><td style = \"text-align: right;\">1</td><td style = \"text-align: left;\">World</td><td style = \"text-align: right;\">9</td><td style = \"text-align: left;\">Oceania</td><td style = \"text-align: right;\">61</td><td style = \"text-align: left;\">Polynesia</td><td style = \"text-align: right;\">missing</td><td style = \"text-align: left;\">missing</td><td style = \"text-align: left;\">Pitcairn</td><td style = \"text-align: right;\">612</td><td style = \"text-align: left;\">PN</td><td style = \"text-align: left;\">PCN</td><td style = \"text-align: left;\">missing</td><td style = \"font-style: italic; text-align: left;\">missing</td><td style = \"font-style: italic; text-align: left;\">missing</td></tr><tr><td class = \"rowNumber\" style = \"font-weight: bold; text-align: right;\">244</td><td style = \"text-align: right;\">1</td><td style = \"text-align: left;\">World</td><td style = \"text-align: right;\">9</td><td style = \"text-align: left;\">Oceania</td><td style = \"text-align: right;\">61</td><td style = \"text-align: left;\">Polynesia</td><td style = \"text-align: right;\">missing</td><td style = \"text-align: left;\">missing</td><td style = \"text-align: left;\">Samoa</td><td style = \"text-align: right;\">882</td><td style = \"text-align: left;\">WS</td><td style = \"text-align: left;\">WSM</td><td style = \"font-style: italic; text-align: left;\">missing</td><td style = \"font-style: italic; text-align: left;\">missing</td><td style = \"font-style: italic; text-align: left;\">x</td></tr><tr><td class = \"rowNumber\" style = \"font-weight: bold; text-align: right;\">245</td><td style = \"text-align: right;\">1</td><td style = \"text-align: left;\">World</td><td style = \"text-align: right;\">9</td><td style = \"text-align: left;\">Oceania</td><td style = \"text-align: right;\">61</td><td style = \"text-align: left;\">Polynesia</td><td style = \"text-align: right;\">missing</td><td style = \"text-align: left;\">missing</td><td style = \"text-align: left;\">Tokelau</td><td style = \"text-align: right;\">772</td><td style = \"text-align: left;\">TK</td><td style = \"text-align: left;\">TKL</td><td style = \"text-align: left;\">missing</td><td style = \"text-align: left;\">missing</td><td style = \"font-style: italic; text-align: left;\">missing</td></tr><tr><td class = \"rowNumber\" style = \"font-weight: bold; text-align: right;\">246</td><td style = \"text-align: right;\">1</td><td style = \"text-align: left;\">World</td><td style = \"text-align: right;\">9</td><td style = \"text-align: left;\">Oceania</td><td style = \"text-align: right;\">61</td><td style = \"text-align: left;\">Polynesia</td><td style = \"text-align: right;\">missing</td><td style = \"text-align: left;\">missing</td><td style = \"text-align: left;\">Tonga</td><td style = \"text-align: right;\">776</td><td style = \"text-align: left;\">TO</td><td style = \"text-align: left;\">TON</td><td style = \"font-style: italic; text-align: left;\">missing</td><td style = \"font-style: italic; text-align: left;\">missing</td><td style = \"text-align: left;\">x</td></tr><tr><td class = \"rowNumber\" style = \"font-weight: bold; text-align: right;\">247</td><td style = \"text-align: right;\">1</td><td style = \"text-align: left;\">World</td><td style = \"text-align: right;\">9</td><td style = \"text-align: left;\">Oceania</td><td style = \"text-align: right;\">61</td><td style = \"text-align: left;\">Polynesia</td><td style = \"text-align: right;\">missing</td><td style = \"text-align: left;\">missing</td><td style = \"text-align: left;\">Tuvalu</td><td style = \"text-align: right;\">798</td><td style = \"text-align: left;\">TV</td><td style = \"text-align: left;\">TUV</td><td style = \"text-align: left;\">x</td><td style = \"font-style: italic; text-align: left;\">missing</td><td style = \"font-style: italic; text-align: left;\">x</td></tr><tr><td class = \"rowNumber\" style = \"font-weight: bold; text-align: right;\">248</td><td style = \"text-align: right;\">1</td><td style = \"text-align: left;\">World</td><td style = \"text-align: right;\">9</td><td style = \"text-align: left;\">Oceania</td><td style = \"text-align: right;\">61</td><td style = \"text-align: left;\">Polynesia</td><td style = \"text-align: right;\">missing</td><td style = \"text-align: left;\">missing</td><td style = \"text-align: left;\">Wallis and Futuna Islands</td><td style = \"text-align: right;\">876</td><td style = \"text-align: left;\">WF</td><td style = \"text-align: left;\">WLF</td><td style = \"text-align: left;\">missing</td><td style = \"text-align: left;\">missing</td><td style = \"font-style: italic; text-align: left;\">missing</td></tr></tbody></table></div>"
      ],
      "text/latex": [
       "\\begin{tabular}{r|ccccccc}\n",
       "\t& Global Code & Global Name & Region Code & Region Name & Sub-region Code & Sub-region Name & \\\\\n",
       "\t\\hline\n",
       "\t& Int64 & String & Int64? & String? & Int64? & String? & \\\\\n",
       "\t\\hline\n",
       "\t1 & 1 & World & 2 & Africa & 15 & Northern Africa & $\\dots$ \\\\\n",
       "\t2 & 1 & World & 2 & Africa & 15 & Northern Africa & $\\dots$ \\\\\n",
       "\t3 & 1 & World & 2 & Africa & 15 & Northern Africa & $\\dots$ \\\\\n",
       "\t4 & 1 & World & 2 & Africa & 15 & Northern Africa & $\\dots$ \\\\\n",
       "\t5 & 1 & World & 2 & Africa & 15 & Northern Africa & $\\dots$ \\\\\n",
       "\t6 & 1 & World & 2 & Africa & 15 & Northern Africa & $\\dots$ \\\\\n",
       "\t7 & 1 & World & 2 & Africa & 15 & Northern Africa & $\\dots$ \\\\\n",
       "\t8 & 1 & World & 2 & Africa & 202 & Sub-Saharan Africa & $\\dots$ \\\\\n",
       "\t9 & 1 & World & 2 & Africa & 202 & Sub-Saharan Africa & $\\dots$ \\\\\n",
       "\t10 & 1 & World & 2 & Africa & 202 & Sub-Saharan Africa & $\\dots$ \\\\\n",
       "\t11 & 1 & World & 2 & Africa & 202 & Sub-Saharan Africa & $\\dots$ \\\\\n",
       "\t12 & 1 & World & 2 & Africa & 202 & Sub-Saharan Africa & $\\dots$ \\\\\n",
       "\t13 & 1 & World & 2 & Africa & 202 & Sub-Saharan Africa & $\\dots$ \\\\\n",
       "\t14 & 1 & World & 2 & Africa & 202 & Sub-Saharan Africa & $\\dots$ \\\\\n",
       "\t15 & 1 & World & 2 & Africa & 202 & Sub-Saharan Africa & $\\dots$ \\\\\n",
       "\t16 & 1 & World & 2 & Africa & 202 & Sub-Saharan Africa & $\\dots$ \\\\\n",
       "\t17 & 1 & World & 2 & Africa & 202 & Sub-Saharan Africa & $\\dots$ \\\\\n",
       "\t18 & 1 & World & 2 & Africa & 202 & Sub-Saharan Africa & $\\dots$ \\\\\n",
       "\t19 & 1 & World & 2 & Africa & 202 & Sub-Saharan Africa & $\\dots$ \\\\\n",
       "\t20 & 1 & World & 2 & Africa & 202 & Sub-Saharan Africa & $\\dots$ \\\\\n",
       "\t21 & 1 & World & 2 & Africa & 202 & Sub-Saharan Africa & $\\dots$ \\\\\n",
       "\t22 & 1 & World & 2 & Africa & 202 & Sub-Saharan Africa & $\\dots$ \\\\\n",
       "\t23 & 1 & World & 2 & Africa & 202 & Sub-Saharan Africa & $\\dots$ \\\\\n",
       "\t24 & 1 & World & 2 & Africa & 202 & Sub-Saharan Africa & $\\dots$ \\\\\n",
       "\t25 & 1 & World & 2 & Africa & 202 & Sub-Saharan Africa & $\\dots$ \\\\\n",
       "\t26 & 1 & World & 2 & Africa & 202 & Sub-Saharan Africa & $\\dots$ \\\\\n",
       "\t27 & 1 & World & 2 & Africa & 202 & Sub-Saharan Africa & $\\dots$ \\\\\n",
       "\t28 & 1 & World & 2 & Africa & 202 & Sub-Saharan Africa & $\\dots$ \\\\\n",
       "\t29 & 1 & World & 2 & Africa & 202 & Sub-Saharan Africa & $\\dots$ \\\\\n",
       "\t30 & 1 & World & 2 & Africa & 202 & Sub-Saharan Africa & $\\dots$ \\\\\n",
       "\t$\\dots$ & $\\dots$ & $\\dots$ & $\\dots$ & $\\dots$ & $\\dots$ & $\\dots$ &  \\\\\n",
       "\\end{tabular}\n"
      ],
      "text/plain": [
       "\u001b[1m248×15 DataFrame\u001b[0m\n",
       "\u001b[1m Row \u001b[0m│\u001b[1m Global Code \u001b[0m\u001b[1m Global Name \u001b[0m\u001b[1m Region Code \u001b[0m\u001b[1m Region Name \u001b[0m\u001b[1m Sub-region Code \u001b[0m\u001b[1m Su\u001b[0m ⋯\n",
       "     │\u001b[90m Int64       \u001b[0m\u001b[90m String      \u001b[0m\u001b[90m Int64?      \u001b[0m\u001b[90m String?     \u001b[0m\u001b[90m Int64?          \u001b[0m\u001b[90m St\u001b[0m ⋯\n",
       "─────┼──────────────────────────────────────────────────────────────────────────\n",
       "   1 │           1  World                  2  Africa                    15  No ⋯\n",
       "   2 │           1  World                  2  Africa                    15  No\n",
       "   3 │           1  World                  2  Africa                    15  No\n",
       "   4 │           1  World                  2  Africa                    15  No\n",
       "   5 │           1  World                  2  Africa                    15  No ⋯\n",
       "   6 │           1  World                  2  Africa                    15  No\n",
       "   7 │           1  World                  2  Africa                    15  No\n",
       "   8 │           1  World                  2  Africa                   202  Su\n",
       "   9 │           1  World                  2  Africa                   202  Su ⋯\n",
       "  10 │           1  World                  2  Africa                   202  Su\n",
       "  11 │           1  World                  2  Africa                   202  Su\n",
       "  ⋮  │      ⋮            ⋮            ⋮            ⋮              ⋮            ⋱\n",
       " 239 │           1  World                  9  Oceania                   61  Po\n",
       " 240 │           1  World                  9  Oceania                   61  Po ⋯\n",
       " 241 │           1  World                  9  Oceania                   61  Po\n",
       " 242 │           1  World                  9  Oceania                   61  Po\n",
       " 243 │           1  World                  9  Oceania                   61  Po\n",
       " 244 │           1  World                  9  Oceania                   61  Po ⋯\n",
       " 245 │           1  World                  9  Oceania                   61  Po\n",
       " 246 │           1  World                  9  Oceania                   61  Po\n",
       " 247 │           1  World                  9  Oceania                   61  Po\n",
       " 248 │           1  World                  9  Oceania                   61  Po ⋯\n",
       "\u001b[36m                                                 10 columns and 227 rows omitted\u001b[0m"
      ]
     },
     "execution_count": 4,
     "metadata": {},
     "output_type": "execute_result"
    }
   ],
   "source": [
    "Country_Code_filter = CSV.File(\"UNSD_Methodology.csv\"; delim=';', decimal=',') |> \n",
    "    DataFrame"
   ]
  },
  {
   "cell_type": "markdown",
   "id": "12c2896d-5d90-47c6-9bbc-ba870f1cbf9b",
   "metadata": {},
   "source": [
    "### comment\n",
    "\n",
    "Luckily, we were able to find the csv files including ISO-alpha3 Code which are matching with **Country_Code** in our dataset from UN data https://unstats.un.org/unsd/methodology/m49/. There are only single countries for each observations (no world), and each countries have bigger region like sub_region, continent. It's good that this data has a taxonomy structure rather than treating the world and single country as the same level observations like the `population` dataset we have. "
   ]
  },
  {
   "cell_type": "code",
   "execution_count": 5,
   "id": "e2c9c9d2-4e02-418a-8f19-d6d49e7c4198",
   "metadata": {
    "scrolled": true
   },
   "outputs": [
    {
     "data": {
      "text/html": [
       "<div><div style = \"float: left;\"><span>240×4 DataFrame</span></div><div style = \"float: right;\"><span style = \"font-style: italic;\">215 rows omitted</span></div><div style = \"clear: both;\"></div></div><div class = \"data-frame\" style = \"overflow-x: scroll;\"><table class = \"data-frame\" style = \"margin-bottom: 6px;\"><thead><tr class = \"header\"><th class = \"rowNumber\" style = \"font-weight: bold; text-align: right;\">Row</th><th style = \"text-align: left;\">ISO 3166 Country Code</th><th style = \"text-align: left;\">Country</th><th style = \"text-align: left;\">Latitude</th><th style = \"text-align: left;\">Longitude</th></tr><tr class = \"subheader headerLastRow\"><th class = \"rowNumber\" style = \"font-weight: bold; text-align: right;\"></th><th title = \"String\" style = \"text-align: left;\">String</th><th title = \"String\" style = \"text-align: left;\">String</th><th title = \"Float64\" style = \"text-align: left;\">Float64</th><th title = \"Float64\" style = \"text-align: left;\">Float64</th></tr></thead><tbody><tr><td class = \"rowNumber\" style = \"font-weight: bold; text-align: right;\">1</td><td style = \"text-align: left;\">AD</td><td style = \"text-align: left;\">Andorra</td><td style = \"text-align: right;\">42.5</td><td style = \"text-align: right;\">1.5</td></tr><tr><td class = \"rowNumber\" style = \"font-weight: bold; text-align: right;\">2</td><td style = \"text-align: left;\">AE</td><td style = \"text-align: left;\">United Arab Emirates</td><td style = \"text-align: right;\">24.0</td><td style = \"text-align: right;\">54.0</td></tr><tr><td class = \"rowNumber\" style = \"font-weight: bold; text-align: right;\">3</td><td style = \"text-align: left;\">AF</td><td style = \"text-align: left;\">Afghanistan</td><td style = \"text-align: right;\">33.0</td><td style = \"text-align: right;\">65.0</td></tr><tr><td class = \"rowNumber\" style = \"font-weight: bold; text-align: right;\">4</td><td style = \"text-align: left;\">AG</td><td style = \"text-align: left;\">Antigua and Barbuda</td><td style = \"text-align: right;\">17.05</td><td style = \"text-align: right;\">-61.8</td></tr><tr><td class = \"rowNumber\" style = \"font-weight: bold; text-align: right;\">5</td><td style = \"text-align: left;\">AI</td><td style = \"text-align: left;\">Anguilla</td><td style = \"text-align: right;\">18.25</td><td style = \"text-align: right;\">-63.17</td></tr><tr><td class = \"rowNumber\" style = \"font-weight: bold; text-align: right;\">6</td><td style = \"text-align: left;\">AL</td><td style = \"text-align: left;\">Albania</td><td style = \"text-align: right;\">41.0</td><td style = \"text-align: right;\">20.0</td></tr><tr><td class = \"rowNumber\" style = \"font-weight: bold; text-align: right;\">7</td><td style = \"text-align: left;\">AM</td><td style = \"text-align: left;\">Armenia</td><td style = \"text-align: right;\">40.0</td><td style = \"text-align: right;\">45.0</td></tr><tr><td class = \"rowNumber\" style = \"font-weight: bold; text-align: right;\">8</td><td style = \"text-align: left;\">AN</td><td style = \"text-align: left;\">Netherlands Antilles</td><td style = \"text-align: right;\">12.25</td><td style = \"text-align: right;\">-68.75</td></tr><tr><td class = \"rowNumber\" style = \"font-weight: bold; text-align: right;\">9</td><td style = \"text-align: left;\">AO</td><td style = \"text-align: left;\">Angola</td><td style = \"text-align: right;\">-12.5</td><td style = \"text-align: right;\">18.5</td></tr><tr><td class = \"rowNumber\" style = \"font-weight: bold; text-align: right;\">10</td><td style = \"text-align: left;\">AP</td><td style = \"text-align: left;\">Asia/Pacific Region</td><td style = \"text-align: right;\">35.0</td><td style = \"text-align: right;\">105.0</td></tr><tr><td class = \"rowNumber\" style = \"font-weight: bold; text-align: right;\">11</td><td style = \"text-align: left;\">AQ</td><td style = \"text-align: left;\">Antarctica</td><td style = \"text-align: right;\">-90.0</td><td style = \"text-align: right;\">0.0</td></tr><tr><td class = \"rowNumber\" style = \"font-weight: bold; text-align: right;\">12</td><td style = \"text-align: left;\">AR</td><td style = \"text-align: left;\">Argentina</td><td style = \"text-align: right;\">-34.0</td><td style = \"text-align: right;\">-64.0</td></tr><tr><td class = \"rowNumber\" style = \"font-weight: bold; text-align: right;\">13</td><td style = \"text-align: left;\">AS</td><td style = \"text-align: left;\">American Samoa</td><td style = \"text-align: right;\">-14.33</td><td style = \"text-align: right;\">-170.0</td></tr><tr><td style = \"text-align: right;\">&vellip;</td><td style = \"text-align: right;\">&vellip;</td><td style = \"text-align: right;\">&vellip;</td><td style = \"text-align: right;\">&vellip;</td><td style = \"text-align: right;\">&vellip;</td></tr><tr><td class = \"rowNumber\" style = \"font-weight: bold; text-align: right;\">229</td><td style = \"text-align: left;\">VE</td><td style = \"text-align: left;\">Venezuela</td><td style = \"text-align: right;\">8.0</td><td style = \"text-align: right;\">-66.0</td></tr><tr><td class = \"rowNumber\" style = \"font-weight: bold; text-align: right;\">230</td><td style = \"text-align: left;\">VG</td><td style = \"text-align: left;\">Virgin Islands, British</td><td style = \"text-align: right;\">18.5</td><td style = \"text-align: right;\">-64.5</td></tr><tr><td class = \"rowNumber\" style = \"font-weight: bold; text-align: right;\">231</td><td style = \"text-align: left;\">VI</td><td style = \"text-align: left;\">Virgin Islands, U.S.</td><td style = \"text-align: right;\">18.33</td><td style = \"text-align: right;\">-64.83</td></tr><tr><td class = \"rowNumber\" style = \"font-weight: bold; text-align: right;\">232</td><td style = \"text-align: left;\">VN</td><td style = \"text-align: left;\">Vietnam</td><td style = \"text-align: right;\">16.0</td><td style = \"text-align: right;\">106.0</td></tr><tr><td class = \"rowNumber\" style = \"font-weight: bold; text-align: right;\">233</td><td style = \"text-align: left;\">VU</td><td style = \"text-align: left;\">Vanuatu</td><td style = \"text-align: right;\">-16.0</td><td style = \"text-align: right;\">167.0</td></tr><tr><td class = \"rowNumber\" style = \"font-weight: bold; text-align: right;\">234</td><td style = \"text-align: left;\">WF</td><td style = \"text-align: left;\">Wallis and Futuna</td><td style = \"text-align: right;\">-13.3</td><td style = \"text-align: right;\">-176.2</td></tr><tr><td class = \"rowNumber\" style = \"font-weight: bold; text-align: right;\">235</td><td style = \"text-align: left;\">WS</td><td style = \"text-align: left;\">Samoa</td><td style = \"text-align: right;\">-13.58</td><td style = \"text-align: right;\">-172.33</td></tr><tr><td class = \"rowNumber\" style = \"font-weight: bold; text-align: right;\">236</td><td style = \"text-align: left;\">YE</td><td style = \"text-align: left;\">Yemen</td><td style = \"text-align: right;\">15.0</td><td style = \"text-align: right;\">48.0</td></tr><tr><td class = \"rowNumber\" style = \"font-weight: bold; text-align: right;\">237</td><td style = \"text-align: left;\">YT</td><td style = \"text-align: left;\">Mayotte</td><td style = \"text-align: right;\">-12.83</td><td style = \"text-align: right;\">45.17</td></tr><tr><td class = \"rowNumber\" style = \"font-weight: bold; text-align: right;\">238</td><td style = \"text-align: left;\">ZA</td><td style = \"text-align: left;\">South Africa</td><td style = \"text-align: right;\">-29.0</td><td style = \"text-align: right;\">24.0</td></tr><tr><td class = \"rowNumber\" style = \"font-weight: bold; text-align: right;\">239</td><td style = \"text-align: left;\">ZM</td><td style = \"text-align: left;\">Zambia</td><td style = \"text-align: right;\">-15.0</td><td style = \"text-align: right;\">30.0</td></tr><tr><td class = \"rowNumber\" style = \"font-weight: bold; text-align: right;\">240</td><td style = \"text-align: left;\">ZW</td><td style = \"text-align: left;\">Zimbabwe</td><td style = \"text-align: right;\">-20.0</td><td style = \"text-align: right;\">30.0</td></tr></tbody></table></div>"
      ],
      "text/latex": [
       "\\begin{tabular}{r|cccc}\n",
       "\t& ISO 3166 Country Code & Country & Latitude & Longitude\\\\\n",
       "\t\\hline\n",
       "\t& String & String & Float64 & Float64\\\\\n",
       "\t\\hline\n",
       "\t1 & AD & Andorra & 42.5 & 1.5 \\\\\n",
       "\t2 & AE & United Arab Emirates & 24.0 & 54.0 \\\\\n",
       "\t3 & AF & Afghanistan & 33.0 & 65.0 \\\\\n",
       "\t4 & AG & Antigua and Barbuda & 17.05 & -61.8 \\\\\n",
       "\t5 & AI & Anguilla & 18.25 & -63.17 \\\\\n",
       "\t6 & AL & Albania & 41.0 & 20.0 \\\\\n",
       "\t7 & AM & Armenia & 40.0 & 45.0 \\\\\n",
       "\t8 & AN & Netherlands Antilles & 12.25 & -68.75 \\\\\n",
       "\t9 & AO & Angola & -12.5 & 18.5 \\\\\n",
       "\t10 & AP & Asia/Pacific Region & 35.0 & 105.0 \\\\\n",
       "\t11 & AQ & Antarctica & -90.0 & 0.0 \\\\\n",
       "\t12 & AR & Argentina & -34.0 & -64.0 \\\\\n",
       "\t13 & AS & American Samoa & -14.33 & -170.0 \\\\\n",
       "\t14 & AT & Austria & 47.33 & 13.33 \\\\\n",
       "\t15 & AU & Australia & -27.0 & 133.0 \\\\\n",
       "\t16 & AW & Aruba & 12.5 & -69.97 \\\\\n",
       "\t17 & AZ & Azerbaijan & 40.5 & 47.5 \\\\\n",
       "\t18 & BA & Bosnia and Herzegovina & 44.0 & 18.0 \\\\\n",
       "\t19 & BB & Barbados & 13.17 & -59.53 \\\\\n",
       "\t20 & BD & Bangladesh & 24.0 & 90.0 \\\\\n",
       "\t21 & BE & Belgium & 50.83 & 4.0 \\\\\n",
       "\t22 & BF & Burkina Faso & 13.0 & -2.0 \\\\\n",
       "\t23 & BG & Bulgaria & 43.0 & 25.0 \\\\\n",
       "\t24 & BH & Bahrain & 26.0 & 50.55 \\\\\n",
       "\t25 & BI & Burundi & -3.5 & 30.0 \\\\\n",
       "\t26 & BJ & Benin & 9.5 & 2.25 \\\\\n",
       "\t27 & BM & Bermuda & 32.33 & -64.75 \\\\\n",
       "\t28 & BN & Brunei Darussalam & 4.5 & 114.67 \\\\\n",
       "\t29 & BO & Bolivia & -17.0 & -65.0 \\\\\n",
       "\t30 & BR & Brazil & -10.0 & -55.0 \\\\\n",
       "\t$\\dots$ & $\\dots$ & $\\dots$ & $\\dots$ & $\\dots$ \\\\\n",
       "\\end{tabular}\n"
      ],
      "text/plain": [
       "\u001b[1m240×4 DataFrame\u001b[0m\n",
       "\u001b[1m Row \u001b[0m│\u001b[1m ISO 3166 Country Code \u001b[0m\u001b[1m Country                          \u001b[0m\u001b[1m Latitude \u001b[0m\u001b[1m Long\u001b[0m ⋯\n",
       "     │\u001b[90m String                \u001b[0m\u001b[90m String                           \u001b[0m\u001b[90m Float64  \u001b[0m\u001b[90m Floa\u001b[0m ⋯\n",
       "─────┼──────────────────────────────────────────────────────────────────────────\n",
       "   1 │ AD                     Andorra                              42.5        ⋯\n",
       "   2 │ AE                     United Arab Emirates                 24.0\n",
       "   3 │ AF                     Afghanistan                          33.0\n",
       "   4 │ AG                     Antigua and Barbuda                  17.05     -\n",
       "   5 │ AI                     Anguilla                             18.25     - ⋯\n",
       "   6 │ AL                     Albania                              41.0\n",
       "   7 │ AM                     Armenia                              40.0\n",
       "   8 │ AN                     Netherlands Antilles                 12.25     -\n",
       "   9 │ AO                     Angola                              -12.5        ⋯\n",
       "  10 │ AP                     Asia/Pacific Region                  35.0      1\n",
       "  11 │ AQ                     Antarctica                          -90.0\n",
       "  ⋮  │           ⋮                           ⋮                     ⋮           ⋱\n",
       " 231 │ VI                     Virgin Islands, U.S.                 18.33     -\n",
       " 232 │ VN                     Vietnam                              16.0      1 ⋯\n",
       " 233 │ VU                     Vanuatu                             -16.0      1\n",
       " 234 │ WF                     Wallis and Futuna                   -13.3     -1\n",
       " 235 │ WS                     Samoa                               -13.58    -1\n",
       " 236 │ YE                     Yemen                                15.0        ⋯\n",
       " 237 │ YT                     Mayotte                             -12.83\n",
       " 238 │ ZA                     South Africa                        -29.0\n",
       " 239 │ ZM                     Zambia                              -15.0\n",
       " 240 │ ZW                     Zimbabwe                            -20.0        ⋯\n",
       "\u001b[36m                                                   1 column and 219 rows omitted\u001b[0m"
      ]
     },
     "execution_count": 5,
     "metadata": {},
     "output_type": "execute_result"
    }
   ],
   "source": [
    "Geo_info = CSV.read(\"average_latitude_longitude_countries.csv\", DataFrame)"
   ]
  },
  {
   "cell_type": "markdown",
   "id": "97ea28b9-ab51-4a6f-9fcf-97dbe0a880c5",
   "metadata": {},
   "source": [
    "### comment\n",
    "\n",
    "Read `average_latitude_longitude_countries.csv` (from https://github.com/albertyw/avenews/blob/master/old/data/average-latitude-longitude-countries.csv) file which contains geographic information (Latitude, Longitude) for each country. We wanted to use geographic information as well but we could not join this table to existing tables becuase it has only ISO 2 letter code, not 3 letter code. Now, we checked there is **ISO-alpha2 code** in the `Country_Code_filter` table. We can join this table to any table defined in Notebook 1 that has ISO-alpha 3 code."
   ]
  },
  {
   "cell_type": "code",
   "execution_count": 6,
   "id": "233f00bc-0d2b-4c94-9aeb-187e4a153da9",
   "metadata": {
    "scrolled": true
   },
   "outputs": [
    {
     "data": {
      "text/html": [
       "<div><div style = \"float: left;\"><span>248×4 DataFrame</span></div><div style = \"float: right;\"><span style = \"font-style: italic;\">223 rows omitted</span></div><div style = \"clear: both;\"></div></div><div class = \"data-frame\" style = \"overflow-x: scroll;\"><table class = \"data-frame\" style = \"margin-bottom: 6px;\"><thead><tr class = \"header\"><th class = \"rowNumber\" style = \"font-weight: bold; text-align: right;\">Row</th><th style = \"text-align: left;\">Region Name</th><th style = \"text-align: left;\">Country or Area</th><th style = \"text-align: left;\">ISO-alpha2 Code</th><th style = \"text-align: left;\">ISO-alpha3 Code</th></tr><tr class = \"subheader headerLastRow\"><th class = \"rowNumber\" style = \"font-weight: bold; text-align: right;\"></th><th title = \"Union{Missing, String}\" style = \"text-align: left;\">String?</th><th title = \"String\" style = \"text-align: left;\">String</th><th title = \"String\" style = \"text-align: left;\">String</th><th title = \"String\" style = \"text-align: left;\">String</th></tr></thead><tbody><tr><td class = \"rowNumber\" style = \"font-weight: bold; text-align: right;\">1</td><td style = \"text-align: left;\">Africa</td><td style = \"text-align: left;\">Algeria</td><td style = \"text-align: left;\">DZ</td><td style = \"text-align: left;\">DZA</td></tr><tr><td class = \"rowNumber\" style = \"font-weight: bold; text-align: right;\">2</td><td style = \"text-align: left;\">Africa</td><td style = \"text-align: left;\">Egypt</td><td style = \"text-align: left;\">EG</td><td style = \"text-align: left;\">EGY</td></tr><tr><td class = \"rowNumber\" style = \"font-weight: bold; text-align: right;\">3</td><td style = \"text-align: left;\">Africa</td><td style = \"text-align: left;\">Libya</td><td style = \"text-align: left;\">LY</td><td style = \"text-align: left;\">LBY</td></tr><tr><td class = \"rowNumber\" style = \"font-weight: bold; text-align: right;\">4</td><td style = \"text-align: left;\">Africa</td><td style = \"text-align: left;\">Morocco</td><td style = \"text-align: left;\">MA</td><td style = \"text-align: left;\">MAR</td></tr><tr><td class = \"rowNumber\" style = \"font-weight: bold; text-align: right;\">5</td><td style = \"text-align: left;\">Africa</td><td style = \"text-align: left;\">Sudan</td><td style = \"text-align: left;\">SD</td><td style = \"text-align: left;\">SDN</td></tr><tr><td class = \"rowNumber\" style = \"font-weight: bold; text-align: right;\">6</td><td style = \"text-align: left;\">Africa</td><td style = \"text-align: left;\">Tunisia</td><td style = \"text-align: left;\">TN</td><td style = \"text-align: left;\">TUN</td></tr><tr><td class = \"rowNumber\" style = \"font-weight: bold; text-align: right;\">7</td><td style = \"text-align: left;\">Africa</td><td style = \"text-align: left;\">Western Sahara</td><td style = \"text-align: left;\">EH</td><td style = \"text-align: left;\">ESH</td></tr><tr><td class = \"rowNumber\" style = \"font-weight: bold; text-align: right;\">8</td><td style = \"text-align: left;\">Africa</td><td style = \"text-align: left;\">British Indian Ocean Territory</td><td style = \"text-align: left;\">IO</td><td style = \"text-align: left;\">IOT</td></tr><tr><td class = \"rowNumber\" style = \"font-weight: bold; text-align: right;\">9</td><td style = \"text-align: left;\">Africa</td><td style = \"text-align: left;\">Burundi</td><td style = \"text-align: left;\">BI</td><td style = \"text-align: left;\">BDI</td></tr><tr><td class = \"rowNumber\" style = \"font-weight: bold; text-align: right;\">10</td><td style = \"text-align: left;\">Africa</td><td style = \"text-align: left;\">Comoros</td><td style = \"text-align: left;\">KM</td><td style = \"text-align: left;\">COM</td></tr><tr><td class = \"rowNumber\" style = \"font-weight: bold; text-align: right;\">11</td><td style = \"text-align: left;\">Africa</td><td style = \"text-align: left;\">Djibouti</td><td style = \"text-align: left;\">DJ</td><td style = \"text-align: left;\">DJI</td></tr><tr><td class = \"rowNumber\" style = \"font-weight: bold; text-align: right;\">12</td><td style = \"text-align: left;\">Africa</td><td style = \"text-align: left;\">Eritrea</td><td style = \"text-align: left;\">ER</td><td style = \"text-align: left;\">ERI</td></tr><tr><td class = \"rowNumber\" style = \"font-weight: bold; text-align: right;\">13</td><td style = \"text-align: left;\">Africa</td><td style = \"text-align: left;\">Ethiopia</td><td style = \"text-align: left;\">ET</td><td style = \"text-align: left;\">ETH</td></tr><tr><td style = \"text-align: right;\">&vellip;</td><td style = \"text-align: right;\">&vellip;</td><td style = \"text-align: right;\">&vellip;</td><td style = \"text-align: right;\">&vellip;</td><td style = \"text-align: right;\">&vellip;</td></tr><tr><td class = \"rowNumber\" style = \"font-weight: bold; text-align: right;\">237</td><td style = \"text-align: left;\">Oceania</td><td style = \"text-align: left;\">Palau</td><td style = \"text-align: left;\">PW</td><td style = \"text-align: left;\">PLW</td></tr><tr><td class = \"rowNumber\" style = \"font-weight: bold; text-align: right;\">238</td><td style = \"text-align: left;\">Oceania</td><td style = \"text-align: left;\">United States Minor Outlying Islands</td><td style = \"text-align: left;\">UM</td><td style = \"text-align: left;\">UMI</td></tr><tr><td class = \"rowNumber\" style = \"font-weight: bold; text-align: right;\">239</td><td style = \"text-align: left;\">Oceania</td><td style = \"text-align: left;\">American Samoa</td><td style = \"text-align: left;\">AS</td><td style = \"text-align: left;\">ASM</td></tr><tr><td class = \"rowNumber\" style = \"font-weight: bold; text-align: right;\">240</td><td style = \"text-align: left;\">Oceania</td><td style = \"text-align: left;\">Cook Islands</td><td style = \"text-align: left;\">CK</td><td style = \"text-align: left;\">COK</td></tr><tr><td class = \"rowNumber\" style = \"font-weight: bold; text-align: right;\">241</td><td style = \"text-align: left;\">Oceania</td><td style = \"text-align: left;\">French Polynesia</td><td style = \"text-align: left;\">PF</td><td style = \"text-align: left;\">PYF</td></tr><tr><td class = \"rowNumber\" style = \"font-weight: bold; text-align: right;\">242</td><td style = \"text-align: left;\">Oceania</td><td style = \"text-align: left;\">Niue</td><td style = \"text-align: left;\">NU</td><td style = \"text-align: left;\">NIU</td></tr><tr><td class = \"rowNumber\" style = \"font-weight: bold; text-align: right;\">243</td><td style = \"text-align: left;\">Oceania</td><td style = \"text-align: left;\">Pitcairn</td><td style = \"text-align: left;\">PN</td><td style = \"text-align: left;\">PCN</td></tr><tr><td class = \"rowNumber\" style = \"font-weight: bold; text-align: right;\">244</td><td style = \"text-align: left;\">Oceania</td><td style = \"text-align: left;\">Samoa</td><td style = \"text-align: left;\">WS</td><td style = \"text-align: left;\">WSM</td></tr><tr><td class = \"rowNumber\" style = \"font-weight: bold; text-align: right;\">245</td><td style = \"text-align: left;\">Oceania</td><td style = \"text-align: left;\">Tokelau</td><td style = \"text-align: left;\">TK</td><td style = \"text-align: left;\">TKL</td></tr><tr><td class = \"rowNumber\" style = \"font-weight: bold; text-align: right;\">246</td><td style = \"text-align: left;\">Oceania</td><td style = \"text-align: left;\">Tonga</td><td style = \"text-align: left;\">TO</td><td style = \"text-align: left;\">TON</td></tr><tr><td class = \"rowNumber\" style = \"font-weight: bold; text-align: right;\">247</td><td style = \"text-align: left;\">Oceania</td><td style = \"text-align: left;\">Tuvalu</td><td style = \"text-align: left;\">TV</td><td style = \"text-align: left;\">TUV</td></tr><tr><td class = \"rowNumber\" style = \"font-weight: bold; text-align: right;\">248</td><td style = \"text-align: left;\">Oceania</td><td style = \"text-align: left;\">Wallis and Futuna Islands</td><td style = \"text-align: left;\">WF</td><td style = \"text-align: left;\">WLF</td></tr></tbody></table></div>"
      ],
      "text/latex": [
       "\\begin{tabular}{r|cccc}\n",
       "\t& Region Name & Country or Area & ISO-alpha2 Code & ISO-alpha3 Code\\\\\n",
       "\t\\hline\n",
       "\t& String? & String & String & String\\\\\n",
       "\t\\hline\n",
       "\t1 & Africa & Algeria & DZ & DZA \\\\\n",
       "\t2 & Africa & Egypt & EG & EGY \\\\\n",
       "\t3 & Africa & Libya & LY & LBY \\\\\n",
       "\t4 & Africa & Morocco & MA & MAR \\\\\n",
       "\t5 & Africa & Sudan & SD & SDN \\\\\n",
       "\t6 & Africa & Tunisia & TN & TUN \\\\\n",
       "\t7 & Africa & Western Sahara & EH & ESH \\\\\n",
       "\t8 & Africa & British Indian Ocean Territory & IO & IOT \\\\\n",
       "\t9 & Africa & Burundi & BI & BDI \\\\\n",
       "\t10 & Africa & Comoros & KM & COM \\\\\n",
       "\t11 & Africa & Djibouti & DJ & DJI \\\\\n",
       "\t12 & Africa & Eritrea & ER & ERI \\\\\n",
       "\t13 & Africa & Ethiopia & ET & ETH \\\\\n",
       "\t14 & Africa & French Southern Territories & TF & ATF \\\\\n",
       "\t15 & Africa & Kenya & KE & KEN \\\\\n",
       "\t16 & Africa & Madagascar & MG & MDG \\\\\n",
       "\t17 & Africa & Malawi & MW & MWI \\\\\n",
       "\t18 & Africa & Mauritius & MU & MUS \\\\\n",
       "\t19 & Africa & Mayotte & YT & MYT \\\\\n",
       "\t20 & Africa & Mozambique & MZ & MOZ \\\\\n",
       "\t21 & Africa & Réunion & RE & REU \\\\\n",
       "\t22 & Africa & Rwanda & RW & RWA \\\\\n",
       "\t23 & Africa & Seychelles & SC & SYC \\\\\n",
       "\t24 & Africa & Somalia & SO & SOM \\\\\n",
       "\t25 & Africa & South Sudan & SS & SSD \\\\\n",
       "\t26 & Africa & Uganda & UG & UGA \\\\\n",
       "\t27 & Africa & United Republic of Tanzania & TZ & TZA \\\\\n",
       "\t28 & Africa & Zambia & ZM & ZMB \\\\\n",
       "\t29 & Africa & Zimbabwe & ZW & ZWE \\\\\n",
       "\t30 & Africa & Angola & AO & AGO \\\\\n",
       "\t$\\dots$ & $\\dots$ & $\\dots$ & $\\dots$ & $\\dots$ \\\\\n",
       "\\end{tabular}\n"
      ],
      "text/plain": [
       "\u001b[1m248×4 DataFrame\u001b[0m\n",
       "\u001b[1m Row \u001b[0m│\u001b[1m Region Name \u001b[0m\u001b[1m Country or Area                   \u001b[0m\u001b[1m ISO-alpha2 Code \u001b[0m\u001b[1m ISO-al\u001b[0m ⋯\n",
       "     │\u001b[90m String?     \u001b[0m\u001b[90m String                            \u001b[0m\u001b[90m String          \u001b[0m\u001b[90m String\u001b[0m ⋯\n",
       "─────┼──────────────────────────────────────────────────────────────────────────\n",
       "   1 │ Africa       Algeria                            DZ               DZA    ⋯\n",
       "   2 │ Africa       Egypt                              EG               EGY\n",
       "   3 │ Africa       Libya                              LY               LBY\n",
       "   4 │ Africa       Morocco                            MA               MAR\n",
       "   5 │ Africa       Sudan                              SD               SDN    ⋯\n",
       "   6 │ Africa       Tunisia                            TN               TUN\n",
       "   7 │ Africa       Western Sahara                     EH               ESH\n",
       "   8 │ Africa       British Indian Ocean Territory     IO               IOT\n",
       "   9 │ Africa       Burundi                            BI               BDI    ⋯\n",
       "  10 │ Africa       Comoros                            KM               COM\n",
       "  11 │ Africa       Djibouti                           DJ               DJI\n",
       "  ⋮  │      ⋮                       ⋮                         ⋮                ⋱\n",
       " 239 │ Oceania      American Samoa                     AS               ASM\n",
       " 240 │ Oceania      Cook Islands                       CK               COK    ⋯\n",
       " 241 │ Oceania      French Polynesia                   PF               PYF\n",
       " 242 │ Oceania      Niue                               NU               NIU\n",
       " 243 │ Oceania      Pitcairn                           PN               PCN\n",
       " 244 │ Oceania      Samoa                              WS               WSM    ⋯\n",
       " 245 │ Oceania      Tokelau                            TK               TKL\n",
       " 246 │ Oceania      Tonga                              TO               TON\n",
       " 247 │ Oceania      Tuvalu                             TV               TUV\n",
       " 248 │ Oceania      Wallis and Futuna Islands          WF               WLF    ⋯\n",
       "\u001b[36m                                                   1 column and 227 rows omitted\u001b[0m"
      ]
     },
     "execution_count": 6,
     "metadata": {},
     "output_type": "execute_result"
    }
   ],
   "source": [
    "Country_Code_filter = select(Country_Code_filter, \n",
    "    :\"Region Name\", \n",
    "    :\"Country or Area\", \n",
    "    :\"ISO-alpha2 Code\",\n",
    "    :\"ISO-alpha3 Code\")"
   ]
  },
  {
   "cell_type": "markdown",
   "id": "262a6c8b-cfd8-4b86-8516-c6ea678a1713",
   "metadata": {},
   "source": [
    "### comment\n",
    "\n",
    "First, we selected some columns we need. We don't need some columns like **ISO-alpha2 Code** because we will use alpha3 code. So, we extracted columns **Region Code**, **Region Name**, **Sub-region Code**, **Sub-region Name**, **Country or Area**, and **ISO-alpha3 Code** using `select()` function. This function is the same as R code."
   ]
  },
  {
   "cell_type": "code",
   "execution_count": 7,
   "id": "8bffefe6-ea6f-448e-928e-1d4292868135",
   "metadata": {
    "scrolled": true
   },
   "outputs": [
    {
     "data": {
      "text/html": [
       "<div><div style = \"float: left;\"><span>248×4 DataFrame</span></div><div style = \"float: right;\"><span style = \"font-style: italic;\">223 rows omitted</span></div><div style = \"clear: both;\"></div></div><div class = \"data-frame\" style = \"overflow-x: scroll;\"><table class = \"data-frame\" style = \"margin-bottom: 6px;\"><thead><tr class = \"header\"><th class = \"rowNumber\" style = \"font-weight: bold; text-align: right;\">Row</th><th style = \"text-align: left;\">Region_Name</th><th style = \"text-align: left;\">Country_Name</th><th style = \"text-align: left;\">County_Code_alpha2</th><th style = \"text-align: left;\">Country_Code</th></tr><tr class = \"subheader headerLastRow\"><th class = \"rowNumber\" style = \"font-weight: bold; text-align: right;\"></th><th title = \"Union{Missing, String}\" style = \"text-align: left;\">String?</th><th title = \"String\" style = \"text-align: left;\">String</th><th title = \"String\" style = \"text-align: left;\">String</th><th title = \"String\" style = \"text-align: left;\">String</th></tr></thead><tbody><tr><td class = \"rowNumber\" style = \"font-weight: bold; text-align: right;\">1</td><td style = \"text-align: left;\">Africa</td><td style = \"text-align: left;\">Algeria</td><td style = \"text-align: left;\">DZ</td><td style = \"text-align: left;\">DZA</td></tr><tr><td class = \"rowNumber\" style = \"font-weight: bold; text-align: right;\">2</td><td style = \"text-align: left;\">Africa</td><td style = \"text-align: left;\">Egypt</td><td style = \"text-align: left;\">EG</td><td style = \"text-align: left;\">EGY</td></tr><tr><td class = \"rowNumber\" style = \"font-weight: bold; text-align: right;\">3</td><td style = \"text-align: left;\">Africa</td><td style = \"text-align: left;\">Libya</td><td style = \"text-align: left;\">LY</td><td style = \"text-align: left;\">LBY</td></tr><tr><td class = \"rowNumber\" style = \"font-weight: bold; text-align: right;\">4</td><td style = \"text-align: left;\">Africa</td><td style = \"text-align: left;\">Morocco</td><td style = \"text-align: left;\">MA</td><td style = \"text-align: left;\">MAR</td></tr><tr><td class = \"rowNumber\" style = \"font-weight: bold; text-align: right;\">5</td><td style = \"text-align: left;\">Africa</td><td style = \"text-align: left;\">Sudan</td><td style = \"text-align: left;\">SD</td><td style = \"text-align: left;\">SDN</td></tr><tr><td class = \"rowNumber\" style = \"font-weight: bold; text-align: right;\">6</td><td style = \"text-align: left;\">Africa</td><td style = \"text-align: left;\">Tunisia</td><td style = \"text-align: left;\">TN</td><td style = \"text-align: left;\">TUN</td></tr><tr><td class = \"rowNumber\" style = \"font-weight: bold; text-align: right;\">7</td><td style = \"text-align: left;\">Africa</td><td style = \"text-align: left;\">Western Sahara</td><td style = \"text-align: left;\">EH</td><td style = \"text-align: left;\">ESH</td></tr><tr><td class = \"rowNumber\" style = \"font-weight: bold; text-align: right;\">8</td><td style = \"text-align: left;\">Africa</td><td style = \"text-align: left;\">British Indian Ocean Territory</td><td style = \"text-align: left;\">IO</td><td style = \"text-align: left;\">IOT</td></tr><tr><td class = \"rowNumber\" style = \"font-weight: bold; text-align: right;\">9</td><td style = \"text-align: left;\">Africa</td><td style = \"text-align: left;\">Burundi</td><td style = \"text-align: left;\">BI</td><td style = \"text-align: left;\">BDI</td></tr><tr><td class = \"rowNumber\" style = \"font-weight: bold; text-align: right;\">10</td><td style = \"text-align: left;\">Africa</td><td style = \"text-align: left;\">Comoros</td><td style = \"text-align: left;\">KM</td><td style = \"text-align: left;\">COM</td></tr><tr><td class = \"rowNumber\" style = \"font-weight: bold; text-align: right;\">11</td><td style = \"text-align: left;\">Africa</td><td style = \"text-align: left;\">Djibouti</td><td style = \"text-align: left;\">DJ</td><td style = \"text-align: left;\">DJI</td></tr><tr><td class = \"rowNumber\" style = \"font-weight: bold; text-align: right;\">12</td><td style = \"text-align: left;\">Africa</td><td style = \"text-align: left;\">Eritrea</td><td style = \"text-align: left;\">ER</td><td style = \"text-align: left;\">ERI</td></tr><tr><td class = \"rowNumber\" style = \"font-weight: bold; text-align: right;\">13</td><td style = \"text-align: left;\">Africa</td><td style = \"text-align: left;\">Ethiopia</td><td style = \"text-align: left;\">ET</td><td style = \"text-align: left;\">ETH</td></tr><tr><td style = \"text-align: right;\">&vellip;</td><td style = \"text-align: right;\">&vellip;</td><td style = \"text-align: right;\">&vellip;</td><td style = \"text-align: right;\">&vellip;</td><td style = \"text-align: right;\">&vellip;</td></tr><tr><td class = \"rowNumber\" style = \"font-weight: bold; text-align: right;\">237</td><td style = \"text-align: left;\">Oceania</td><td style = \"text-align: left;\">Palau</td><td style = \"text-align: left;\">PW</td><td style = \"text-align: left;\">PLW</td></tr><tr><td class = \"rowNumber\" style = \"font-weight: bold; text-align: right;\">238</td><td style = \"text-align: left;\">Oceania</td><td style = \"text-align: left;\">United States Minor Outlying Islands</td><td style = \"text-align: left;\">UM</td><td style = \"text-align: left;\">UMI</td></tr><tr><td class = \"rowNumber\" style = \"font-weight: bold; text-align: right;\">239</td><td style = \"text-align: left;\">Oceania</td><td style = \"text-align: left;\">American Samoa</td><td style = \"text-align: left;\">AS</td><td style = \"text-align: left;\">ASM</td></tr><tr><td class = \"rowNumber\" style = \"font-weight: bold; text-align: right;\">240</td><td style = \"text-align: left;\">Oceania</td><td style = \"text-align: left;\">Cook Islands</td><td style = \"text-align: left;\">CK</td><td style = \"text-align: left;\">COK</td></tr><tr><td class = \"rowNumber\" style = \"font-weight: bold; text-align: right;\">241</td><td style = \"text-align: left;\">Oceania</td><td style = \"text-align: left;\">French Polynesia</td><td style = \"text-align: left;\">PF</td><td style = \"text-align: left;\">PYF</td></tr><tr><td class = \"rowNumber\" style = \"font-weight: bold; text-align: right;\">242</td><td style = \"text-align: left;\">Oceania</td><td style = \"text-align: left;\">Niue</td><td style = \"text-align: left;\">NU</td><td style = \"text-align: left;\">NIU</td></tr><tr><td class = \"rowNumber\" style = \"font-weight: bold; text-align: right;\">243</td><td style = \"text-align: left;\">Oceania</td><td style = \"text-align: left;\">Pitcairn</td><td style = \"text-align: left;\">PN</td><td style = \"text-align: left;\">PCN</td></tr><tr><td class = \"rowNumber\" style = \"font-weight: bold; text-align: right;\">244</td><td style = \"text-align: left;\">Oceania</td><td style = \"text-align: left;\">Samoa</td><td style = \"text-align: left;\">WS</td><td style = \"text-align: left;\">WSM</td></tr><tr><td class = \"rowNumber\" style = \"font-weight: bold; text-align: right;\">245</td><td style = \"text-align: left;\">Oceania</td><td style = \"text-align: left;\">Tokelau</td><td style = \"text-align: left;\">TK</td><td style = \"text-align: left;\">TKL</td></tr><tr><td class = \"rowNumber\" style = \"font-weight: bold; text-align: right;\">246</td><td style = \"text-align: left;\">Oceania</td><td style = \"text-align: left;\">Tonga</td><td style = \"text-align: left;\">TO</td><td style = \"text-align: left;\">TON</td></tr><tr><td class = \"rowNumber\" style = \"font-weight: bold; text-align: right;\">247</td><td style = \"text-align: left;\">Oceania</td><td style = \"text-align: left;\">Tuvalu</td><td style = \"text-align: left;\">TV</td><td style = \"text-align: left;\">TUV</td></tr><tr><td class = \"rowNumber\" style = \"font-weight: bold; text-align: right;\">248</td><td style = \"text-align: left;\">Oceania</td><td style = \"text-align: left;\">Wallis and Futuna Islands</td><td style = \"text-align: left;\">WF</td><td style = \"text-align: left;\">WLF</td></tr></tbody></table></div>"
      ],
      "text/latex": [
       "\\begin{tabular}{r|cccc}\n",
       "\t& Region\\_Name & Country\\_Name & County\\_Code\\_alpha2 & Country\\_Code\\\\\n",
       "\t\\hline\n",
       "\t& String? & String & String & String\\\\\n",
       "\t\\hline\n",
       "\t1 & Africa & Algeria & DZ & DZA \\\\\n",
       "\t2 & Africa & Egypt & EG & EGY \\\\\n",
       "\t3 & Africa & Libya & LY & LBY \\\\\n",
       "\t4 & Africa & Morocco & MA & MAR \\\\\n",
       "\t5 & Africa & Sudan & SD & SDN \\\\\n",
       "\t6 & Africa & Tunisia & TN & TUN \\\\\n",
       "\t7 & Africa & Western Sahara & EH & ESH \\\\\n",
       "\t8 & Africa & British Indian Ocean Territory & IO & IOT \\\\\n",
       "\t9 & Africa & Burundi & BI & BDI \\\\\n",
       "\t10 & Africa & Comoros & KM & COM \\\\\n",
       "\t11 & Africa & Djibouti & DJ & DJI \\\\\n",
       "\t12 & Africa & Eritrea & ER & ERI \\\\\n",
       "\t13 & Africa & Ethiopia & ET & ETH \\\\\n",
       "\t14 & Africa & French Southern Territories & TF & ATF \\\\\n",
       "\t15 & Africa & Kenya & KE & KEN \\\\\n",
       "\t16 & Africa & Madagascar & MG & MDG \\\\\n",
       "\t17 & Africa & Malawi & MW & MWI \\\\\n",
       "\t18 & Africa & Mauritius & MU & MUS \\\\\n",
       "\t19 & Africa & Mayotte & YT & MYT \\\\\n",
       "\t20 & Africa & Mozambique & MZ & MOZ \\\\\n",
       "\t21 & Africa & Réunion & RE & REU \\\\\n",
       "\t22 & Africa & Rwanda & RW & RWA \\\\\n",
       "\t23 & Africa & Seychelles & SC & SYC \\\\\n",
       "\t24 & Africa & Somalia & SO & SOM \\\\\n",
       "\t25 & Africa & South Sudan & SS & SSD \\\\\n",
       "\t26 & Africa & Uganda & UG & UGA \\\\\n",
       "\t27 & Africa & United Republic of Tanzania & TZ & TZA \\\\\n",
       "\t28 & Africa & Zambia & ZM & ZMB \\\\\n",
       "\t29 & Africa & Zimbabwe & ZW & ZWE \\\\\n",
       "\t30 & Africa & Angola & AO & AGO \\\\\n",
       "\t$\\dots$ & $\\dots$ & $\\dots$ & $\\dots$ & $\\dots$ \\\\\n",
       "\\end{tabular}\n"
      ],
      "text/plain": [
       "\u001b[1m248×4 DataFrame\u001b[0m\n",
       "\u001b[1m Row \u001b[0m│\u001b[1m Region_Name \u001b[0m\u001b[1m Country_Name                      \u001b[0m\u001b[1m County_Code_alpha2 \u001b[0m\u001b[1m Cou\u001b[0m ⋯\n",
       "     │\u001b[90m String?     \u001b[0m\u001b[90m String                            \u001b[0m\u001b[90m String             \u001b[0m\u001b[90m Str\u001b[0m ⋯\n",
       "─────┼──────────────────────────────────────────────────────────────────────────\n",
       "   1 │ Africa       Algeria                            DZ                  DZA ⋯\n",
       "   2 │ Africa       Egypt                              EG                  EGY\n",
       "   3 │ Africa       Libya                              LY                  LBY\n",
       "   4 │ Africa       Morocco                            MA                  MAR\n",
       "   5 │ Africa       Sudan                              SD                  SDN ⋯\n",
       "   6 │ Africa       Tunisia                            TN                  TUN\n",
       "   7 │ Africa       Western Sahara                     EH                  ESH\n",
       "   8 │ Africa       British Indian Ocean Territory     IO                  IOT\n",
       "   9 │ Africa       Burundi                            BI                  BDI ⋯\n",
       "  10 │ Africa       Comoros                            KM                  COM\n",
       "  11 │ Africa       Djibouti                           DJ                  DJI\n",
       "  ⋮  │      ⋮                       ⋮                          ⋮               ⋱\n",
       " 239 │ Oceania      American Samoa                     AS                  ASM\n",
       " 240 │ Oceania      Cook Islands                       CK                  COK ⋯\n",
       " 241 │ Oceania      French Polynesia                   PF                  PYF\n",
       " 242 │ Oceania      Niue                               NU                  NIU\n",
       " 243 │ Oceania      Pitcairn                           PN                  PCN\n",
       " 244 │ Oceania      Samoa                              WS                  WSM ⋯\n",
       " 245 │ Oceania      Tokelau                            TK                  TKL\n",
       " 246 │ Oceania      Tonga                              TO                  TON\n",
       " 247 │ Oceania      Tuvalu                             TV                  TUV\n",
       " 248 │ Oceania      Wallis and Futuna Islands          WF                  WLF ⋯\n",
       "\u001b[36m                                                   1 column and 227 rows omitted\u001b[0m"
      ]
     },
     "execution_count": 7,
     "metadata": {},
     "output_type": "execute_result"
    }
   ],
   "source": [
    "Country_Code_filter = rename!(Country_Code_filter,\n",
    "    :\"Region Name\" => \"Region_Name\",\n",
    "    :\"Country or Area\" => \"Country_Name\",\n",
    "    :\"ISO-alpha2 Code\" => \"County_Code_alpha2\",\n",
    "    :\"ISO-alpha3 Code\" => \"Country_Code\")"
   ]
  },
  {
   "cell_type": "markdown",
   "id": "1aa84505-7698-4259-954e-4f8e3de3ea3f",
   "metadata": {},
   "source": [
    "### comment\n",
    "\n",
    "For usability, we renamed the columns. Especially, it was essential to have the same name of key column for joining two tables. So we changed the column **Country or Area** to **Country_Name** and **ISO-alpha3 Code** to **Country_Code** to synchronise with `population` table. Just whitespaces were replaced by underscore for other columns. The function `rename()` was used for this and this is also the same as `rename()` function in R."
   ]
  },
  {
   "cell_type": "code",
   "execution_count": 8,
   "id": "54c32077-ecd1-4940-a098-dbcf0f5db5ac",
   "metadata": {
    "scrolled": true
   },
   "outputs": [
    {
     "data": {
      "text/html": [
       "<div><div style = \"float: left;\"><span>13299×7 DataFrame</span></div><div style = \"float: right;\"><span style = \"font-style: italic;\">13274 rows omitted</span></div><div style = \"clear: both;\"></div></div><div class = \"data-frame\" style = \"overflow-x: scroll;\"><table class = \"data-frame\" style = \"margin-bottom: 6px;\"><thead><tr class = \"header\"><th class = \"rowNumber\" style = \"font-weight: bold; text-align: right;\">Row</th><th style = \"text-align: left;\">Country_Code</th><th style = \"text-align: left;\">Year</th><th style = \"text-align: left;\">Population</th><th style = \"text-align: left;\">Population_Growth_Rate</th><th style = \"text-align: left;\">Region_Name</th><th style = \"text-align: left;\">Country_Name</th><th style = \"text-align: left;\">County_Code_alpha2</th></tr><tr class = \"subheader headerLastRow\"><th class = \"rowNumber\" style = \"font-weight: bold; text-align: right;\"></th><th title = \"String\" style = \"text-align: left;\">String</th><th title = \"Int64\" style = \"text-align: left;\">Int64</th><th title = \"Int64\" style = \"text-align: left;\">Int64</th><th title = \"Float64\" style = \"text-align: left;\">Float64</th><th title = \"Union{Missing, String}\" style = \"text-align: left;\">String?</th><th title = \"String\" style = \"text-align: left;\">String</th><th title = \"String\" style = \"text-align: left;\">String</th></tr></thead><tbody><tr><td class = \"rowNumber\" style = \"font-weight: bold; text-align: right;\">1</td><td style = \"text-align: left;\">ABW</td><td style = \"text-align: right;\">1961</td><td style = \"text-align: right;\">55811</td><td style = \"text-align: right;\">2.17906</td><td style = \"text-align: left;\">Americas</td><td style = \"text-align: left;\">Aruba</td><td style = \"text-align: left;\">AW</td></tr><tr><td class = \"rowNumber\" style = \"font-weight: bold; text-align: right;\">2</td><td style = \"text-align: left;\">AFG</td><td style = \"text-align: right;\">1961</td><td style = \"text-align: right;\">8790140</td><td style = \"text-align: right;\">1.92595</td><td style = \"text-align: left;\">Asia</td><td style = \"text-align: left;\">Afghanistan</td><td style = \"text-align: left;\">AF</td></tr><tr><td class = \"rowNumber\" style = \"font-weight: bold; text-align: right;\">3</td><td style = \"text-align: left;\">AGO</td><td style = \"text-align: right;\">1961</td><td style = \"text-align: right;\">5441333</td><td style = \"text-align: right;\">1.55836</td><td style = \"text-align: left;\">Africa</td><td style = \"text-align: left;\">Angola</td><td style = \"text-align: left;\">AO</td></tr><tr><td class = \"rowNumber\" style = \"font-weight: bold; text-align: right;\">4</td><td style = \"text-align: left;\">ALB</td><td style = \"text-align: right;\">1961</td><td style = \"text-align: right;\">1659800</td><td style = \"text-align: right;\">3.12086</td><td style = \"text-align: left;\">Europe</td><td style = \"text-align: left;\">Albania</td><td style = \"text-align: left;\">AL</td></tr><tr><td class = \"rowNumber\" style = \"font-weight: bold; text-align: right;\">5</td><td style = \"text-align: left;\">AND</td><td style = \"text-align: right;\">1961</td><td style = \"text-align: right;\">10216</td><td style = \"text-align: right;\">7.86814</td><td style = \"text-align: left;\">Europe</td><td style = \"text-align: left;\">Andorra</td><td style = \"text-align: left;\">AD</td></tr><tr><td class = \"rowNumber\" style = \"font-weight: bold; text-align: right;\">6</td><td style = \"text-align: left;\">ARE</td><td style = \"text-align: right;\">1961</td><td style = \"text-align: right;\">140984</td><td style = \"text-align: right;\">5.50994</td><td style = \"text-align: left;\">Asia</td><td style = \"text-align: left;\">United Arab Emirates</td><td style = \"text-align: left;\">AE</td></tr><tr><td class = \"rowNumber\" style = \"font-weight: bold; text-align: right;\">7</td><td style = \"text-align: left;\">ARG</td><td style = \"text-align: right;\">1961</td><td style = \"text-align: right;\">20680653</td><td style = \"text-align: right;\">1.61303</td><td style = \"text-align: left;\">Americas</td><td style = \"text-align: left;\">Argentina</td><td style = \"text-align: left;\">AR</td></tr><tr><td class = \"rowNumber\" style = \"font-weight: bold; text-align: right;\">8</td><td style = \"text-align: left;\">ARM</td><td style = \"text-align: right;\">1961</td><td style = \"text-align: right;\">1971530</td><td style = \"text-align: right;\">3.47752</td><td style = \"text-align: left;\">Asia</td><td style = \"text-align: left;\">Armenia</td><td style = \"text-align: left;\">AM</td></tr><tr><td class = \"rowNumber\" style = \"font-weight: bold; text-align: right;\">9</td><td style = \"text-align: left;\">ASM</td><td style = \"text-align: right;\">1961</td><td style = \"text-align: right;\">20626</td><td style = \"text-align: right;\">2.65791</td><td style = \"text-align: left;\">Oceania</td><td style = \"text-align: left;\">American Samoa</td><td style = \"text-align: left;\">AS</td></tr><tr><td class = \"rowNumber\" style = \"font-weight: bold; text-align: right;\">10</td><td style = \"text-align: left;\">ATG</td><td style = \"text-align: right;\">1961</td><td style = \"text-align: right;\">56245</td><td style = \"text-align: right;\">1.6185</td><td style = \"text-align: left;\">Americas</td><td style = \"text-align: left;\">Antigua and Barbuda</td><td style = \"text-align: left;\">AG</td></tr><tr><td class = \"rowNumber\" style = \"font-weight: bold; text-align: right;\">11</td><td style = \"text-align: left;\">AUS</td><td style = \"text-align: right;\">1961</td><td style = \"text-align: right;\">10483000</td><td style = \"text-align: right;\">1.98974</td><td style = \"text-align: left;\">Oceania</td><td style = \"text-align: left;\">Australia</td><td style = \"text-align: left;\">AU</td></tr><tr><td class = \"rowNumber\" style = \"font-weight: bold; text-align: right;\">12</td><td style = \"text-align: left;\">AUT</td><td style = \"text-align: right;\">1961</td><td style = \"text-align: right;\">7086299</td><td style = \"text-align: right;\">0.548472</td><td style = \"text-align: left;\">Europe</td><td style = \"text-align: left;\">Austria</td><td style = \"text-align: left;\">AT</td></tr><tr><td class = \"rowNumber\" style = \"font-weight: bold; text-align: right;\">13</td><td style = \"text-align: left;\">AZE</td><td style = \"text-align: right;\">1961</td><td style = \"text-align: right;\">4045750</td><td style = \"text-align: right;\">3.81016</td><td style = \"text-align: left;\">Asia</td><td style = \"text-align: left;\">Azerbaijan</td><td style = \"text-align: left;\">AZ</td></tr><tr><td style = \"text-align: right;\">&vellip;</td><td style = \"text-align: right;\">&vellip;</td><td style = \"text-align: right;\">&vellip;</td><td style = \"text-align: right;\">&vellip;</td><td style = \"text-align: right;\">&vellip;</td><td style = \"text-align: right;\">&vellip;</td><td style = \"text-align: right;\">&vellip;</td><td style = \"text-align: right;\">&vellip;</td></tr><tr><td class = \"rowNumber\" style = \"font-weight: bold; text-align: right;\">13288</td><td style = \"text-align: left;\">UZB</td><td style = \"text-align: right;\">2022</td><td style = \"text-align: right;\">35648100</td><td style = \"text-align: right;\">2.07764</td><td style = \"text-align: left;\">Asia</td><td style = \"text-align: left;\">Uzbekistan</td><td style = \"text-align: left;\">UZ</td></tr><tr><td class = \"rowNumber\" style = \"font-weight: bold; text-align: right;\">13289</td><td style = \"text-align: left;\">VCT</td><td style = \"text-align: right;\">2022</td><td style = \"text-align: right;\">103948</td><td style = \"text-align: right;\">-0.368735</td><td style = \"text-align: left;\">Americas</td><td style = \"text-align: left;\">Saint Vincent and the Grenadines</td><td style = \"text-align: left;\">VC</td></tr><tr><td class = \"rowNumber\" style = \"font-weight: bold; text-align: right;\">13290</td><td style = \"text-align: left;\">VEN</td><td style = \"text-align: right;\">2022</td><td style = \"text-align: right;\">28301696</td><td style = \"text-align: right;\">0.360447</td><td style = \"text-align: left;\">Americas</td><td style = \"text-align: left;\">Venezuela (Bolivarian Republic of)</td><td style = \"text-align: left;\">VE</td></tr><tr><td class = \"rowNumber\" style = \"font-weight: bold; text-align: right;\">13291</td><td style = \"text-align: left;\">VGB</td><td style = \"text-align: right;\">2022</td><td style = \"text-align: right;\">31305</td><td style = \"text-align: right;\">0.586286</td><td style = \"text-align: left;\">Americas</td><td style = \"text-align: left;\">British Virgin Islands</td><td style = \"text-align: left;\">VG</td></tr><tr><td class = \"rowNumber\" style = \"font-weight: bold; text-align: right;\">13292</td><td style = \"text-align: left;\">VIR</td><td style = \"text-align: right;\">2022</td><td style = \"text-align: right;\">105413</td><td style = \"text-align: right;\">-0.432596</td><td style = \"text-align: left;\">Americas</td><td style = \"text-align: left;\">United States Virgin Islands</td><td style = \"text-align: left;\">VI</td></tr><tr><td class = \"rowNumber\" style = \"font-weight: bold; text-align: right;\">13293</td><td style = \"text-align: left;\">VNM</td><td style = \"text-align: right;\">2022</td><td style = \"text-align: right;\">98186856</td><td style = \"text-align: right;\">0.734794</td><td style = \"text-align: left;\">Asia</td><td style = \"text-align: left;\">Viet Nam</td><td style = \"text-align: left;\">VN</td></tr><tr><td class = \"rowNumber\" style = \"font-weight: bold; text-align: right;\">13294</td><td style = \"text-align: left;\">VUT</td><td style = \"text-align: right;\">2022</td><td style = \"text-align: right;\">326740</td><td style = \"text-align: right;\">2.35443</td><td style = \"text-align: left;\">Oceania</td><td style = \"text-align: left;\">Vanuatu</td><td style = \"text-align: left;\">VU</td></tr><tr><td class = \"rowNumber\" style = \"font-weight: bold; text-align: right;\">13295</td><td style = \"text-align: left;\">WSM</td><td style = \"text-align: right;\">2022</td><td style = \"text-align: right;\">222382</td><td style = \"text-align: right;\">1.64031</td><td style = \"text-align: left;\">Oceania</td><td style = \"text-align: left;\">Samoa</td><td style = \"text-align: left;\">WS</td></tr><tr><td class = \"rowNumber\" style = \"font-weight: bold; text-align: right;\">13296</td><td style = \"text-align: left;\">YEM</td><td style = \"text-align: right;\">2022</td><td style = \"text-align: right;\">33696614</td><td style = \"text-align: right;\">2.14463</td><td style = \"text-align: left;\">Asia</td><td style = \"text-align: left;\">Yemen</td><td style = \"text-align: left;\">YE</td></tr><tr><td class = \"rowNumber\" style = \"font-weight: bold; text-align: right;\">13297</td><td style = \"text-align: left;\">ZAF</td><td style = \"text-align: right;\">2022</td><td style = \"text-align: right;\">59893885</td><td style = \"text-align: right;\">0.841058</td><td style = \"text-align: left;\">Africa</td><td style = \"text-align: left;\">South Africa</td><td style = \"text-align: left;\">ZA</td></tr><tr><td class = \"rowNumber\" style = \"font-weight: bold; text-align: right;\">13298</td><td style = \"text-align: left;\">ZMB</td><td style = \"text-align: right;\">2022</td><td style = \"text-align: right;\">20017675</td><td style = \"text-align: right;\">2.75803</td><td style = \"text-align: left;\">Africa</td><td style = \"text-align: left;\">Zambia</td><td style = \"text-align: left;\">ZM</td></tr><tr><td class = \"rowNumber\" style = \"font-weight: bold; text-align: right;\">13299</td><td style = \"text-align: left;\">ZWE</td><td style = \"text-align: right;\">2022</td><td style = \"text-align: right;\">16320537</td><td style = \"text-align: right;\">2.02404</td><td style = \"text-align: left;\">Africa</td><td style = \"text-align: left;\">Zimbabwe</td><td style = \"text-align: left;\">ZW</td></tr></tbody></table></div>"
      ],
      "text/latex": [
       "\\begin{tabular}{r|ccccccc}\n",
       "\t& Country\\_Code & Year & Population & Population\\_Growth\\_Rate & Region\\_Name & Country\\_Name & \\\\\n",
       "\t\\hline\n",
       "\t& String & Int64 & Int64 & Float64 & String? & String & \\\\\n",
       "\t\\hline\n",
       "\t1 & ABW & 1961 & 55811 & 2.17906 & Americas & Aruba & $\\dots$ \\\\\n",
       "\t2 & AFG & 1961 & 8790140 & 1.92595 & Asia & Afghanistan & $\\dots$ \\\\\n",
       "\t3 & AGO & 1961 & 5441333 & 1.55836 & Africa & Angola & $\\dots$ \\\\\n",
       "\t4 & ALB & 1961 & 1659800 & 3.12086 & Europe & Albania & $\\dots$ \\\\\n",
       "\t5 & AND & 1961 & 10216 & 7.86814 & Europe & Andorra & $\\dots$ \\\\\n",
       "\t6 & ARE & 1961 & 140984 & 5.50994 & Asia & United Arab Emirates & $\\dots$ \\\\\n",
       "\t7 & ARG & 1961 & 20680653 & 1.61303 & Americas & Argentina & $\\dots$ \\\\\n",
       "\t8 & ARM & 1961 & 1971530 & 3.47752 & Asia & Armenia & $\\dots$ \\\\\n",
       "\t9 & ASM & 1961 & 20626 & 2.65791 & Oceania & American Samoa & $\\dots$ \\\\\n",
       "\t10 & ATG & 1961 & 56245 & 1.6185 & Americas & Antigua and Barbuda & $\\dots$ \\\\\n",
       "\t11 & AUS & 1961 & 10483000 & 1.98974 & Oceania & Australia & $\\dots$ \\\\\n",
       "\t12 & AUT & 1961 & 7086299 & 0.548472 & Europe & Austria & $\\dots$ \\\\\n",
       "\t13 & AZE & 1961 & 4045750 & 3.81016 & Asia & Azerbaijan & $\\dots$ \\\\\n",
       "\t14 & BDI & 1961 & 2815972 & 2.49335 & Africa & Burundi & $\\dots$ \\\\\n",
       "\t15 & BEL & 1961 & 9183948 & 0.332206 & Europe & Belgium & $\\dots$ \\\\\n",
       "\t16 & BEN & 1961 & 2551216 & 1.53778 & Africa & Benin & $\\dots$ \\\\\n",
       "\t17 & BFA & 1961 & 4852833 & 1.44405 & Africa & Burkina Faso & $\\dots$ \\\\\n",
       "\t18 & BGD & 1961 & 51882769 & 2.90664 & Asia & Bangladesh & $\\dots$ \\\\\n",
       "\t19 & BGR & 1961 & 7943118 & 0.958156 & Europe & Bulgaria & $\\dots$ \\\\\n",
       "\t20 & BHR & 1961 & 166970 & 3.83309 & Asia & Bahrain & $\\dots$ \\\\\n",
       "\t21 & BHS & 1961 & 120216 & 4.87153 & Americas & Bahamas & $\\dots$ \\\\\n",
       "\t22 & BIH & 1961 & 3325333 & 1.90641 & Europe & Bosnia and Herzegovina & $\\dots$ \\\\\n",
       "\t23 & BLR & 1961 & 8271216 & 0.889131 & Europe & Belarus & $\\dots$ \\\\\n",
       "\t24 & BLZ & 1961 & 93757 & 2.5428 & Americas & Belize & $\\dots$ \\\\\n",
       "\t25 & BMU & 1961 & 45500 & 2.44729 & Americas & Bermuda & $\\dots$ \\\\\n",
       "\t26 & BOL & 1961 & 3784744 & 2.06164 & Americas & Bolivia (Plurinational State of) & $\\dots$ \\\\\n",
       "\t27 & BRA & 1961 & 75330008 & 3.01526 & Americas & Brazil & $\\dots$ \\\\\n",
       "\t28 & BRB & 1961 & 233698 & 0.492443 & Americas & Barbados & $\\dots$ \\\\\n",
       "\t29 & BRN & 1961 & 89561 & 4.82064 & Asia & Brunei Darussalam & $\\dots$ \\\\\n",
       "\t30 & BTN & 1961 & 227071 & 2.58971 & Asia & Bhutan & $\\dots$ \\\\\n",
       "\t$\\dots$ & $\\dots$ & $\\dots$ & $\\dots$ & $\\dots$ & $\\dots$ & $\\dots$ &  \\\\\n",
       "\\end{tabular}\n"
      ],
      "text/plain": [
       "\u001b[1m13299×7 DataFrame\u001b[0m\n",
       "\u001b[1m   Row \u001b[0m│\u001b[1m Country_Code \u001b[0m\u001b[1m Year  \u001b[0m\u001b[1m Population \u001b[0m\u001b[1m Population_Growth_Rate \u001b[0m\u001b[1m Region_Name \u001b[0m\u001b[1m\u001b[0m ⋯\n",
       "       │\u001b[90m String       \u001b[0m\u001b[90m Int64 \u001b[0m\u001b[90m Int64      \u001b[0m\u001b[90m Float64                \u001b[0m\u001b[90m String?     \u001b[0m\u001b[90m\u001b[0m ⋯\n",
       "───────┼────────────────────────────────────────────────────────────────────────\n",
       "     1 │ ABW            1961       55811                2.17906   Americas     ⋯\n",
       "     2 │ AFG            1961     8790140                1.92595   Asia\n",
       "     3 │ AGO            1961     5441333                1.55836   Africa\n",
       "     4 │ ALB            1961     1659800                3.12086   Europe\n",
       "     5 │ AND            1961       10216                7.86814   Europe       ⋯\n",
       "     6 │ ARE            1961      140984                5.50994   Asia\n",
       "     7 │ ARG            1961    20680653                1.61303   Americas\n",
       "     8 │ ARM            1961     1971530                3.47752   Asia\n",
       "     9 │ ASM            1961       20626                2.65791   Oceania      ⋯\n",
       "    10 │ ATG            1961       56245                1.6185    Americas\n",
       "    11 │ AUS            1961    10483000                1.98974   Oceania\n",
       "   ⋮   │      ⋮          ⋮        ⋮                 ⋮                  ⋮       ⋱\n",
       " 13290 │ VEN            2022    28301696                0.360447  Americas\n",
       " 13291 │ VGB            2022       31305                0.586286  Americas     ⋯\n",
       " 13292 │ VIR            2022      105413               -0.432596  Americas\n",
       " 13293 │ VNM            2022    98186856                0.734794  Asia\n",
       " 13294 │ VUT            2022      326740                2.35443   Oceania\n",
       " 13295 │ WSM            2022      222382                1.64031   Oceania      ⋯\n",
       " 13296 │ YEM            2022    33696614                2.14463   Asia\n",
       " 13297 │ ZAF            2022    59893885                0.841058  Africa\n",
       " 13298 │ ZMB            2022    20017675                2.75803   Africa\n",
       " 13299 │ ZWE            2022    16320537                2.02404   Africa       ⋯\n",
       "\u001b[36m                                                2 columns and 13278 rows omitted\u001b[0m"
      ]
     },
     "execution_count": 8,
     "metadata": {},
     "output_type": "execute_result"
    }
   ],
   "source": [
    "Population = innerjoin(select(Population, Not(:Country_Name)), \n",
    "    Country_Code_filter, \n",
    "    on=:Country_Code, \n",
    "    makeunique=true, \n",
    "    matchmissing=:equal)"
   ]
  },
  {
   "cell_type": "markdown",
   "id": "41e393a3-c4a6-4e76-b6ba-96f619fd2c43",
   "metadata": {},
   "source": [
    "### comment\n",
    "\n",
    "We only want the countries in `Country_Code_filter` data table and I don't need the countries not included in `Population` table as well. So, the `innerjoin()` function was used to join two tables. There is a **Country_Name** variables in `Country_Code_filter` table so the **Country_Name** column in `Population` table is dropped before joining. The joining key was **Country_Code** like we mentioned above. Now, we can use Sub region and continent information to group the data, not just countries."
   ]
  },
  {
   "cell_type": "code",
   "execution_count": 9,
   "id": "bdd596d0-9232-44b1-94c2-92f12f41f7aa",
   "metadata": {
    "scrolled": true
   },
   "outputs": [
    {
     "data": {
      "text/html": [
       "<div><div style = \"float: left;\"><span>240×4 DataFrame</span></div><div style = \"float: right;\"><span style = \"font-style: italic;\">215 rows omitted</span></div><div style = \"clear: both;\"></div></div><div class = \"data-frame\" style = \"overflow-x: scroll;\"><table class = \"data-frame\" style = \"margin-bottom: 6px;\"><thead><tr class = \"header\"><th class = \"rowNumber\" style = \"font-weight: bold; text-align: right;\">Row</th><th style = \"text-align: left;\">County_Code_alpha2</th><th style = \"text-align: left;\">Country</th><th style = \"text-align: left;\">Latitude</th><th style = \"text-align: left;\">Longitude</th></tr><tr class = \"subheader headerLastRow\"><th class = \"rowNumber\" style = \"font-weight: bold; text-align: right;\"></th><th title = \"String\" style = \"text-align: left;\">String</th><th title = \"String\" style = \"text-align: left;\">String</th><th title = \"Float64\" style = \"text-align: left;\">Float64</th><th title = \"Float64\" style = \"text-align: left;\">Float64</th></tr></thead><tbody><tr><td class = \"rowNumber\" style = \"font-weight: bold; text-align: right;\">1</td><td style = \"text-align: left;\">AD</td><td style = \"text-align: left;\">Andorra</td><td style = \"text-align: right;\">42.5</td><td style = \"text-align: right;\">1.5</td></tr><tr><td class = \"rowNumber\" style = \"font-weight: bold; text-align: right;\">2</td><td style = \"text-align: left;\">AE</td><td style = \"text-align: left;\">United Arab Emirates</td><td style = \"text-align: right;\">24.0</td><td style = \"text-align: right;\">54.0</td></tr><tr><td class = \"rowNumber\" style = \"font-weight: bold; text-align: right;\">3</td><td style = \"text-align: left;\">AF</td><td style = \"text-align: left;\">Afghanistan</td><td style = \"text-align: right;\">33.0</td><td style = \"text-align: right;\">65.0</td></tr><tr><td class = \"rowNumber\" style = \"font-weight: bold; text-align: right;\">4</td><td style = \"text-align: left;\">AG</td><td style = \"text-align: left;\">Antigua and Barbuda</td><td style = \"text-align: right;\">17.05</td><td style = \"text-align: right;\">-61.8</td></tr><tr><td class = \"rowNumber\" style = \"font-weight: bold; text-align: right;\">5</td><td style = \"text-align: left;\">AI</td><td style = \"text-align: left;\">Anguilla</td><td style = \"text-align: right;\">18.25</td><td style = \"text-align: right;\">-63.17</td></tr><tr><td class = \"rowNumber\" style = \"font-weight: bold; text-align: right;\">6</td><td style = \"text-align: left;\">AL</td><td style = \"text-align: left;\">Albania</td><td style = \"text-align: right;\">41.0</td><td style = \"text-align: right;\">20.0</td></tr><tr><td class = \"rowNumber\" style = \"font-weight: bold; text-align: right;\">7</td><td style = \"text-align: left;\">AM</td><td style = \"text-align: left;\">Armenia</td><td style = \"text-align: right;\">40.0</td><td style = \"text-align: right;\">45.0</td></tr><tr><td class = \"rowNumber\" style = \"font-weight: bold; text-align: right;\">8</td><td style = \"text-align: left;\">AN</td><td style = \"text-align: left;\">Netherlands Antilles</td><td style = \"text-align: right;\">12.25</td><td style = \"text-align: right;\">-68.75</td></tr><tr><td class = \"rowNumber\" style = \"font-weight: bold; text-align: right;\">9</td><td style = \"text-align: left;\">AO</td><td style = \"text-align: left;\">Angola</td><td style = \"text-align: right;\">-12.5</td><td style = \"text-align: right;\">18.5</td></tr><tr><td class = \"rowNumber\" style = \"font-weight: bold; text-align: right;\">10</td><td style = \"text-align: left;\">AP</td><td style = \"text-align: left;\">Asia/Pacific Region</td><td style = \"text-align: right;\">35.0</td><td style = \"text-align: right;\">105.0</td></tr><tr><td class = \"rowNumber\" style = \"font-weight: bold; text-align: right;\">11</td><td style = \"text-align: left;\">AQ</td><td style = \"text-align: left;\">Antarctica</td><td style = \"text-align: right;\">-90.0</td><td style = \"text-align: right;\">0.0</td></tr><tr><td class = \"rowNumber\" style = \"font-weight: bold; text-align: right;\">12</td><td style = \"text-align: left;\">AR</td><td style = \"text-align: left;\">Argentina</td><td style = \"text-align: right;\">-34.0</td><td style = \"text-align: right;\">-64.0</td></tr><tr><td class = \"rowNumber\" style = \"font-weight: bold; text-align: right;\">13</td><td style = \"text-align: left;\">AS</td><td style = \"text-align: left;\">American Samoa</td><td style = \"text-align: right;\">-14.33</td><td style = \"text-align: right;\">-170.0</td></tr><tr><td style = \"text-align: right;\">&vellip;</td><td style = \"text-align: right;\">&vellip;</td><td style = \"text-align: right;\">&vellip;</td><td style = \"text-align: right;\">&vellip;</td><td style = \"text-align: right;\">&vellip;</td></tr><tr><td class = \"rowNumber\" style = \"font-weight: bold; text-align: right;\">229</td><td style = \"text-align: left;\">VE</td><td style = \"text-align: left;\">Venezuela</td><td style = \"text-align: right;\">8.0</td><td style = \"text-align: right;\">-66.0</td></tr><tr><td class = \"rowNumber\" style = \"font-weight: bold; text-align: right;\">230</td><td style = \"text-align: left;\">VG</td><td style = \"text-align: left;\">Virgin Islands, British</td><td style = \"text-align: right;\">18.5</td><td style = \"text-align: right;\">-64.5</td></tr><tr><td class = \"rowNumber\" style = \"font-weight: bold; text-align: right;\">231</td><td style = \"text-align: left;\">VI</td><td style = \"text-align: left;\">Virgin Islands, U.S.</td><td style = \"text-align: right;\">18.33</td><td style = \"text-align: right;\">-64.83</td></tr><tr><td class = \"rowNumber\" style = \"font-weight: bold; text-align: right;\">232</td><td style = \"text-align: left;\">VN</td><td style = \"text-align: left;\">Vietnam</td><td style = \"text-align: right;\">16.0</td><td style = \"text-align: right;\">106.0</td></tr><tr><td class = \"rowNumber\" style = \"font-weight: bold; text-align: right;\">233</td><td style = \"text-align: left;\">VU</td><td style = \"text-align: left;\">Vanuatu</td><td style = \"text-align: right;\">-16.0</td><td style = \"text-align: right;\">167.0</td></tr><tr><td class = \"rowNumber\" style = \"font-weight: bold; text-align: right;\">234</td><td style = \"text-align: left;\">WF</td><td style = \"text-align: left;\">Wallis and Futuna</td><td style = \"text-align: right;\">-13.3</td><td style = \"text-align: right;\">-176.2</td></tr><tr><td class = \"rowNumber\" style = \"font-weight: bold; text-align: right;\">235</td><td style = \"text-align: left;\">WS</td><td style = \"text-align: left;\">Samoa</td><td style = \"text-align: right;\">-13.58</td><td style = \"text-align: right;\">-172.33</td></tr><tr><td class = \"rowNumber\" style = \"font-weight: bold; text-align: right;\">236</td><td style = \"text-align: left;\">YE</td><td style = \"text-align: left;\">Yemen</td><td style = \"text-align: right;\">15.0</td><td style = \"text-align: right;\">48.0</td></tr><tr><td class = \"rowNumber\" style = \"font-weight: bold; text-align: right;\">237</td><td style = \"text-align: left;\">YT</td><td style = \"text-align: left;\">Mayotte</td><td style = \"text-align: right;\">-12.83</td><td style = \"text-align: right;\">45.17</td></tr><tr><td class = \"rowNumber\" style = \"font-weight: bold; text-align: right;\">238</td><td style = \"text-align: left;\">ZA</td><td style = \"text-align: left;\">South Africa</td><td style = \"text-align: right;\">-29.0</td><td style = \"text-align: right;\">24.0</td></tr><tr><td class = \"rowNumber\" style = \"font-weight: bold; text-align: right;\">239</td><td style = \"text-align: left;\">ZM</td><td style = \"text-align: left;\">Zambia</td><td style = \"text-align: right;\">-15.0</td><td style = \"text-align: right;\">30.0</td></tr><tr><td class = \"rowNumber\" style = \"font-weight: bold; text-align: right;\">240</td><td style = \"text-align: left;\">ZW</td><td style = \"text-align: left;\">Zimbabwe</td><td style = \"text-align: right;\">-20.0</td><td style = \"text-align: right;\">30.0</td></tr></tbody></table></div>"
      ],
      "text/latex": [
       "\\begin{tabular}{r|cccc}\n",
       "\t& County\\_Code\\_alpha2 & Country & Latitude & Longitude\\\\\n",
       "\t\\hline\n",
       "\t& String & String & Float64 & Float64\\\\\n",
       "\t\\hline\n",
       "\t1 & AD & Andorra & 42.5 & 1.5 \\\\\n",
       "\t2 & AE & United Arab Emirates & 24.0 & 54.0 \\\\\n",
       "\t3 & AF & Afghanistan & 33.0 & 65.0 \\\\\n",
       "\t4 & AG & Antigua and Barbuda & 17.05 & -61.8 \\\\\n",
       "\t5 & AI & Anguilla & 18.25 & -63.17 \\\\\n",
       "\t6 & AL & Albania & 41.0 & 20.0 \\\\\n",
       "\t7 & AM & Armenia & 40.0 & 45.0 \\\\\n",
       "\t8 & AN & Netherlands Antilles & 12.25 & -68.75 \\\\\n",
       "\t9 & AO & Angola & -12.5 & 18.5 \\\\\n",
       "\t10 & AP & Asia/Pacific Region & 35.0 & 105.0 \\\\\n",
       "\t11 & AQ & Antarctica & -90.0 & 0.0 \\\\\n",
       "\t12 & AR & Argentina & -34.0 & -64.0 \\\\\n",
       "\t13 & AS & American Samoa & -14.33 & -170.0 \\\\\n",
       "\t14 & AT & Austria & 47.33 & 13.33 \\\\\n",
       "\t15 & AU & Australia & -27.0 & 133.0 \\\\\n",
       "\t16 & AW & Aruba & 12.5 & -69.97 \\\\\n",
       "\t17 & AZ & Azerbaijan & 40.5 & 47.5 \\\\\n",
       "\t18 & BA & Bosnia and Herzegovina & 44.0 & 18.0 \\\\\n",
       "\t19 & BB & Barbados & 13.17 & -59.53 \\\\\n",
       "\t20 & BD & Bangladesh & 24.0 & 90.0 \\\\\n",
       "\t21 & BE & Belgium & 50.83 & 4.0 \\\\\n",
       "\t22 & BF & Burkina Faso & 13.0 & -2.0 \\\\\n",
       "\t23 & BG & Bulgaria & 43.0 & 25.0 \\\\\n",
       "\t24 & BH & Bahrain & 26.0 & 50.55 \\\\\n",
       "\t25 & BI & Burundi & -3.5 & 30.0 \\\\\n",
       "\t26 & BJ & Benin & 9.5 & 2.25 \\\\\n",
       "\t27 & BM & Bermuda & 32.33 & -64.75 \\\\\n",
       "\t28 & BN & Brunei Darussalam & 4.5 & 114.67 \\\\\n",
       "\t29 & BO & Bolivia & -17.0 & -65.0 \\\\\n",
       "\t30 & BR & Brazil & -10.0 & -55.0 \\\\\n",
       "\t$\\dots$ & $\\dots$ & $\\dots$ & $\\dots$ & $\\dots$ \\\\\n",
       "\\end{tabular}\n"
      ],
      "text/plain": [
       "\u001b[1m240×4 DataFrame\u001b[0m\n",
       "\u001b[1m Row \u001b[0m│\u001b[1m County_Code_alpha2 \u001b[0m\u001b[1m Country                          \u001b[0m\u001b[1m Latitude \u001b[0m\u001b[1m Longitu\u001b[0m ⋯\n",
       "     │\u001b[90m String             \u001b[0m\u001b[90m String                           \u001b[0m\u001b[90m Float64  \u001b[0m\u001b[90m Float64\u001b[0m ⋯\n",
       "─────┼──────────────────────────────────────────────────────────────────────────\n",
       "   1 │ AD                  Andorra                              42.5        1. ⋯\n",
       "   2 │ AE                  United Arab Emirates                 24.0       54.\n",
       "   3 │ AF                  Afghanistan                          33.0       65.\n",
       "   4 │ AG                  Antigua and Barbuda                  17.05     -61.\n",
       "   5 │ AI                  Anguilla                             18.25     -63. ⋯\n",
       "   6 │ AL                  Albania                              41.0       20.\n",
       "   7 │ AM                  Armenia                              40.0       45.\n",
       "   8 │ AN                  Netherlands Antilles                 12.25     -68.\n",
       "   9 │ AO                  Angola                              -12.5       18. ⋯\n",
       "  10 │ AP                  Asia/Pacific Region                  35.0      105.\n",
       "  11 │ AQ                  Antarctica                          -90.0        0.\n",
       "  ⋮  │         ⋮                          ⋮                     ⋮          ⋮   ⋱\n",
       " 231 │ VI                  Virgin Islands, U.S.                 18.33     -64.\n",
       " 232 │ VN                  Vietnam                              16.0      106. ⋯\n",
       " 233 │ VU                  Vanuatu                             -16.0      167.\n",
       " 234 │ WF                  Wallis and Futuna                   -13.3     -176.\n",
       " 235 │ WS                  Samoa                               -13.58    -172.\n",
       " 236 │ YE                  Yemen                                15.0       48. ⋯\n",
       " 237 │ YT                  Mayotte                             -12.83      45.\n",
       " 238 │ ZA                  South Africa                        -29.0       24.\n",
       " 239 │ ZM                  Zambia                              -15.0       30.\n",
       " 240 │ ZW                  Zimbabwe                            -20.0       30. ⋯\n",
       "\u001b[36m                                                   1 column and 219 rows omitted\u001b[0m"
      ]
     },
     "execution_count": 9,
     "metadata": {},
     "output_type": "execute_result"
    }
   ],
   "source": [
    "Geo_info = rename!(Geo_info,\n",
    "    :\"ISO 3166 Country Code\" => \"County_Code_alpha2\")"
   ]
  },
  {
   "cell_type": "code",
   "execution_count": 10,
   "id": "55a41674-38af-432f-9fdb-02c9ef08d196",
   "metadata": {
    "scrolled": true
   },
   "outputs": [
    {
     "data": {
      "text/html": [
       "<div><div style = \"float: left;\"><span>240×3 DataFrame</span></div><div style = \"float: right;\"><span style = \"font-style: italic;\">215 rows omitted</span></div><div style = \"clear: both;\"></div></div><div class = \"data-frame\" style = \"overflow-x: scroll;\"><table class = \"data-frame\" style = \"margin-bottom: 6px;\"><thead><tr class = \"header\"><th class = \"rowNumber\" style = \"font-weight: bold; text-align: right;\">Row</th><th style = \"text-align: left;\">County_Code_alpha2</th><th style = \"text-align: left;\">Latitude</th><th style = \"text-align: left;\">Longitude</th></tr><tr class = \"subheader headerLastRow\"><th class = \"rowNumber\" style = \"font-weight: bold; text-align: right;\"></th><th title = \"String\" style = \"text-align: left;\">String</th><th title = \"Float64\" style = \"text-align: left;\">Float64</th><th title = \"Float64\" style = \"text-align: left;\">Float64</th></tr></thead><tbody><tr><td class = \"rowNumber\" style = \"font-weight: bold; text-align: right;\">1</td><td style = \"text-align: left;\">AD</td><td style = \"text-align: right;\">42.5</td><td style = \"text-align: right;\">1.5</td></tr><tr><td class = \"rowNumber\" style = \"font-weight: bold; text-align: right;\">2</td><td style = \"text-align: left;\">AE</td><td style = \"text-align: right;\">24.0</td><td style = \"text-align: right;\">54.0</td></tr><tr><td class = \"rowNumber\" style = \"font-weight: bold; text-align: right;\">3</td><td style = \"text-align: left;\">AF</td><td style = \"text-align: right;\">33.0</td><td style = \"text-align: right;\">65.0</td></tr><tr><td class = \"rowNumber\" style = \"font-weight: bold; text-align: right;\">4</td><td style = \"text-align: left;\">AG</td><td style = \"text-align: right;\">17.05</td><td style = \"text-align: right;\">-61.8</td></tr><tr><td class = \"rowNumber\" style = \"font-weight: bold; text-align: right;\">5</td><td style = \"text-align: left;\">AI</td><td style = \"text-align: right;\">18.25</td><td style = \"text-align: right;\">-63.17</td></tr><tr><td class = \"rowNumber\" style = \"font-weight: bold; text-align: right;\">6</td><td style = \"text-align: left;\">AL</td><td style = \"text-align: right;\">41.0</td><td style = \"text-align: right;\">20.0</td></tr><tr><td class = \"rowNumber\" style = \"font-weight: bold; text-align: right;\">7</td><td style = \"text-align: left;\">AM</td><td style = \"text-align: right;\">40.0</td><td style = \"text-align: right;\">45.0</td></tr><tr><td class = \"rowNumber\" style = \"font-weight: bold; text-align: right;\">8</td><td style = \"text-align: left;\">AN</td><td style = \"text-align: right;\">12.25</td><td style = \"text-align: right;\">-68.75</td></tr><tr><td class = \"rowNumber\" style = \"font-weight: bold; text-align: right;\">9</td><td style = \"text-align: left;\">AO</td><td style = \"text-align: right;\">-12.5</td><td style = \"text-align: right;\">18.5</td></tr><tr><td class = \"rowNumber\" style = \"font-weight: bold; text-align: right;\">10</td><td style = \"text-align: left;\">AP</td><td style = \"text-align: right;\">35.0</td><td style = \"text-align: right;\">105.0</td></tr><tr><td class = \"rowNumber\" style = \"font-weight: bold; text-align: right;\">11</td><td style = \"text-align: left;\">AQ</td><td style = \"text-align: right;\">-90.0</td><td style = \"text-align: right;\">0.0</td></tr><tr><td class = \"rowNumber\" style = \"font-weight: bold; text-align: right;\">12</td><td style = \"text-align: left;\">AR</td><td style = \"text-align: right;\">-34.0</td><td style = \"text-align: right;\">-64.0</td></tr><tr><td class = \"rowNumber\" style = \"font-weight: bold; text-align: right;\">13</td><td style = \"text-align: left;\">AS</td><td style = \"text-align: right;\">-14.33</td><td style = \"text-align: right;\">-170.0</td></tr><tr><td style = \"text-align: right;\">&vellip;</td><td style = \"text-align: right;\">&vellip;</td><td style = \"text-align: right;\">&vellip;</td><td style = \"text-align: right;\">&vellip;</td></tr><tr><td class = \"rowNumber\" style = \"font-weight: bold; text-align: right;\">229</td><td style = \"text-align: left;\">VE</td><td style = \"text-align: right;\">8.0</td><td style = \"text-align: right;\">-66.0</td></tr><tr><td class = \"rowNumber\" style = \"font-weight: bold; text-align: right;\">230</td><td style = \"text-align: left;\">VG</td><td style = \"text-align: right;\">18.5</td><td style = \"text-align: right;\">-64.5</td></tr><tr><td class = \"rowNumber\" style = \"font-weight: bold; text-align: right;\">231</td><td style = \"text-align: left;\">VI</td><td style = \"text-align: right;\">18.33</td><td style = \"text-align: right;\">-64.83</td></tr><tr><td class = \"rowNumber\" style = \"font-weight: bold; text-align: right;\">232</td><td style = \"text-align: left;\">VN</td><td style = \"text-align: right;\">16.0</td><td style = \"text-align: right;\">106.0</td></tr><tr><td class = \"rowNumber\" style = \"font-weight: bold; text-align: right;\">233</td><td style = \"text-align: left;\">VU</td><td style = \"text-align: right;\">-16.0</td><td style = \"text-align: right;\">167.0</td></tr><tr><td class = \"rowNumber\" style = \"font-weight: bold; text-align: right;\">234</td><td style = \"text-align: left;\">WF</td><td style = \"text-align: right;\">-13.3</td><td style = \"text-align: right;\">-176.2</td></tr><tr><td class = \"rowNumber\" style = \"font-weight: bold; text-align: right;\">235</td><td style = \"text-align: left;\">WS</td><td style = \"text-align: right;\">-13.58</td><td style = \"text-align: right;\">-172.33</td></tr><tr><td class = \"rowNumber\" style = \"font-weight: bold; text-align: right;\">236</td><td style = \"text-align: left;\">YE</td><td style = \"text-align: right;\">15.0</td><td style = \"text-align: right;\">48.0</td></tr><tr><td class = \"rowNumber\" style = \"font-weight: bold; text-align: right;\">237</td><td style = \"text-align: left;\">YT</td><td style = \"text-align: right;\">-12.83</td><td style = \"text-align: right;\">45.17</td></tr><tr><td class = \"rowNumber\" style = \"font-weight: bold; text-align: right;\">238</td><td style = \"text-align: left;\">ZA</td><td style = \"text-align: right;\">-29.0</td><td style = \"text-align: right;\">24.0</td></tr><tr><td class = \"rowNumber\" style = \"font-weight: bold; text-align: right;\">239</td><td style = \"text-align: left;\">ZM</td><td style = \"text-align: right;\">-15.0</td><td style = \"text-align: right;\">30.0</td></tr><tr><td class = \"rowNumber\" style = \"font-weight: bold; text-align: right;\">240</td><td style = \"text-align: left;\">ZW</td><td style = \"text-align: right;\">-20.0</td><td style = \"text-align: right;\">30.0</td></tr></tbody></table></div>"
      ],
      "text/latex": [
       "\\begin{tabular}{r|ccc}\n",
       "\t& County\\_Code\\_alpha2 & Latitude & Longitude\\\\\n",
       "\t\\hline\n",
       "\t& String & Float64 & Float64\\\\\n",
       "\t\\hline\n",
       "\t1 & AD & 42.5 & 1.5 \\\\\n",
       "\t2 & AE & 24.0 & 54.0 \\\\\n",
       "\t3 & AF & 33.0 & 65.0 \\\\\n",
       "\t4 & AG & 17.05 & -61.8 \\\\\n",
       "\t5 & AI & 18.25 & -63.17 \\\\\n",
       "\t6 & AL & 41.0 & 20.0 \\\\\n",
       "\t7 & AM & 40.0 & 45.0 \\\\\n",
       "\t8 & AN & 12.25 & -68.75 \\\\\n",
       "\t9 & AO & -12.5 & 18.5 \\\\\n",
       "\t10 & AP & 35.0 & 105.0 \\\\\n",
       "\t11 & AQ & -90.0 & 0.0 \\\\\n",
       "\t12 & AR & -34.0 & -64.0 \\\\\n",
       "\t13 & AS & -14.33 & -170.0 \\\\\n",
       "\t14 & AT & 47.33 & 13.33 \\\\\n",
       "\t15 & AU & -27.0 & 133.0 \\\\\n",
       "\t16 & AW & 12.5 & -69.97 \\\\\n",
       "\t17 & AZ & 40.5 & 47.5 \\\\\n",
       "\t18 & BA & 44.0 & 18.0 \\\\\n",
       "\t19 & BB & 13.17 & -59.53 \\\\\n",
       "\t20 & BD & 24.0 & 90.0 \\\\\n",
       "\t21 & BE & 50.83 & 4.0 \\\\\n",
       "\t22 & BF & 13.0 & -2.0 \\\\\n",
       "\t23 & BG & 43.0 & 25.0 \\\\\n",
       "\t24 & BH & 26.0 & 50.55 \\\\\n",
       "\t25 & BI & -3.5 & 30.0 \\\\\n",
       "\t26 & BJ & 9.5 & 2.25 \\\\\n",
       "\t27 & BM & 32.33 & -64.75 \\\\\n",
       "\t28 & BN & 4.5 & 114.67 \\\\\n",
       "\t29 & BO & -17.0 & -65.0 \\\\\n",
       "\t30 & BR & -10.0 & -55.0 \\\\\n",
       "\t$\\dots$ & $\\dots$ & $\\dots$ & $\\dots$ \\\\\n",
       "\\end{tabular}\n"
      ],
      "text/plain": [
       "\u001b[1m240×3 DataFrame\u001b[0m\n",
       "\u001b[1m Row \u001b[0m│\u001b[1m County_Code_alpha2 \u001b[0m\u001b[1m Latitude \u001b[0m\u001b[1m Longitude \u001b[0m\n",
       "     │\u001b[90m String             \u001b[0m\u001b[90m Float64  \u001b[0m\u001b[90m Float64   \u001b[0m\n",
       "─────┼─────────────────────────────────────────\n",
       "   1 │ AD                     42.5        1.5\n",
       "   2 │ AE                     24.0       54.0\n",
       "   3 │ AF                     33.0       65.0\n",
       "   4 │ AG                     17.05     -61.8\n",
       "   5 │ AI                     18.25     -63.17\n",
       "   6 │ AL                     41.0       20.0\n",
       "   7 │ AM                     40.0       45.0\n",
       "   8 │ AN                     12.25     -68.75\n",
       "   9 │ AO                    -12.5       18.5\n",
       "  10 │ AP                     35.0      105.0\n",
       "  11 │ AQ                    -90.0        0.0\n",
       "  ⋮  │         ⋮              ⋮          ⋮\n",
       " 231 │ VI                     18.33     -64.83\n",
       " 232 │ VN                     16.0      106.0\n",
       " 233 │ VU                    -16.0      167.0\n",
       " 234 │ WF                    -13.3     -176.2\n",
       " 235 │ WS                    -13.58    -172.33\n",
       " 236 │ YE                     15.0       48.0\n",
       " 237 │ YT                    -12.83      45.17\n",
       " 238 │ ZA                    -29.0       24.0\n",
       " 239 │ ZM                    -15.0       30.0\n",
       " 240 │ ZW                    -20.0       30.0\n",
       "\u001b[36m                               219 rows omitted\u001b[0m"
      ]
     },
     "execution_count": 10,
     "metadata": {},
     "output_type": "execute_result"
    }
   ],
   "source": [
    "Geo_info = select(Geo_info, \n",
    "    :\"County_Code_alpha2\", \n",
    "    :\"Latitude\", \n",
    "    :\"Longitude\")"
   ]
  },
  {
   "cell_type": "markdown",
   "id": "503c2baf-009c-44c1-a6c5-1cc8a565d15f",
   "metadata": {},
   "source": [
    "### comment\n",
    "\n",
    "To join `Geo_info` table to `Population` table, the **ISO 3166 Country Code** column renamed to **County_Code_alpha2** to match the column name and dropped **Country** column because **Country Name** column exists in joined `Population` table."
   ]
  },
  {
   "cell_type": "code",
   "execution_count": 11,
   "id": "a8ff2f9c-1778-4e3d-810d-18181936cb6b",
   "metadata": {
    "scrolled": true
   },
   "outputs": [
    {
     "data": {
      "text/html": [
       "<div><div style = \"float: left;\"><span>13299×9 DataFrame</span></div><div style = \"float: right;\"><span style = \"font-style: italic;\">13274 rows omitted</span></div><div style = \"clear: both;\"></div></div><div class = \"data-frame\" style = \"overflow-x: scroll;\"><table class = \"data-frame\" style = \"margin-bottom: 6px;\"><thead><tr class = \"header\"><th class = \"rowNumber\" style = \"font-weight: bold; text-align: right;\">Row</th><th style = \"text-align: left;\">Country_Code</th><th style = \"text-align: left;\">Year</th><th style = \"text-align: left;\">Population</th><th style = \"text-align: left;\">Population_Growth_Rate</th><th style = \"text-align: left;\">Region_Name</th><th style = \"text-align: left;\">Country_Name</th><th style = \"text-align: left;\">County_Code_alpha2</th><th style = \"text-align: left;\">Latitude</th><th style = \"text-align: left;\">Longitude</th></tr><tr class = \"subheader headerLastRow\"><th class = \"rowNumber\" style = \"font-weight: bold; text-align: right;\"></th><th title = \"String\" style = \"text-align: left;\">String</th><th title = \"Int64\" style = \"text-align: left;\">Int64</th><th title = \"Int64\" style = \"text-align: left;\">Int64</th><th title = \"Float64\" style = \"text-align: left;\">Float64</th><th title = \"Union{Missing, String}\" style = \"text-align: left;\">String?</th><th title = \"String\" style = \"text-align: left;\">String</th><th title = \"String\" style = \"text-align: left;\">String</th><th title = \"Union{Missing, Float64}\" style = \"text-align: left;\">Float64?</th><th title = \"Union{Missing, Float64}\" style = \"text-align: left;\">Float64?</th></tr></thead><tbody><tr><td class = \"rowNumber\" style = \"font-weight: bold; text-align: right;\">1</td><td style = \"text-align: left;\">ABW</td><td style = \"text-align: right;\">1961</td><td style = \"text-align: right;\">55811</td><td style = \"text-align: right;\">2.17906</td><td style = \"text-align: left;\">Americas</td><td style = \"text-align: left;\">Aruba</td><td style = \"text-align: left;\">AW</td><td style = \"text-align: right;\">12.5</td><td style = \"text-align: right;\">-69.97</td></tr><tr><td class = \"rowNumber\" style = \"font-weight: bold; text-align: right;\">2</td><td style = \"text-align: left;\">AFG</td><td style = \"text-align: right;\">1961</td><td style = \"text-align: right;\">8790140</td><td style = \"text-align: right;\">1.92595</td><td style = \"text-align: left;\">Asia</td><td style = \"text-align: left;\">Afghanistan</td><td style = \"text-align: left;\">AF</td><td style = \"text-align: right;\">33.0</td><td style = \"text-align: right;\">65.0</td></tr><tr><td class = \"rowNumber\" style = \"font-weight: bold; text-align: right;\">3</td><td style = \"text-align: left;\">AGO</td><td style = \"text-align: right;\">1961</td><td style = \"text-align: right;\">5441333</td><td style = \"text-align: right;\">1.55836</td><td style = \"text-align: left;\">Africa</td><td style = \"text-align: left;\">Angola</td><td style = \"text-align: left;\">AO</td><td style = \"text-align: right;\">-12.5</td><td style = \"text-align: right;\">18.5</td></tr><tr><td class = \"rowNumber\" style = \"font-weight: bold; text-align: right;\">4</td><td style = \"text-align: left;\">ALB</td><td style = \"text-align: right;\">1961</td><td style = \"text-align: right;\">1659800</td><td style = \"text-align: right;\">3.12086</td><td style = \"text-align: left;\">Europe</td><td style = \"text-align: left;\">Albania</td><td style = \"text-align: left;\">AL</td><td style = \"text-align: right;\">41.0</td><td style = \"text-align: right;\">20.0</td></tr><tr><td class = \"rowNumber\" style = \"font-weight: bold; text-align: right;\">5</td><td style = \"text-align: left;\">AND</td><td style = \"text-align: right;\">1961</td><td style = \"text-align: right;\">10216</td><td style = \"text-align: right;\">7.86814</td><td style = \"text-align: left;\">Europe</td><td style = \"text-align: left;\">Andorra</td><td style = \"text-align: left;\">AD</td><td style = \"text-align: right;\">42.5</td><td style = \"text-align: right;\">1.5</td></tr><tr><td class = \"rowNumber\" style = \"font-weight: bold; text-align: right;\">6</td><td style = \"text-align: left;\">ARE</td><td style = \"text-align: right;\">1961</td><td style = \"text-align: right;\">140984</td><td style = \"text-align: right;\">5.50994</td><td style = \"text-align: left;\">Asia</td><td style = \"text-align: left;\">United Arab Emirates</td><td style = \"text-align: left;\">AE</td><td style = \"text-align: right;\">24.0</td><td style = \"text-align: right;\">54.0</td></tr><tr><td class = \"rowNumber\" style = \"font-weight: bold; text-align: right;\">7</td><td style = \"text-align: left;\">ARG</td><td style = \"text-align: right;\">1961</td><td style = \"text-align: right;\">20680653</td><td style = \"text-align: right;\">1.61303</td><td style = \"text-align: left;\">Americas</td><td style = \"text-align: left;\">Argentina</td><td style = \"text-align: left;\">AR</td><td style = \"text-align: right;\">-34.0</td><td style = \"text-align: right;\">-64.0</td></tr><tr><td class = \"rowNumber\" style = \"font-weight: bold; text-align: right;\">8</td><td style = \"text-align: left;\">ARM</td><td style = \"text-align: right;\">1961</td><td style = \"text-align: right;\">1971530</td><td style = \"text-align: right;\">3.47752</td><td style = \"text-align: left;\">Asia</td><td style = \"text-align: left;\">Armenia</td><td style = \"text-align: left;\">AM</td><td style = \"text-align: right;\">40.0</td><td style = \"text-align: right;\">45.0</td></tr><tr><td class = \"rowNumber\" style = \"font-weight: bold; text-align: right;\">9</td><td style = \"text-align: left;\">ASM</td><td style = \"text-align: right;\">1961</td><td style = \"text-align: right;\">20626</td><td style = \"text-align: right;\">2.65791</td><td style = \"text-align: left;\">Oceania</td><td style = \"text-align: left;\">American Samoa</td><td style = \"text-align: left;\">AS</td><td style = \"text-align: right;\">-14.33</td><td style = \"text-align: right;\">-170.0</td></tr><tr><td class = \"rowNumber\" style = \"font-weight: bold; text-align: right;\">10</td><td style = \"text-align: left;\">ATG</td><td style = \"text-align: right;\">1961</td><td style = \"text-align: right;\">56245</td><td style = \"text-align: right;\">1.6185</td><td style = \"text-align: left;\">Americas</td><td style = \"text-align: left;\">Antigua and Barbuda</td><td style = \"text-align: left;\">AG</td><td style = \"text-align: right;\">17.05</td><td style = \"text-align: right;\">-61.8</td></tr><tr><td class = \"rowNumber\" style = \"font-weight: bold; text-align: right;\">11</td><td style = \"text-align: left;\">AUS</td><td style = \"text-align: right;\">1961</td><td style = \"text-align: right;\">10483000</td><td style = \"text-align: right;\">1.98974</td><td style = \"text-align: left;\">Oceania</td><td style = \"text-align: left;\">Australia</td><td style = \"text-align: left;\">AU</td><td style = \"text-align: right;\">-27.0</td><td style = \"text-align: right;\">133.0</td></tr><tr><td class = \"rowNumber\" style = \"font-weight: bold; text-align: right;\">12</td><td style = \"text-align: left;\">AUT</td><td style = \"text-align: right;\">1961</td><td style = \"text-align: right;\">7086299</td><td style = \"text-align: right;\">0.548472</td><td style = \"text-align: left;\">Europe</td><td style = \"text-align: left;\">Austria</td><td style = \"text-align: left;\">AT</td><td style = \"text-align: right;\">47.33</td><td style = \"text-align: right;\">13.33</td></tr><tr><td class = \"rowNumber\" style = \"font-weight: bold; text-align: right;\">13</td><td style = \"text-align: left;\">AZE</td><td style = \"text-align: right;\">1961</td><td style = \"text-align: right;\">4045750</td><td style = \"text-align: right;\">3.81016</td><td style = \"text-align: left;\">Asia</td><td style = \"text-align: left;\">Azerbaijan</td><td style = \"text-align: left;\">AZ</td><td style = \"text-align: right;\">40.5</td><td style = \"text-align: right;\">47.5</td></tr><tr><td style = \"text-align: right;\">&vellip;</td><td style = \"text-align: right;\">&vellip;</td><td style = \"text-align: right;\">&vellip;</td><td style = \"text-align: right;\">&vellip;</td><td style = \"text-align: right;\">&vellip;</td><td style = \"text-align: right;\">&vellip;</td><td style = \"text-align: right;\">&vellip;</td><td style = \"text-align: right;\">&vellip;</td><td style = \"text-align: right;\">&vellip;</td><td style = \"text-align: right;\">&vellip;</td></tr><tr><td class = \"rowNumber\" style = \"font-weight: bold; text-align: right;\">13288</td><td style = \"text-align: left;\">CUW</td><td style = \"text-align: right;\">2021</td><td style = \"text-align: right;\">152369</td><td style = \"text-align: right;\">-1.67779</td><td style = \"text-align: left;\">Americas</td><td style = \"text-align: left;\">Curaçao</td><td style = \"text-align: left;\">CW</td><td style = \"text-align: right;\">missing</td><td style = \"text-align: right;\">missing</td></tr><tr><td class = \"rowNumber\" style = \"font-weight: bold; text-align: right;\">13289</td><td style = \"text-align: left;\">IMN</td><td style = \"text-align: right;\">2021</td><td style = \"text-align: right;\">84263</td><td style = \"text-align: right;\">0.257859</td><td style = \"text-align: left;\">Europe</td><td style = \"text-align: left;\">Isle of Man</td><td style = \"text-align: left;\">IM</td><td style = \"text-align: right;\">missing</td><td style = \"text-align: right;\">missing</td></tr><tr><td class = \"rowNumber\" style = \"font-weight: bold; text-align: right;\">13290</td><td style = \"text-align: left;\">MAF</td><td style = \"text-align: right;\">2021</td><td style = \"text-align: right;\">31948</td><td style = \"text-align: right;\">-1.87599</td><td style = \"text-align: left;\">Americas</td><td style = \"text-align: left;\">Saint Martin (French Part)</td><td style = \"text-align: left;\">MF</td><td style = \"text-align: right;\">missing</td><td style = \"text-align: right;\">missing</td></tr><tr><td class = \"rowNumber\" style = \"font-weight: bold; text-align: right;\">13291</td><td style = \"text-align: left;\">SSD</td><td style = \"text-align: right;\">2021</td><td style = \"text-align: right;\">10748272</td><td style = \"text-align: right;\">1.33037</td><td style = \"text-align: left;\">Africa</td><td style = \"text-align: left;\">South Sudan</td><td style = \"text-align: left;\">SS</td><td style = \"text-align: right;\">missing</td><td style = \"text-align: right;\">missing</td></tr><tr><td class = \"rowNumber\" style = \"font-weight: bold; text-align: right;\">13292</td><td style = \"text-align: left;\">SXM</td><td style = \"text-align: right;\">2021</td><td style = \"text-align: right;\">42846</td><td style = \"text-align: right;\">1.25888</td><td style = \"text-align: left;\">Americas</td><td style = \"text-align: left;\">Sint Maarten (Dutch part)</td><td style = \"text-align: left;\">SX</td><td style = \"text-align: right;\">missing</td><td style = \"text-align: right;\">missing</td></tr><tr><td class = \"rowNumber\" style = \"font-weight: bold; text-align: right;\">13293</td><td style = \"text-align: left;\">TLS</td><td style = \"text-align: right;\">2021</td><td style = \"text-align: right;\">1320942</td><td style = \"text-align: right;\">1.59847</td><td style = \"text-align: left;\">Asia</td><td style = \"text-align: left;\">Timor-Leste</td><td style = \"text-align: left;\">TL</td><td style = \"text-align: right;\">missing</td><td style = \"text-align: right;\">missing</td></tr><tr><td class = \"rowNumber\" style = \"font-weight: bold; text-align: right;\">13294</td><td style = \"text-align: left;\">CUW</td><td style = \"text-align: right;\">2022</td><td style = \"text-align: right;\">149996</td><td style = \"text-align: right;\">-1.56966</td><td style = \"text-align: left;\">Americas</td><td style = \"text-align: left;\">Curaçao</td><td style = \"text-align: left;\">CW</td><td style = \"text-align: right;\">missing</td><td style = \"text-align: right;\">missing</td></tr><tr><td class = \"rowNumber\" style = \"font-weight: bold; text-align: right;\">13295</td><td style = \"text-align: left;\">IMN</td><td style = \"text-align: right;\">2022</td><td style = \"text-align: right;\">84519</td><td style = \"text-align: right;\">0.30335</td><td style = \"text-align: left;\">Europe</td><td style = \"text-align: left;\">Isle of Man</td><td style = \"text-align: left;\">IM</td><td style = \"text-align: right;\">missing</td><td style = \"text-align: right;\">missing</td></tr><tr><td class = \"rowNumber\" style = \"font-weight: bold; text-align: right;\">13296</td><td style = \"text-align: left;\">MAF</td><td style = \"text-align: right;\">2022</td><td style = \"text-align: right;\">31791</td><td style = \"text-align: right;\">-0.492635</td><td style = \"text-align: left;\">Americas</td><td style = \"text-align: left;\">Saint Martin (French Part)</td><td style = \"text-align: left;\">MF</td><td style = \"text-align: right;\">missing</td><td style = \"text-align: right;\">missing</td></tr><tr><td class = \"rowNumber\" style = \"font-weight: bold; text-align: right;\">13297</td><td style = \"text-align: left;\">SSD</td><td style = \"text-align: right;\">2022</td><td style = \"text-align: right;\">10913164</td><td style = \"text-align: right;\">1.52248</td><td style = \"text-align: left;\">Africa</td><td style = \"text-align: left;\">South Sudan</td><td style = \"text-align: left;\">SS</td><td style = \"text-align: right;\">missing</td><td style = \"text-align: right;\">missing</td></tr><tr><td class = \"rowNumber\" style = \"font-weight: bold; text-align: right;\">13298</td><td style = \"text-align: left;\">SXM</td><td style = \"text-align: right;\">2022</td><td style = \"text-align: right;\">43389</td><td style = \"text-align: right;\">1.25937</td><td style = \"text-align: left;\">Americas</td><td style = \"text-align: left;\">Sint Maarten (Dutch part)</td><td style = \"text-align: left;\">SX</td><td style = \"text-align: right;\">missing</td><td style = \"text-align: right;\">missing</td></tr><tr><td class = \"rowNumber\" style = \"font-weight: bold; text-align: right;\">13299</td><td style = \"text-align: left;\">TLS</td><td style = \"text-align: right;\">2022</td><td style = \"text-align: right;\">1341296</td><td style = \"text-align: right;\">1.52912</td><td style = \"text-align: left;\">Asia</td><td style = \"text-align: left;\">Timor-Leste</td><td style = \"text-align: left;\">TL</td><td style = \"text-align: right;\">missing</td><td style = \"text-align: right;\">missing</td></tr></tbody></table></div>"
      ],
      "text/latex": [
       "\\begin{tabular}{r|ccccccc}\n",
       "\t& Country\\_Code & Year & Population & Population\\_Growth\\_Rate & Region\\_Name & Country\\_Name & \\\\\n",
       "\t\\hline\n",
       "\t& String & Int64 & Int64 & Float64 & String? & String & \\\\\n",
       "\t\\hline\n",
       "\t1 & ABW & 1961 & 55811 & 2.17906 & Americas & Aruba & $\\dots$ \\\\\n",
       "\t2 & AFG & 1961 & 8790140 & 1.92595 & Asia & Afghanistan & $\\dots$ \\\\\n",
       "\t3 & AGO & 1961 & 5441333 & 1.55836 & Africa & Angola & $\\dots$ \\\\\n",
       "\t4 & ALB & 1961 & 1659800 & 3.12086 & Europe & Albania & $\\dots$ \\\\\n",
       "\t5 & AND & 1961 & 10216 & 7.86814 & Europe & Andorra & $\\dots$ \\\\\n",
       "\t6 & ARE & 1961 & 140984 & 5.50994 & Asia & United Arab Emirates & $\\dots$ \\\\\n",
       "\t7 & ARG & 1961 & 20680653 & 1.61303 & Americas & Argentina & $\\dots$ \\\\\n",
       "\t8 & ARM & 1961 & 1971530 & 3.47752 & Asia & Armenia & $\\dots$ \\\\\n",
       "\t9 & ASM & 1961 & 20626 & 2.65791 & Oceania & American Samoa & $\\dots$ \\\\\n",
       "\t10 & ATG & 1961 & 56245 & 1.6185 & Americas & Antigua and Barbuda & $\\dots$ \\\\\n",
       "\t11 & AUS & 1961 & 10483000 & 1.98974 & Oceania & Australia & $\\dots$ \\\\\n",
       "\t12 & AUT & 1961 & 7086299 & 0.548472 & Europe & Austria & $\\dots$ \\\\\n",
       "\t13 & AZE & 1961 & 4045750 & 3.81016 & Asia & Azerbaijan & $\\dots$ \\\\\n",
       "\t14 & BDI & 1961 & 2815972 & 2.49335 & Africa & Burundi & $\\dots$ \\\\\n",
       "\t15 & BEL & 1961 & 9183948 & 0.332206 & Europe & Belgium & $\\dots$ \\\\\n",
       "\t16 & BEN & 1961 & 2551216 & 1.53778 & Africa & Benin & $\\dots$ \\\\\n",
       "\t17 & BFA & 1961 & 4852833 & 1.44405 & Africa & Burkina Faso & $\\dots$ \\\\\n",
       "\t18 & BGD & 1961 & 51882769 & 2.90664 & Asia & Bangladesh & $\\dots$ \\\\\n",
       "\t19 & BGR & 1961 & 7943118 & 0.958156 & Europe & Bulgaria & $\\dots$ \\\\\n",
       "\t20 & BHR & 1961 & 166970 & 3.83309 & Asia & Bahrain & $\\dots$ \\\\\n",
       "\t21 & BHS & 1961 & 120216 & 4.87153 & Americas & Bahamas & $\\dots$ \\\\\n",
       "\t22 & BIH & 1961 & 3325333 & 1.90641 & Europe & Bosnia and Herzegovina & $\\dots$ \\\\\n",
       "\t23 & BLR & 1961 & 8271216 & 0.889131 & Europe & Belarus & $\\dots$ \\\\\n",
       "\t24 & BLZ & 1961 & 93757 & 2.5428 & Americas & Belize & $\\dots$ \\\\\n",
       "\t25 & BMU & 1961 & 45500 & 2.44729 & Americas & Bermuda & $\\dots$ \\\\\n",
       "\t26 & BOL & 1961 & 3784744 & 2.06164 & Americas & Bolivia (Plurinational State of) & $\\dots$ \\\\\n",
       "\t27 & BRA & 1961 & 75330008 & 3.01526 & Americas & Brazil & $\\dots$ \\\\\n",
       "\t28 & BRB & 1961 & 233698 & 0.492443 & Americas & Barbados & $\\dots$ \\\\\n",
       "\t29 & BRN & 1961 & 89561 & 4.82064 & Asia & Brunei Darussalam & $\\dots$ \\\\\n",
       "\t30 & BTN & 1961 & 227071 & 2.58971 & Asia & Bhutan & $\\dots$ \\\\\n",
       "\t$\\dots$ & $\\dots$ & $\\dots$ & $\\dots$ & $\\dots$ & $\\dots$ & $\\dots$ &  \\\\\n",
       "\\end{tabular}\n"
      ],
      "text/plain": [
       "\u001b[1m13299×9 DataFrame\u001b[0m\n",
       "\u001b[1m   Row \u001b[0m│\u001b[1m Country_Code \u001b[0m\u001b[1m Year  \u001b[0m\u001b[1m Population \u001b[0m\u001b[1m Population_Growth_Rate \u001b[0m\u001b[1m Region_Name \u001b[0m\u001b[1m\u001b[0m ⋯\n",
       "       │\u001b[90m String       \u001b[0m\u001b[90m Int64 \u001b[0m\u001b[90m Int64      \u001b[0m\u001b[90m Float64                \u001b[0m\u001b[90m String?     \u001b[0m\u001b[90m\u001b[0m ⋯\n",
       "───────┼────────────────────────────────────────────────────────────────────────\n",
       "     1 │ ABW            1961       55811                2.17906   Americas     ⋯\n",
       "     2 │ AFG            1961     8790140                1.92595   Asia\n",
       "     3 │ AGO            1961     5441333                1.55836   Africa\n",
       "     4 │ ALB            1961     1659800                3.12086   Europe\n",
       "     5 │ AND            1961       10216                7.86814   Europe       ⋯\n",
       "     6 │ ARE            1961      140984                5.50994   Asia\n",
       "     7 │ ARG            1961    20680653                1.61303   Americas\n",
       "     8 │ ARM            1961     1971530                3.47752   Asia\n",
       "     9 │ ASM            1961       20626                2.65791   Oceania      ⋯\n",
       "    10 │ ATG            1961       56245                1.6185    Americas\n",
       "    11 │ AUS            1961    10483000                1.98974   Oceania\n",
       "   ⋮   │      ⋮          ⋮        ⋮                 ⋮                  ⋮       ⋱\n",
       " 13290 │ MAF            2021       31948               -1.87599   Americas\n",
       " 13291 │ SSD            2021    10748272                1.33037   Africa       ⋯\n",
       " 13292 │ SXM            2021       42846                1.25888   Americas\n",
       " 13293 │ TLS            2021     1320942                1.59847   Asia\n",
       " 13294 │ CUW            2022      149996               -1.56966   Americas\n",
       " 13295 │ IMN            2022       84519                0.30335   Europe       ⋯\n",
       " 13296 │ MAF            2022       31791               -0.492635  Americas\n",
       " 13297 │ SSD            2022    10913164                1.52248   Africa\n",
       " 13298 │ SXM            2022       43389                1.25937   Americas\n",
       " 13299 │ TLS            2022     1341296                1.52912   Asia         ⋯\n",
       "\u001b[36m                                                4 columns and 13278 rows omitted\u001b[0m"
      ]
     },
     "execution_count": 11,
     "metadata": {},
     "output_type": "execute_result"
    }
   ],
   "source": [
    "Population = leftjoin(Population, \n",
    "    Geo_info, \n",
    "    on=:County_Code_alpha2, \n",
    "    makeunique=true, \n",
    "    matchmissing=:equal)"
   ]
  },
  {
   "cell_type": "markdown",
   "id": "c0d6287a-895c-4006-8209-35932517322c",
   "metadata": {},
   "source": [
    "### comment\n",
    "\n",
    "Unlike population information (which is our main topic), geographic information is not necessary. We used leftjoin this time to keep all observations from `Population` table, allowing missing values for **Latitude** and **Longitude**."
   ]
  },
  {
   "cell_type": "code",
   "execution_count": 12,
   "id": "7d275688-4559-4418-b3f4-1e8d4ababa27",
   "metadata": {
    "scrolled": true
   },
   "outputs": [
    {
     "data": {
      "text/html": [
       "<div><div style = \"float: left;\"><span>13299×8 DataFrame</span></div><div style = \"float: right;\"><span style = \"font-style: italic;\">13274 rows omitted</span></div><div style = \"clear: both;\"></div></div><div class = \"data-frame\" style = \"overflow-x: scroll;\"><table class = \"data-frame\" style = \"margin-bottom: 6px;\"><thead><tr class = \"header\"><th class = \"rowNumber\" style = \"font-weight: bold; text-align: right;\">Row</th><th style = \"text-align: left;\">Country_Code</th><th style = \"text-align: left;\">Year</th><th style = \"text-align: left;\">Population</th><th style = \"text-align: left;\">Population_Growth_Rate</th><th style = \"text-align: left;\">Region_Name</th><th style = \"text-align: left;\">Country_Name</th><th style = \"text-align: left;\">Latitude</th><th style = \"text-align: left;\">Longitude</th></tr><tr class = \"subheader headerLastRow\"><th class = \"rowNumber\" style = \"font-weight: bold; text-align: right;\"></th><th title = \"String\" style = \"text-align: left;\">String</th><th title = \"Int64\" style = \"text-align: left;\">Int64</th><th title = \"Int64\" style = \"text-align: left;\">Int64</th><th title = \"Float64\" style = \"text-align: left;\">Float64</th><th title = \"Union{Missing, String}\" style = \"text-align: left;\">String?</th><th title = \"String\" style = \"text-align: left;\">String</th><th title = \"Union{Missing, Float64}\" style = \"text-align: left;\">Float64?</th><th title = \"Union{Missing, Float64}\" style = \"text-align: left;\">Float64?</th></tr></thead><tbody><tr><td class = \"rowNumber\" style = \"font-weight: bold; text-align: right;\">1</td><td style = \"text-align: left;\">ABW</td><td style = \"text-align: right;\">1961</td><td style = \"text-align: right;\">55811</td><td style = \"text-align: right;\">2.17906</td><td style = \"text-align: left;\">Americas</td><td style = \"text-align: left;\">Aruba</td><td style = \"text-align: right;\">12.5</td><td style = \"text-align: right;\">-69.97</td></tr><tr><td class = \"rowNumber\" style = \"font-weight: bold; text-align: right;\">2</td><td style = \"text-align: left;\">AFG</td><td style = \"text-align: right;\">1961</td><td style = \"text-align: right;\">8790140</td><td style = \"text-align: right;\">1.92595</td><td style = \"text-align: left;\">Asia</td><td style = \"text-align: left;\">Afghanistan</td><td style = \"text-align: right;\">33.0</td><td style = \"text-align: right;\">65.0</td></tr><tr><td class = \"rowNumber\" style = \"font-weight: bold; text-align: right;\">3</td><td style = \"text-align: left;\">AGO</td><td style = \"text-align: right;\">1961</td><td style = \"text-align: right;\">5441333</td><td style = \"text-align: right;\">1.55836</td><td style = \"text-align: left;\">Africa</td><td style = \"text-align: left;\">Angola</td><td style = \"text-align: right;\">-12.5</td><td style = \"text-align: right;\">18.5</td></tr><tr><td class = \"rowNumber\" style = \"font-weight: bold; text-align: right;\">4</td><td style = \"text-align: left;\">ALB</td><td style = \"text-align: right;\">1961</td><td style = \"text-align: right;\">1659800</td><td style = \"text-align: right;\">3.12086</td><td style = \"text-align: left;\">Europe</td><td style = \"text-align: left;\">Albania</td><td style = \"text-align: right;\">41.0</td><td style = \"text-align: right;\">20.0</td></tr><tr><td class = \"rowNumber\" style = \"font-weight: bold; text-align: right;\">5</td><td style = \"text-align: left;\">AND</td><td style = \"text-align: right;\">1961</td><td style = \"text-align: right;\">10216</td><td style = \"text-align: right;\">7.86814</td><td style = \"text-align: left;\">Europe</td><td style = \"text-align: left;\">Andorra</td><td style = \"text-align: right;\">42.5</td><td style = \"text-align: right;\">1.5</td></tr><tr><td class = \"rowNumber\" style = \"font-weight: bold; text-align: right;\">6</td><td style = \"text-align: left;\">ARE</td><td style = \"text-align: right;\">1961</td><td style = \"text-align: right;\">140984</td><td style = \"text-align: right;\">5.50994</td><td style = \"text-align: left;\">Asia</td><td style = \"text-align: left;\">United Arab Emirates</td><td style = \"text-align: right;\">24.0</td><td style = \"text-align: right;\">54.0</td></tr><tr><td class = \"rowNumber\" style = \"font-weight: bold; text-align: right;\">7</td><td style = \"text-align: left;\">ARG</td><td style = \"text-align: right;\">1961</td><td style = \"text-align: right;\">20680653</td><td style = \"text-align: right;\">1.61303</td><td style = \"text-align: left;\">Americas</td><td style = \"text-align: left;\">Argentina</td><td style = \"text-align: right;\">-34.0</td><td style = \"text-align: right;\">-64.0</td></tr><tr><td class = \"rowNumber\" style = \"font-weight: bold; text-align: right;\">8</td><td style = \"text-align: left;\">ARM</td><td style = \"text-align: right;\">1961</td><td style = \"text-align: right;\">1971530</td><td style = \"text-align: right;\">3.47752</td><td style = \"text-align: left;\">Asia</td><td style = \"text-align: left;\">Armenia</td><td style = \"text-align: right;\">40.0</td><td style = \"text-align: right;\">45.0</td></tr><tr><td class = \"rowNumber\" style = \"font-weight: bold; text-align: right;\">9</td><td style = \"text-align: left;\">ASM</td><td style = \"text-align: right;\">1961</td><td style = \"text-align: right;\">20626</td><td style = \"text-align: right;\">2.65791</td><td style = \"text-align: left;\">Oceania</td><td style = \"text-align: left;\">American Samoa</td><td style = \"text-align: right;\">-14.33</td><td style = \"text-align: right;\">-170.0</td></tr><tr><td class = \"rowNumber\" style = \"font-weight: bold; text-align: right;\">10</td><td style = \"text-align: left;\">ATG</td><td style = \"text-align: right;\">1961</td><td style = \"text-align: right;\">56245</td><td style = \"text-align: right;\">1.6185</td><td style = \"text-align: left;\">Americas</td><td style = \"text-align: left;\">Antigua and Barbuda</td><td style = \"text-align: right;\">17.05</td><td style = \"text-align: right;\">-61.8</td></tr><tr><td class = \"rowNumber\" style = \"font-weight: bold; text-align: right;\">11</td><td style = \"text-align: left;\">AUS</td><td style = \"text-align: right;\">1961</td><td style = \"text-align: right;\">10483000</td><td style = \"text-align: right;\">1.98974</td><td style = \"text-align: left;\">Oceania</td><td style = \"text-align: left;\">Australia</td><td style = \"text-align: right;\">-27.0</td><td style = \"text-align: right;\">133.0</td></tr><tr><td class = \"rowNumber\" style = \"font-weight: bold; text-align: right;\">12</td><td style = \"text-align: left;\">AUT</td><td style = \"text-align: right;\">1961</td><td style = \"text-align: right;\">7086299</td><td style = \"text-align: right;\">0.548472</td><td style = \"text-align: left;\">Europe</td><td style = \"text-align: left;\">Austria</td><td style = \"text-align: right;\">47.33</td><td style = \"text-align: right;\">13.33</td></tr><tr><td class = \"rowNumber\" style = \"font-weight: bold; text-align: right;\">13</td><td style = \"text-align: left;\">AZE</td><td style = \"text-align: right;\">1961</td><td style = \"text-align: right;\">4045750</td><td style = \"text-align: right;\">3.81016</td><td style = \"text-align: left;\">Asia</td><td style = \"text-align: left;\">Azerbaijan</td><td style = \"text-align: right;\">40.5</td><td style = \"text-align: right;\">47.5</td></tr><tr><td style = \"text-align: right;\">&vellip;</td><td style = \"text-align: right;\">&vellip;</td><td style = \"text-align: right;\">&vellip;</td><td style = \"text-align: right;\">&vellip;</td><td style = \"text-align: right;\">&vellip;</td><td style = \"text-align: right;\">&vellip;</td><td style = \"text-align: right;\">&vellip;</td><td style = \"text-align: right;\">&vellip;</td><td style = \"text-align: right;\">&vellip;</td></tr><tr><td class = \"rowNumber\" style = \"font-weight: bold; text-align: right;\">13288</td><td style = \"text-align: left;\">CUW</td><td style = \"text-align: right;\">2021</td><td style = \"text-align: right;\">152369</td><td style = \"text-align: right;\">-1.67779</td><td style = \"text-align: left;\">Americas</td><td style = \"text-align: left;\">Curaçao</td><td style = \"text-align: right;\">missing</td><td style = \"text-align: right;\">missing</td></tr><tr><td class = \"rowNumber\" style = \"font-weight: bold; text-align: right;\">13289</td><td style = \"text-align: left;\">IMN</td><td style = \"text-align: right;\">2021</td><td style = \"text-align: right;\">84263</td><td style = \"text-align: right;\">0.257859</td><td style = \"text-align: left;\">Europe</td><td style = \"text-align: left;\">Isle of Man</td><td style = \"text-align: right;\">missing</td><td style = \"text-align: right;\">missing</td></tr><tr><td class = \"rowNumber\" style = \"font-weight: bold; text-align: right;\">13290</td><td style = \"text-align: left;\">MAF</td><td style = \"text-align: right;\">2021</td><td style = \"text-align: right;\">31948</td><td style = \"text-align: right;\">-1.87599</td><td style = \"text-align: left;\">Americas</td><td style = \"text-align: left;\">Saint Martin (French Part)</td><td style = \"text-align: right;\">missing</td><td style = \"text-align: right;\">missing</td></tr><tr><td class = \"rowNumber\" style = \"font-weight: bold; text-align: right;\">13291</td><td style = \"text-align: left;\">SSD</td><td style = \"text-align: right;\">2021</td><td style = \"text-align: right;\">10748272</td><td style = \"text-align: right;\">1.33037</td><td style = \"text-align: left;\">Africa</td><td style = \"text-align: left;\">South Sudan</td><td style = \"text-align: right;\">missing</td><td style = \"text-align: right;\">missing</td></tr><tr><td class = \"rowNumber\" style = \"font-weight: bold; text-align: right;\">13292</td><td style = \"text-align: left;\">SXM</td><td style = \"text-align: right;\">2021</td><td style = \"text-align: right;\">42846</td><td style = \"text-align: right;\">1.25888</td><td style = \"text-align: left;\">Americas</td><td style = \"text-align: left;\">Sint Maarten (Dutch part)</td><td style = \"text-align: right;\">missing</td><td style = \"text-align: right;\">missing</td></tr><tr><td class = \"rowNumber\" style = \"font-weight: bold; text-align: right;\">13293</td><td style = \"text-align: left;\">TLS</td><td style = \"text-align: right;\">2021</td><td style = \"text-align: right;\">1320942</td><td style = \"text-align: right;\">1.59847</td><td style = \"text-align: left;\">Asia</td><td style = \"text-align: left;\">Timor-Leste</td><td style = \"text-align: right;\">missing</td><td style = \"text-align: right;\">missing</td></tr><tr><td class = \"rowNumber\" style = \"font-weight: bold; text-align: right;\">13294</td><td style = \"text-align: left;\">CUW</td><td style = \"text-align: right;\">2022</td><td style = \"text-align: right;\">149996</td><td style = \"text-align: right;\">-1.56966</td><td style = \"text-align: left;\">Americas</td><td style = \"text-align: left;\">Curaçao</td><td style = \"text-align: right;\">missing</td><td style = \"text-align: right;\">missing</td></tr><tr><td class = \"rowNumber\" style = \"font-weight: bold; text-align: right;\">13295</td><td style = \"text-align: left;\">IMN</td><td style = \"text-align: right;\">2022</td><td style = \"text-align: right;\">84519</td><td style = \"text-align: right;\">0.30335</td><td style = \"text-align: left;\">Europe</td><td style = \"text-align: left;\">Isle of Man</td><td style = \"text-align: right;\">missing</td><td style = \"text-align: right;\">missing</td></tr><tr><td class = \"rowNumber\" style = \"font-weight: bold; text-align: right;\">13296</td><td style = \"text-align: left;\">MAF</td><td style = \"text-align: right;\">2022</td><td style = \"text-align: right;\">31791</td><td style = \"text-align: right;\">-0.492635</td><td style = \"text-align: left;\">Americas</td><td style = \"text-align: left;\">Saint Martin (French Part)</td><td style = \"text-align: right;\">missing</td><td style = \"text-align: right;\">missing</td></tr><tr><td class = \"rowNumber\" style = \"font-weight: bold; text-align: right;\">13297</td><td style = \"text-align: left;\">SSD</td><td style = \"text-align: right;\">2022</td><td style = \"text-align: right;\">10913164</td><td style = \"text-align: right;\">1.52248</td><td style = \"text-align: left;\">Africa</td><td style = \"text-align: left;\">South Sudan</td><td style = \"text-align: right;\">missing</td><td style = \"text-align: right;\">missing</td></tr><tr><td class = \"rowNumber\" style = \"font-weight: bold; text-align: right;\">13298</td><td style = \"text-align: left;\">SXM</td><td style = \"text-align: right;\">2022</td><td style = \"text-align: right;\">43389</td><td style = \"text-align: right;\">1.25937</td><td style = \"text-align: left;\">Americas</td><td style = \"text-align: left;\">Sint Maarten (Dutch part)</td><td style = \"text-align: right;\">missing</td><td style = \"text-align: right;\">missing</td></tr><tr><td class = \"rowNumber\" style = \"font-weight: bold; text-align: right;\">13299</td><td style = \"text-align: left;\">TLS</td><td style = \"text-align: right;\">2022</td><td style = \"text-align: right;\">1341296</td><td style = \"text-align: right;\">1.52912</td><td style = \"text-align: left;\">Asia</td><td style = \"text-align: left;\">Timor-Leste</td><td style = \"text-align: right;\">missing</td><td style = \"text-align: right;\">missing</td></tr></tbody></table></div>"
      ],
      "text/latex": [
       "\\begin{tabular}{r|ccccccc}\n",
       "\t& Country\\_Code & Year & Population & Population\\_Growth\\_Rate & Region\\_Name & Country\\_Name & \\\\\n",
       "\t\\hline\n",
       "\t& String & Int64 & Int64 & Float64 & String? & String & \\\\\n",
       "\t\\hline\n",
       "\t1 & ABW & 1961 & 55811 & 2.17906 & Americas & Aruba & $\\dots$ \\\\\n",
       "\t2 & AFG & 1961 & 8790140 & 1.92595 & Asia & Afghanistan & $\\dots$ \\\\\n",
       "\t3 & AGO & 1961 & 5441333 & 1.55836 & Africa & Angola & $\\dots$ \\\\\n",
       "\t4 & ALB & 1961 & 1659800 & 3.12086 & Europe & Albania & $\\dots$ \\\\\n",
       "\t5 & AND & 1961 & 10216 & 7.86814 & Europe & Andorra & $\\dots$ \\\\\n",
       "\t6 & ARE & 1961 & 140984 & 5.50994 & Asia & United Arab Emirates & $\\dots$ \\\\\n",
       "\t7 & ARG & 1961 & 20680653 & 1.61303 & Americas & Argentina & $\\dots$ \\\\\n",
       "\t8 & ARM & 1961 & 1971530 & 3.47752 & Asia & Armenia & $\\dots$ \\\\\n",
       "\t9 & ASM & 1961 & 20626 & 2.65791 & Oceania & American Samoa & $\\dots$ \\\\\n",
       "\t10 & ATG & 1961 & 56245 & 1.6185 & Americas & Antigua and Barbuda & $\\dots$ \\\\\n",
       "\t11 & AUS & 1961 & 10483000 & 1.98974 & Oceania & Australia & $\\dots$ \\\\\n",
       "\t12 & AUT & 1961 & 7086299 & 0.548472 & Europe & Austria & $\\dots$ \\\\\n",
       "\t13 & AZE & 1961 & 4045750 & 3.81016 & Asia & Azerbaijan & $\\dots$ \\\\\n",
       "\t14 & BDI & 1961 & 2815972 & 2.49335 & Africa & Burundi & $\\dots$ \\\\\n",
       "\t15 & BEL & 1961 & 9183948 & 0.332206 & Europe & Belgium & $\\dots$ \\\\\n",
       "\t16 & BEN & 1961 & 2551216 & 1.53778 & Africa & Benin & $\\dots$ \\\\\n",
       "\t17 & BFA & 1961 & 4852833 & 1.44405 & Africa & Burkina Faso & $\\dots$ \\\\\n",
       "\t18 & BGD & 1961 & 51882769 & 2.90664 & Asia & Bangladesh & $\\dots$ \\\\\n",
       "\t19 & BGR & 1961 & 7943118 & 0.958156 & Europe & Bulgaria & $\\dots$ \\\\\n",
       "\t20 & BHR & 1961 & 166970 & 3.83309 & Asia & Bahrain & $\\dots$ \\\\\n",
       "\t21 & BHS & 1961 & 120216 & 4.87153 & Americas & Bahamas & $\\dots$ \\\\\n",
       "\t22 & BIH & 1961 & 3325333 & 1.90641 & Europe & Bosnia and Herzegovina & $\\dots$ \\\\\n",
       "\t23 & BLR & 1961 & 8271216 & 0.889131 & Europe & Belarus & $\\dots$ \\\\\n",
       "\t24 & BLZ & 1961 & 93757 & 2.5428 & Americas & Belize & $\\dots$ \\\\\n",
       "\t25 & BMU & 1961 & 45500 & 2.44729 & Americas & Bermuda & $\\dots$ \\\\\n",
       "\t26 & BOL & 1961 & 3784744 & 2.06164 & Americas & Bolivia (Plurinational State of) & $\\dots$ \\\\\n",
       "\t27 & BRA & 1961 & 75330008 & 3.01526 & Americas & Brazil & $\\dots$ \\\\\n",
       "\t28 & BRB & 1961 & 233698 & 0.492443 & Americas & Barbados & $\\dots$ \\\\\n",
       "\t29 & BRN & 1961 & 89561 & 4.82064 & Asia & Brunei Darussalam & $\\dots$ \\\\\n",
       "\t30 & BTN & 1961 & 227071 & 2.58971 & Asia & Bhutan & $\\dots$ \\\\\n",
       "\t$\\dots$ & $\\dots$ & $\\dots$ & $\\dots$ & $\\dots$ & $\\dots$ & $\\dots$ &  \\\\\n",
       "\\end{tabular}\n"
      ],
      "text/plain": [
       "\u001b[1m13299×8 DataFrame\u001b[0m\n",
       "\u001b[1m   Row \u001b[0m│\u001b[1m Country_Code \u001b[0m\u001b[1m Year  \u001b[0m\u001b[1m Population \u001b[0m\u001b[1m Population_Growth_Rate \u001b[0m\u001b[1m Region_Name \u001b[0m\u001b[1m\u001b[0m ⋯\n",
       "       │\u001b[90m String       \u001b[0m\u001b[90m Int64 \u001b[0m\u001b[90m Int64      \u001b[0m\u001b[90m Float64                \u001b[0m\u001b[90m String?     \u001b[0m\u001b[90m\u001b[0m ⋯\n",
       "───────┼────────────────────────────────────────────────────────────────────────\n",
       "     1 │ ABW            1961       55811                2.17906   Americas     ⋯\n",
       "     2 │ AFG            1961     8790140                1.92595   Asia\n",
       "     3 │ AGO            1961     5441333                1.55836   Africa\n",
       "     4 │ ALB            1961     1659800                3.12086   Europe\n",
       "     5 │ AND            1961       10216                7.86814   Europe       ⋯\n",
       "     6 │ ARE            1961      140984                5.50994   Asia\n",
       "     7 │ ARG            1961    20680653                1.61303   Americas\n",
       "     8 │ ARM            1961     1971530                3.47752   Asia\n",
       "     9 │ ASM            1961       20626                2.65791   Oceania      ⋯\n",
       "    10 │ ATG            1961       56245                1.6185    Americas\n",
       "    11 │ AUS            1961    10483000                1.98974   Oceania\n",
       "   ⋮   │      ⋮          ⋮        ⋮                 ⋮                  ⋮       ⋱\n",
       " 13290 │ MAF            2021       31948               -1.87599   Americas\n",
       " 13291 │ SSD            2021    10748272                1.33037   Africa       ⋯\n",
       " 13292 │ SXM            2021       42846                1.25888   Americas\n",
       " 13293 │ TLS            2021     1320942                1.59847   Asia\n",
       " 13294 │ CUW            2022      149996               -1.56966   Americas\n",
       " 13295 │ IMN            2022       84519                0.30335   Europe       ⋯\n",
       " 13296 │ MAF            2022       31791               -0.492635  Americas\n",
       " 13297 │ SSD            2022    10913164                1.52248   Africa\n",
       " 13298 │ SXM            2022       43389                1.25937   Americas\n",
       " 13299 │ TLS            2022     1341296                1.52912   Asia         ⋯\n",
       "\u001b[36m                                                3 columns and 13278 rows omitted\u001b[0m"
      ]
     },
     "execution_count": 12,
     "metadata": {},
     "output_type": "execute_result"
    }
   ],
   "source": [
    "Population = select(Population, Not(:County_Code_alpha2))"
   ]
  },
  {
   "cell_type": "markdown",
   "id": "6dec72db-5913-4432-9bfc-22e4f55d5e14",
   "metadata": {},
   "source": [
    "### comment\n",
    "\n",
    "As we joined `Geo_info` table, we don't need alpha-2 code anymore because there is 3 letter code which deliver the exact same information with it. So, **County_Code_alpha2** is dropped."
   ]
  },
  {
   "cell_type": "code",
   "execution_count": 13,
   "id": "8b755586-ecad-4460-83fa-6b5e353d6302",
   "metadata": {
    "scrolled": true
   },
   "outputs": [
    {
     "data": {
      "text/html": [
       "<div><div style = \"float: left;\"><span>13299×8 DataFrame</span></div><div style = \"float: right;\"><span style = \"font-style: italic;\">13274 rows omitted</span></div><div style = \"clear: both;\"></div></div><div class = \"data-frame\" style = \"overflow-x: scroll;\"><table class = \"data-frame\" style = \"margin-bottom: 6px;\"><thead><tr class = \"header\"><th class = \"rowNumber\" style = \"font-weight: bold; text-align: right;\">Row</th><th style = \"text-align: left;\">Country_Code</th><th style = \"text-align: left;\">Year</th><th style = \"text-align: left;\">Population</th><th style = \"text-align: left;\">Population_Growth_Rate</th><th style = \"text-align: left;\">Region_Name</th><th style = \"text-align: left;\">Country_Name</th><th style = \"text-align: left;\">Latitude</th><th style = \"text-align: left;\">Longitude</th></tr><tr class = \"subheader headerLastRow\"><th class = \"rowNumber\" style = \"font-weight: bold; text-align: right;\"></th><th title = \"String\" style = \"text-align: left;\">String</th><th title = \"Int64\" style = \"text-align: left;\">Int64</th><th title = \"Int64\" style = \"text-align: left;\">Int64</th><th title = \"Float64\" style = \"text-align: left;\">Float64</th><th title = \"Union{Missing, String}\" style = \"text-align: left;\">String?</th><th title = \"String\" style = \"text-align: left;\">String</th><th title = \"Union{Missing, Float64}\" style = \"text-align: left;\">Float64?</th><th title = \"Union{Missing, Float64}\" style = \"text-align: left;\">Float64?</th></tr></thead><tbody><tr><td class = \"rowNumber\" style = \"font-weight: bold; text-align: right;\">1</td><td style = \"text-align: left;\">IND</td><td style = \"text-align: right;\">2022</td><td style = \"text-align: right;\">1417173173</td><td style = \"text-align: right;\">0.680373</td><td style = \"text-align: left;\">Asia</td><td style = \"text-align: left;\">India</td><td style = \"text-align: right;\">20.0</td><td style = \"text-align: right;\">77.0</td></tr><tr><td class = \"rowNumber\" style = \"font-weight: bold; text-align: right;\">2</td><td style = \"text-align: left;\">CHN</td><td style = \"text-align: right;\">2021</td><td style = \"text-align: right;\">1412360000</td><td style = \"text-align: right;\">0.0892522</td><td style = \"text-align: left;\">Asia</td><td style = \"text-align: left;\">China</td><td style = \"text-align: right;\">35.0</td><td style = \"text-align: right;\">105.0</td></tr><tr><td class = \"rowNumber\" style = \"font-weight: bold; text-align: right;\">3</td><td style = \"text-align: left;\">CHN</td><td style = \"text-align: right;\">2022</td><td style = \"text-align: right;\">1412175000</td><td style = \"text-align: right;\">-0.0130995</td><td style = \"text-align: left;\">Asia</td><td style = \"text-align: left;\">China</td><td style = \"text-align: right;\">35.0</td><td style = \"text-align: right;\">105.0</td></tr><tr><td class = \"rowNumber\" style = \"font-weight: bold; text-align: right;\">4</td><td style = \"text-align: left;\">CHN</td><td style = \"text-align: right;\">2020</td><td style = \"text-align: right;\">1411100000</td><td style = \"text-align: right;\">0.238041</td><td style = \"text-align: left;\">Asia</td><td style = \"text-align: left;\">China</td><td style = \"text-align: right;\">35.0</td><td style = \"text-align: right;\">105.0</td></tr><tr><td class = \"rowNumber\" style = \"font-weight: bold; text-align: right;\">5</td><td style = \"text-align: left;\">CHN</td><td style = \"text-align: right;\">2019</td><td style = \"text-align: right;\">1407745000</td><td style = \"text-align: right;\">0.354741</td><td style = \"text-align: left;\">Asia</td><td style = \"text-align: left;\">China</td><td style = \"text-align: right;\">35.0</td><td style = \"text-align: right;\">105.0</td></tr><tr><td class = \"rowNumber\" style = \"font-weight: bold; text-align: right;\">6</td><td style = \"text-align: left;\">IND</td><td style = \"text-align: right;\">2021</td><td style = \"text-align: right;\">1407563842</td><td style = \"text-align: right;\">0.797216</td><td style = \"text-align: left;\">Asia</td><td style = \"text-align: left;\">India</td><td style = \"text-align: right;\">20.0</td><td style = \"text-align: right;\">77.0</td></tr><tr><td class = \"rowNumber\" style = \"font-weight: bold; text-align: right;\">7</td><td style = \"text-align: left;\">CHN</td><td style = \"text-align: right;\">2018</td><td style = \"text-align: right;\">1402760000</td><td style = \"text-align: right;\">0.467672</td><td style = \"text-align: left;\">Asia</td><td style = \"text-align: left;\">China</td><td style = \"text-align: right;\">35.0</td><td style = \"text-align: right;\">105.0</td></tr><tr><td class = \"rowNumber\" style = \"font-weight: bold; text-align: right;\">8</td><td style = \"text-align: left;\">IND</td><td style = \"text-align: right;\">2020</td><td style = \"text-align: right;\">1396387127</td><td style = \"text-align: right;\">0.955221</td><td style = \"text-align: left;\">Asia</td><td style = \"text-align: left;\">India</td><td style = \"text-align: right;\">20.0</td><td style = \"text-align: right;\">77.0</td></tr><tr><td class = \"rowNumber\" style = \"font-weight: bold; text-align: right;\">9</td><td style = \"text-align: left;\">CHN</td><td style = \"text-align: right;\">2017</td><td style = \"text-align: right;\">1396215000</td><td style = \"text-align: right;\">0.605245</td><td style = \"text-align: left;\">Asia</td><td style = \"text-align: left;\">China</td><td style = \"text-align: right;\">35.0</td><td style = \"text-align: right;\">105.0</td></tr><tr><td class = \"rowNumber\" style = \"font-weight: bold; text-align: right;\">10</td><td style = \"text-align: left;\">CHN</td><td style = \"text-align: right;\">2016</td><td style = \"text-align: right;\">1387790000</td><td style = \"text-align: right;\">0.573051</td><td style = \"text-align: left;\">Asia</td><td style = \"text-align: left;\">China</td><td style = \"text-align: right;\">35.0</td><td style = \"text-align: right;\">105.0</td></tr><tr><td class = \"rowNumber\" style = \"font-weight: bold; text-align: right;\">11</td><td style = \"text-align: left;\">IND</td><td style = \"text-align: right;\">2019</td><td style = \"text-align: right;\">1383112050</td><td style = \"text-align: right;\">1.02531</td><td style = \"text-align: left;\">Asia</td><td style = \"text-align: left;\">India</td><td style = \"text-align: right;\">20.0</td><td style = \"text-align: right;\">77.0</td></tr><tr><td class = \"rowNumber\" style = \"font-weight: bold; text-align: right;\">12</td><td style = \"text-align: left;\">CHN</td><td style = \"text-align: right;\">2015</td><td style = \"text-align: right;\">1379860000</td><td style = \"text-align: right;\">0.581456</td><td style = \"text-align: left;\">Asia</td><td style = \"text-align: left;\">China</td><td style = \"text-align: right;\">35.0</td><td style = \"text-align: right;\">105.0</td></tr><tr><td class = \"rowNumber\" style = \"font-weight: bold; text-align: right;\">13</td><td style = \"text-align: left;\">CHN</td><td style = \"text-align: right;\">2014</td><td style = \"text-align: right;\">1371860000</td><td style = \"text-align: right;\">0.630326</td><td style = \"text-align: left;\">Asia</td><td style = \"text-align: left;\">China</td><td style = \"text-align: right;\">35.0</td><td style = \"text-align: right;\">105.0</td></tr><tr><td style = \"text-align: right;\">&vellip;</td><td style = \"text-align: right;\">&vellip;</td><td style = \"text-align: right;\">&vellip;</td><td style = \"text-align: right;\">&vellip;</td><td style = \"text-align: right;\">&vellip;</td><td style = \"text-align: right;\">&vellip;</td><td style = \"text-align: right;\">&vellip;</td><td style = \"text-align: right;\">&vellip;</td><td style = \"text-align: right;\">&vellip;</td></tr><tr><td class = \"rowNumber\" style = \"font-weight: bold; text-align: right;\">13288</td><td style = \"text-align: left;\">MAF</td><td style = \"text-align: right;\">1965</td><td style = \"text-align: right;\">4832</td><td style = \"text-align: right;\">3.49583</td><td style = \"text-align: left;\">Americas</td><td style = \"text-align: left;\">Saint Martin (French Part)</td><td style = \"text-align: right;\">missing</td><td style = \"text-align: right;\">missing</td></tr><tr><td class = \"rowNumber\" style = \"font-weight: bold; text-align: right;\">13289</td><td style = \"text-align: left;\">NRU</td><td style = \"text-align: right;\">1961</td><td style = \"text-align: right;\">4753</td><td style = \"text-align: right;\">3.66404</td><td style = \"text-align: left;\">Oceania</td><td style = \"text-align: left;\">Nauru</td><td style = \"text-align: right;\">-0.53</td><td style = \"text-align: right;\">166.92</td></tr><tr><td class = \"rowNumber\" style = \"font-weight: bold; text-align: right;\">13290</td><td style = \"text-align: left;\">MAF</td><td style = \"text-align: right;\">1964</td><td style = \"text-align: right;\">4666</td><td style = \"text-align: right;\">3.09056</td><td style = \"text-align: left;\">Americas</td><td style = \"text-align: left;\">Saint Martin (French Part)</td><td style = \"text-align: right;\">missing</td><td style = \"text-align: right;\">missing</td></tr><tr><td class = \"rowNumber\" style = \"font-weight: bold; text-align: right;\">13291</td><td style = \"text-align: left;\">SXM</td><td style = \"text-align: right;\">1966</td><td style = \"text-align: right;\">4531</td><td style = \"text-align: right;\">8.51872</td><td style = \"text-align: left;\">Americas</td><td style = \"text-align: left;\">Sint Maarten (Dutch part)</td><td style = \"text-align: right;\">missing</td><td style = \"text-align: right;\">missing</td></tr><tr><td class = \"rowNumber\" style = \"font-weight: bold; text-align: right;\">13292</td><td style = \"text-align: left;\">MAF</td><td style = \"text-align: right;\">1963</td><td style = \"text-align: right;\">4524</td><td style = \"text-align: right;\">3.0523</td><td style = \"text-align: left;\">Americas</td><td style = \"text-align: left;\">Saint Martin (French Part)</td><td style = \"text-align: right;\">missing</td><td style = \"text-align: right;\">missing</td></tr><tr><td class = \"rowNumber\" style = \"font-weight: bold; text-align: right;\">13293</td><td style = \"text-align: left;\">MAF</td><td style = \"text-align: right;\">1962</td><td style = \"text-align: right;\">4388</td><td style = \"text-align: right;\">3.0074</td><td style = \"text-align: left;\">Americas</td><td style = \"text-align: left;\">Saint Martin (French Part)</td><td style = \"text-align: right;\">missing</td><td style = \"text-align: right;\">missing</td></tr><tr><td class = \"rowNumber\" style = \"font-weight: bold; text-align: right;\">13294</td><td style = \"text-align: left;\">MAF</td><td style = \"text-align: right;\">1961</td><td style = \"text-align: right;\">4258</td><td style = \"text-align: right;\">2.93122</td><td style = \"text-align: left;\">Americas</td><td style = \"text-align: left;\">Saint Martin (French Part)</td><td style = \"text-align: right;\">missing</td><td style = \"text-align: right;\">missing</td></tr><tr><td class = \"rowNumber\" style = \"font-weight: bold; text-align: right;\">13295</td><td style = \"text-align: left;\">SXM</td><td style = \"text-align: right;\">1965</td><td style = \"text-align: right;\">4161</td><td style = \"text-align: right;\">8.78638</td><td style = \"text-align: left;\">Americas</td><td style = \"text-align: left;\">Sint Maarten (Dutch part)</td><td style = \"text-align: right;\">missing</td><td style = \"text-align: right;\">missing</td></tr><tr><td class = \"rowNumber\" style = \"font-weight: bold; text-align: right;\">13296</td><td style = \"text-align: left;\">SXM</td><td style = \"text-align: right;\">1964</td><td style = \"text-align: right;\">3811</td><td style = \"text-align: right;\">9.0572</td><td style = \"text-align: left;\">Americas</td><td style = \"text-align: left;\">Sint Maarten (Dutch part)</td><td style = \"text-align: right;\">missing</td><td style = \"text-align: right;\">missing</td></tr><tr><td class = \"rowNumber\" style = \"font-weight: bold; text-align: right;\">13297</td><td style = \"text-align: left;\">SXM</td><td style = \"text-align: right;\">1963</td><td style = \"text-align: right;\">3481</td><td style = \"text-align: right;\">9.32726</td><td style = \"text-align: left;\">Americas</td><td style = \"text-align: left;\">Sint Maarten (Dutch part)</td><td style = \"text-align: right;\">missing</td><td style = \"text-align: right;\">missing</td></tr><tr><td class = \"rowNumber\" style = \"font-weight: bold; text-align: right;\">13298</td><td style = \"text-align: left;\">SXM</td><td style = \"text-align: right;\">1962</td><td style = \"text-align: right;\">3171</td><td style = \"text-align: right;\">9.34828</td><td style = \"text-align: left;\">Americas</td><td style = \"text-align: left;\">Sint Maarten (Dutch part)</td><td style = \"text-align: right;\">missing</td><td style = \"text-align: right;\">missing</td></tr><tr><td class = \"rowNumber\" style = \"font-weight: bold; text-align: right;\">13299</td><td style = \"text-align: left;\">SXM</td><td style = \"text-align: right;\">1961</td><td style = \"text-align: right;\">2888</td><td style = \"text-align: right;\">8.75152</td><td style = \"text-align: left;\">Americas</td><td style = \"text-align: left;\">Sint Maarten (Dutch part)</td><td style = \"text-align: right;\">missing</td><td style = \"text-align: right;\">missing</td></tr></tbody></table></div>"
      ],
      "text/latex": [
       "\\begin{tabular}{r|ccccccc}\n",
       "\t& Country\\_Code & Year & Population & Population\\_Growth\\_Rate & Region\\_Name & Country\\_Name & \\\\\n",
       "\t\\hline\n",
       "\t& String & Int64 & Int64 & Float64 & String? & String & \\\\\n",
       "\t\\hline\n",
       "\t1 & IND & 2022 & 1417173173 & 0.680373 & Asia & India & $\\dots$ \\\\\n",
       "\t2 & CHN & 2021 & 1412360000 & 0.0892522 & Asia & China & $\\dots$ \\\\\n",
       "\t3 & CHN & 2022 & 1412175000 & -0.0130995 & Asia & China & $\\dots$ \\\\\n",
       "\t4 & CHN & 2020 & 1411100000 & 0.238041 & Asia & China & $\\dots$ \\\\\n",
       "\t5 & CHN & 2019 & 1407745000 & 0.354741 & Asia & China & $\\dots$ \\\\\n",
       "\t6 & IND & 2021 & 1407563842 & 0.797216 & Asia & India & $\\dots$ \\\\\n",
       "\t7 & CHN & 2018 & 1402760000 & 0.467672 & Asia & China & $\\dots$ \\\\\n",
       "\t8 & IND & 2020 & 1396387127 & 0.955221 & Asia & India & $\\dots$ \\\\\n",
       "\t9 & CHN & 2017 & 1396215000 & 0.605245 & Asia & China & $\\dots$ \\\\\n",
       "\t10 & CHN & 2016 & 1387790000 & 0.573051 & Asia & China & $\\dots$ \\\\\n",
       "\t11 & IND & 2019 & 1383112050 & 1.02531 & Asia & India & $\\dots$ \\\\\n",
       "\t12 & CHN & 2015 & 1379860000 & 0.581456 & Asia & China & $\\dots$ \\\\\n",
       "\t13 & CHN & 2014 & 1371860000 & 0.630326 & Asia & China & $\\dots$ \\\\\n",
       "\t14 & IND & 2018 & 1369003306 & 1.08753 & Asia & India & $\\dots$ \\\\\n",
       "\t15 & CHN & 2013 & 1363240000 & 0.666073 & Asia & China & $\\dots$ \\\\\n",
       "\t16 & IND & 2017 & 1354195680 & 1.15562 & Asia & India & $\\dots$ \\\\\n",
       "\t17 & CHN & 2012 & 1354190000 & 0.678345 & Asia & China & $\\dots$ \\\\\n",
       "\t18 & CHN & 2011 & 1345035000 & 0.546458 & Asia & China & $\\dots$ \\\\\n",
       "\t19 & IND & 2016 & 1338636340 & 1.18505 & Asia & India & $\\dots$ \\\\\n",
       "\t20 & CHN & 2010 & 1337705000 & 0.48296 & Asia & China & $\\dots$ \\\\\n",
       "\t21 & CHN & 2009 & 1331260000 & 0.497381 & Asia & China & $\\dots$ \\\\\n",
       "\t22 & CHN & 2008 & 1324655000 & 0.512387 & Asia & China & $\\dots$ \\\\\n",
       "\t23 & IND & 2015 & 1322866505 & 1.1878 & Asia & India & $\\dots$ \\\\\n",
       "\t24 & CHN & 2007 & 1317885000 & 0.522272 & Asia & China & $\\dots$ \\\\\n",
       "\t25 & CHN & 2006 & 1311020000 & 0.558374 & Asia & China & $\\dots$ \\\\\n",
       "\t26 & IND & 2014 & 1307246509 & 1.24036 & Asia & India & $\\dots$ \\\\\n",
       "\t27 & CHN & 2005 & 1303720000 & 0.588125 & Asia & China & $\\dots$ \\\\\n",
       "\t28 & CHN & 2004 & 1296075000 & 0.593933 & Asia & China & $\\dots$ \\\\\n",
       "\t29 & IND & 2013 & 1291132063 & 1.29755 & Asia & India & $\\dots$ \\\\\n",
       "\t30 & CHN & 2003 & 1288400000 & 0.622861 & Asia & China & $\\dots$ \\\\\n",
       "\t$\\dots$ & $\\dots$ & $\\dots$ & $\\dots$ & $\\dots$ & $\\dots$ & $\\dots$ &  \\\\\n",
       "\\end{tabular}\n"
      ],
      "text/plain": [
       "\u001b[1m13299×8 DataFrame\u001b[0m\n",
       "\u001b[1m   Row \u001b[0m│\u001b[1m Country_Code \u001b[0m\u001b[1m Year  \u001b[0m\u001b[1m Population \u001b[0m\u001b[1m Population_Growth_Rate \u001b[0m\u001b[1m Region_Name \u001b[0m\u001b[1m\u001b[0m ⋯\n",
       "       │\u001b[90m String       \u001b[0m\u001b[90m Int64 \u001b[0m\u001b[90m Int64      \u001b[0m\u001b[90m Float64                \u001b[0m\u001b[90m String?     \u001b[0m\u001b[90m\u001b[0m ⋯\n",
       "───────┼────────────────────────────────────────────────────────────────────────\n",
       "     1 │ IND            2022  1417173173               0.680373   Asia         ⋯\n",
       "     2 │ CHN            2021  1412360000               0.0892522  Asia\n",
       "     3 │ CHN            2022  1412175000              -0.0130995  Asia\n",
       "     4 │ CHN            2020  1411100000               0.238041   Asia\n",
       "     5 │ CHN            2019  1407745000               0.354741   Asia         ⋯\n",
       "     6 │ IND            2021  1407563842               0.797216   Asia\n",
       "     7 │ CHN            2018  1402760000               0.467672   Asia\n",
       "     8 │ IND            2020  1396387127               0.955221   Asia\n",
       "     9 │ CHN            2017  1396215000               0.605245   Asia         ⋯\n",
       "    10 │ CHN            2016  1387790000               0.573051   Asia\n",
       "    11 │ IND            2019  1383112050               1.02531    Asia\n",
       "   ⋮   │      ⋮          ⋮        ⋮                 ⋮                  ⋮       ⋱\n",
       " 13290 │ MAF            1964        4666               3.09056    Americas\n",
       " 13291 │ SXM            1966        4531               8.51872    Americas     ⋯\n",
       " 13292 │ MAF            1963        4524               3.0523     Americas\n",
       " 13293 │ MAF            1962        4388               3.0074     Americas\n",
       " 13294 │ MAF            1961        4258               2.93122    Americas\n",
       " 13295 │ SXM            1965        4161               8.78638    Americas     ⋯\n",
       " 13296 │ SXM            1964        3811               9.0572     Americas\n",
       " 13297 │ SXM            1963        3481               9.32726    Americas\n",
       " 13298 │ SXM            1962        3171               9.34828    Americas\n",
       " 13299 │ SXM            1961        2888               8.75152    Americas     ⋯\n",
       "\u001b[36m                                                3 columns and 13278 rows omitted\u001b[0m"
      ]
     },
     "execution_count": 13,
     "metadata": {},
     "output_type": "execute_result"
    }
   ],
   "source": [
    "sort(Population, [order(:Population, rev=true)])"
   ]
  },
  {
   "cell_type": "markdown",
   "id": "363f65f2-ebf2-47af-aece-752afd3c7c67",
   "metadata": {},
   "source": [
    "### comment\n",
    "\n",
    "The data is sorted in descending order again and india and china is top of the list. This result is what we expected!"
   ]
  },
  {
   "cell_type": "code",
   "execution_count": 14,
   "id": "1e771392-85a2-47e1-96f6-8b298d4c8408",
   "metadata": {},
   "outputs": [],
   "source": [
    "using Query\n",
    "using Statistics"
   ]
  },
  {
   "cell_type": "code",
   "execution_count": 15,
   "id": "90d917de-bb58-4858-84a2-d1a63062d16f",
   "metadata": {
    "scrolled": true
   },
   "outputs": [
    {
     "data": {
      "text/html": [
       "<div><div style = \"float: left;\"><span>1177×8 DataFrame</span></div><div style = \"float: right;\"><span style = \"font-style: italic;\">1152 rows omitted</span></div><div style = \"clear: both;\"></div></div><div class = \"data-frame\" style = \"overflow-x: scroll;\"><table class = \"data-frame\" style = \"margin-bottom: 6px;\"><thead><tr class = \"header\"><th class = \"rowNumber\" style = \"font-weight: bold; text-align: right;\">Row</th><th style = \"text-align: left;\">Country_Code</th><th style = \"text-align: left;\">Year</th><th style = \"text-align: left;\">Population</th><th style = \"text-align: left;\">Population_Growth_Rate</th><th style = \"text-align: left;\">Region_Name</th><th style = \"text-align: left;\">Country_Name</th><th style = \"text-align: left;\">Latitude</th><th style = \"text-align: left;\">Longitude</th></tr><tr class = \"subheader headerLastRow\"><th class = \"rowNumber\" style = \"font-weight: bold; text-align: right;\"></th><th title = \"String\" style = \"text-align: left;\">String</th><th title = \"Int64\" style = \"text-align: left;\">Int64</th><th title = \"Int64\" style = \"text-align: left;\">Int64</th><th title = \"Float64\" style = \"text-align: left;\">Float64</th><th title = \"Union{Missing, String}\" style = \"text-align: left;\">String?</th><th title = \"String\" style = \"text-align: left;\">String</th><th title = \"Union{Missing, Float64}\" style = \"text-align: left;\">Float64?</th><th title = \"Union{Missing, Float64}\" style = \"text-align: left;\">Float64?</th></tr></thead><tbody><tr><td class = \"rowNumber\" style = \"font-weight: bold; text-align: right;\">1</td><td style = \"text-align: left;\">ASM</td><td style = \"text-align: right;\">1961</td><td style = \"text-align: right;\">20626</td><td style = \"text-align: right;\">2.65791</td><td style = \"text-align: left;\">Oceania</td><td style = \"text-align: left;\">American Samoa</td><td style = \"text-align: right;\">-14.33</td><td style = \"text-align: right;\">-170.0</td></tr><tr><td class = \"rowNumber\" style = \"font-weight: bold; text-align: right;\">2</td><td style = \"text-align: left;\">AUS</td><td style = \"text-align: right;\">1961</td><td style = \"text-align: right;\">10483000</td><td style = \"text-align: right;\">1.98974</td><td style = \"text-align: left;\">Oceania</td><td style = \"text-align: left;\">Australia</td><td style = \"text-align: right;\">-27.0</td><td style = \"text-align: right;\">133.0</td></tr><tr><td class = \"rowNumber\" style = \"font-weight: bold; text-align: right;\">3</td><td style = \"text-align: left;\">FJI</td><td style = \"text-align: right;\">1961</td><td style = \"text-align: right;\">414534</td><td style = \"text-align: right;\">3.10985</td><td style = \"text-align: left;\">Oceania</td><td style = \"text-align: left;\">Fiji</td><td style = \"text-align: right;\">-18.0</td><td style = \"text-align: right;\">175.0</td></tr><tr><td class = \"rowNumber\" style = \"font-weight: bold; text-align: right;\">4</td><td style = \"text-align: left;\">FSM</td><td style = \"text-align: right;\">1961</td><td style = \"text-align: right;\">44563</td><td style = \"text-align: right;\">3.60294</td><td style = \"text-align: left;\">Oceania</td><td style = \"text-align: left;\">Micronesia (Federated States of)</td><td style = \"text-align: right;\">6.92</td><td style = \"text-align: right;\">158.25</td></tr><tr><td class = \"rowNumber\" style = \"font-weight: bold; text-align: right;\">5</td><td style = \"text-align: left;\">GUM</td><td style = \"text-align: right;\">1961</td><td style = \"text-align: right;\">73873</td><td style = \"text-align: right;\">2.05003</td><td style = \"text-align: left;\">Oceania</td><td style = \"text-align: left;\">Guam</td><td style = \"text-align: right;\">13.47</td><td style = \"text-align: right;\">144.78</td></tr><tr><td class = \"rowNumber\" style = \"font-weight: bold; text-align: right;\">6</td><td style = \"text-align: left;\">KIR</td><td style = \"text-align: right;\">1961</td><td style = \"text-align: right;\">48275</td><td style = \"text-align: right;\">2.47895</td><td style = \"text-align: left;\">Oceania</td><td style = \"text-align: left;\">Kiribati</td><td style = \"text-align: right;\">1.42</td><td style = \"text-align: right;\">173.0</td></tr><tr><td class = \"rowNumber\" style = \"font-weight: bold; text-align: right;\">7</td><td style = \"text-align: left;\">MHL</td><td style = \"text-align: right;\">1961</td><td style = \"text-align: right;\">15867</td><td style = \"text-align: right;\">3.15637</td><td style = \"text-align: left;\">Oceania</td><td style = \"text-align: left;\">Marshall Islands</td><td style = \"text-align: right;\">9.0</td><td style = \"text-align: right;\">168.0</td></tr><tr><td class = \"rowNumber\" style = \"font-weight: bold; text-align: right;\">8</td><td style = \"text-align: left;\">MNP</td><td style = \"text-align: right;\">1961</td><td style = \"text-align: right;\">8965</td><td style = \"text-align: right;\">2.97752</td><td style = \"text-align: left;\">Oceania</td><td style = \"text-align: left;\">Northern Mariana Islands</td><td style = \"text-align: right;\">15.2</td><td style = \"text-align: right;\">145.75</td></tr><tr><td class = \"rowNumber\" style = \"font-weight: bold; text-align: right;\">9</td><td style = \"text-align: left;\">NCL</td><td style = \"text-align: right;\">1961</td><td style = \"text-align: right;\">81200</td><td style = \"text-align: right;\">2.74674</td><td style = \"text-align: left;\">Oceania</td><td style = \"text-align: left;\">New Caledonia</td><td style = \"text-align: right;\">-21.5</td><td style = \"text-align: right;\">165.5</td></tr><tr><td class = \"rowNumber\" style = \"font-weight: bold; text-align: right;\">10</td><td style = \"text-align: left;\">NRU</td><td style = \"text-align: right;\">1961</td><td style = \"text-align: right;\">4753</td><td style = \"text-align: right;\">3.66404</td><td style = \"text-align: left;\">Oceania</td><td style = \"text-align: left;\">Nauru</td><td style = \"text-align: right;\">-0.53</td><td style = \"text-align: right;\">166.92</td></tr><tr><td class = \"rowNumber\" style = \"font-weight: bold; text-align: right;\">11</td><td style = \"text-align: left;\">NZL</td><td style = \"text-align: right;\">1961</td><td style = \"text-align: right;\">2419700</td><td style = \"text-align: right;\">1.99944</td><td style = \"text-align: left;\">Oceania</td><td style = \"text-align: left;\">New Zealand</td><td style = \"text-align: right;\">-41.0</td><td style = \"text-align: right;\">174.0</td></tr><tr><td class = \"rowNumber\" style = \"font-weight: bold; text-align: right;\">12</td><td style = \"text-align: left;\">PLW</td><td style = \"text-align: right;\">1961</td><td style = \"text-align: right;\">9639</td><td style = \"text-align: right;\">2.0226</td><td style = \"text-align: left;\">Oceania</td><td style = \"text-align: left;\">Palau</td><td style = \"text-align: right;\">7.5</td><td style = \"text-align: right;\">134.5</td></tr><tr><td class = \"rowNumber\" style = \"font-weight: bold; text-align: right;\">13</td><td style = \"text-align: left;\">PNG</td><td style = \"text-align: right;\">1961</td><td style = \"text-align: right;\">2035672</td><td style = \"text-align: right;\">2.48716</td><td style = \"text-align: left;\">Oceania</td><td style = \"text-align: left;\">Papua New Guinea</td><td style = \"text-align: right;\">-6.0</td><td style = \"text-align: right;\">147.0</td></tr><tr><td style = \"text-align: right;\">&vellip;</td><td style = \"text-align: right;\">&vellip;</td><td style = \"text-align: right;\">&vellip;</td><td style = \"text-align: right;\">&vellip;</td><td style = \"text-align: right;\">&vellip;</td><td style = \"text-align: right;\">&vellip;</td><td style = \"text-align: right;\">&vellip;</td><td style = \"text-align: right;\">&vellip;</td><td style = \"text-align: right;\">&vellip;</td></tr><tr><td class = \"rowNumber\" style = \"font-weight: bold; text-align: right;\">1166</td><td style = \"text-align: left;\">MNP</td><td style = \"text-align: right;\">2022</td><td style = \"text-align: right;\">49551</td><td style = \"text-align: right;\">0.141368</td><td style = \"text-align: left;\">Oceania</td><td style = \"text-align: left;\">Northern Mariana Islands</td><td style = \"text-align: right;\">15.2</td><td style = \"text-align: right;\">145.75</td></tr><tr><td class = \"rowNumber\" style = \"font-weight: bold; text-align: right;\">1167</td><td style = \"text-align: left;\">NCL</td><td style = \"text-align: right;\">2022</td><td style = \"text-align: right;\">276780</td><td style = \"text-align: right;\">0.7689</td><td style = \"text-align: left;\">Oceania</td><td style = \"text-align: left;\">New Caledonia</td><td style = \"text-align: right;\">-21.5</td><td style = \"text-align: right;\">165.5</td></tr><tr><td class = \"rowNumber\" style = \"font-weight: bold; text-align: right;\">1168</td><td style = \"text-align: left;\">NRU</td><td style = \"text-align: right;\">2022</td><td style = \"text-align: right;\">12668</td><td style = \"text-align: right;\">1.24709</td><td style = \"text-align: left;\">Oceania</td><td style = \"text-align: left;\">Nauru</td><td style = \"text-align: right;\">-0.53</td><td style = \"text-align: right;\">166.92</td></tr><tr><td class = \"rowNumber\" style = \"font-weight: bold; text-align: right;\">1169</td><td style = \"text-align: left;\">NZL</td><td style = \"text-align: right;\">2022</td><td style = \"text-align: right;\">5124100</td><td style = \"text-align: right;\">0.248156</td><td style = \"text-align: left;\">Oceania</td><td style = \"text-align: left;\">New Zealand</td><td style = \"text-align: right;\">-41.0</td><td style = \"text-align: right;\">174.0</td></tr><tr><td class = \"rowNumber\" style = \"font-weight: bold; text-align: right;\">1170</td><td style = \"text-align: left;\">PLW</td><td style = \"text-align: right;\">2022</td><td style = \"text-align: right;\">18055</td><td style = \"text-align: right;\">0.171845</td><td style = \"text-align: left;\">Oceania</td><td style = \"text-align: left;\">Palau</td><td style = \"text-align: right;\">7.5</td><td style = \"text-align: right;\">134.5</td></tr><tr><td class = \"rowNumber\" style = \"font-weight: bold; text-align: right;\">1171</td><td style = \"text-align: left;\">PNG</td><td style = \"text-align: right;\">2022</td><td style = \"text-align: right;\">10142619</td><td style = \"text-align: right;\">1.92303</td><td style = \"text-align: left;\">Oceania</td><td style = \"text-align: left;\">Papua New Guinea</td><td style = \"text-align: right;\">-6.0</td><td style = \"text-align: right;\">147.0</td></tr><tr><td class = \"rowNumber\" style = \"font-weight: bold; text-align: right;\">1172</td><td style = \"text-align: left;\">PYF</td><td style = \"text-align: right;\">2022</td><td style = \"text-align: right;\">306279</td><td style = \"text-align: right;\">0.736349</td><td style = \"text-align: left;\">Oceania</td><td style = \"text-align: left;\">French Polynesia</td><td style = \"text-align: right;\">-15.0</td><td style = \"text-align: right;\">-140.0</td></tr><tr><td class = \"rowNumber\" style = \"font-weight: bold; text-align: right;\">1173</td><td style = \"text-align: left;\">SLB</td><td style = \"text-align: right;\">2022</td><td style = \"text-align: right;\">724273</td><td style = \"text-align: right;\">2.29348</td><td style = \"text-align: left;\">Oceania</td><td style = \"text-align: left;\">Solomon Islands</td><td style = \"text-align: right;\">-8.0</td><td style = \"text-align: right;\">159.0</td></tr><tr><td class = \"rowNumber\" style = \"font-weight: bold; text-align: right;\">1174</td><td style = \"text-align: left;\">TON</td><td style = \"text-align: right;\">2022</td><td style = \"text-align: right;\">106858</td><td style = \"text-align: right;\">0.790139</td><td style = \"text-align: left;\">Oceania</td><td style = \"text-align: left;\">Tonga</td><td style = \"text-align: right;\">-20.0</td><td style = \"text-align: right;\">-175.0</td></tr><tr><td class = \"rowNumber\" style = \"font-weight: bold; text-align: right;\">1175</td><td style = \"text-align: left;\">TUV</td><td style = \"text-align: right;\">2022</td><td style = \"text-align: right;\">11312</td><td style = \"text-align: right;\">0.959325</td><td style = \"text-align: left;\">Oceania</td><td style = \"text-align: left;\">Tuvalu</td><td style = \"text-align: right;\">-8.0</td><td style = \"text-align: right;\">178.0</td></tr><tr><td class = \"rowNumber\" style = \"font-weight: bold; text-align: right;\">1176</td><td style = \"text-align: left;\">VUT</td><td style = \"text-align: right;\">2022</td><td style = \"text-align: right;\">326740</td><td style = \"text-align: right;\">2.35443</td><td style = \"text-align: left;\">Oceania</td><td style = \"text-align: left;\">Vanuatu</td><td style = \"text-align: right;\">-16.0</td><td style = \"text-align: right;\">167.0</td></tr><tr><td class = \"rowNumber\" style = \"font-weight: bold; text-align: right;\">1177</td><td style = \"text-align: left;\">WSM</td><td style = \"text-align: right;\">2022</td><td style = \"text-align: right;\">222382</td><td style = \"text-align: right;\">1.64031</td><td style = \"text-align: left;\">Oceania</td><td style = \"text-align: left;\">Samoa</td><td style = \"text-align: right;\">-13.58</td><td style = \"text-align: right;\">-172.33</td></tr></tbody></table></div>"
      ],
      "text/latex": [
       "\\begin{tabular}{r|ccccccc}\n",
       "\t& Country\\_Code & Year & Population & Population\\_Growth\\_Rate & Region\\_Name & Country\\_Name & \\\\\n",
       "\t\\hline\n",
       "\t& String & Int64 & Int64 & Float64 & String? & String & \\\\\n",
       "\t\\hline\n",
       "\t1 & ASM & 1961 & 20626 & 2.65791 & Oceania & American Samoa & $\\dots$ \\\\\n",
       "\t2 & AUS & 1961 & 10483000 & 1.98974 & Oceania & Australia & $\\dots$ \\\\\n",
       "\t3 & FJI & 1961 & 414534 & 3.10985 & Oceania & Fiji & $\\dots$ \\\\\n",
       "\t4 & FSM & 1961 & 44563 & 3.60294 & Oceania & Micronesia (Federated States of) & $\\dots$ \\\\\n",
       "\t5 & GUM & 1961 & 73873 & 2.05003 & Oceania & Guam & $\\dots$ \\\\\n",
       "\t6 & KIR & 1961 & 48275 & 2.47895 & Oceania & Kiribati & $\\dots$ \\\\\n",
       "\t7 & MHL & 1961 & 15867 & 3.15637 & Oceania & Marshall Islands & $\\dots$ \\\\\n",
       "\t8 & MNP & 1961 & 8965 & 2.97752 & Oceania & Northern Mariana Islands & $\\dots$ \\\\\n",
       "\t9 & NCL & 1961 & 81200 & 2.74674 & Oceania & New Caledonia & $\\dots$ \\\\\n",
       "\t10 & NRU & 1961 & 4753 & 3.66404 & Oceania & Nauru & $\\dots$ \\\\\n",
       "\t11 & NZL & 1961 & 2419700 & 1.99944 & Oceania & New Zealand & $\\dots$ \\\\\n",
       "\t12 & PLW & 1961 & 9639 & 2.0226 & Oceania & Palau & $\\dots$ \\\\\n",
       "\t13 & PNG & 1961 & 2035672 & 2.48716 & Oceania & Papua New Guinea & $\\dots$ \\\\\n",
       "\t14 & PYF & 1961 & 86921 & 2.41029 & Oceania & French Polynesia & $\\dots$ \\\\\n",
       "\t15 & SLB & 1961 & 136780 & 2.47219 & Oceania & Solomon Islands & $\\dots$ \\\\\n",
       "\t16 & TON & 1961 & 69391 & 2.86968 & Oceania & Tonga & $\\dots$ \\\\\n",
       "\t17 & TUV & 1961 & 5436 & 0.590408 & Oceania & Tuvalu & $\\dots$ \\\\\n",
       "\t18 & VUT & 1961 & 66462 & 2.82921 & Oceania & Vanuatu & $\\dots$ \\\\\n",
       "\t19 & WSM & 1961 & 116820 & 3.02863 & Oceania & Samoa & $\\dots$ \\\\\n",
       "\t20 & ASM & 1962 & 21272 & 3.08392 & Oceania & American Samoa & $\\dots$ \\\\\n",
       "\t21 & AUS & 1962 & 10742000 & 2.44064 & Oceania & Australia & $\\dots$ \\\\\n",
       "\t22 & FJI & 1962 & 427695 & 3.12553 & Oceania & Fiji & $\\dots$ \\\\\n",
       "\t23 & FSM & 1962 & 46200 & 3.60759 & Oceania & Micronesia (Federated States of) & $\\dots$ \\\\\n",
       "\t24 & GUM & 1962 & 75412 & 2.0619 & Oceania & Guam & $\\dots$ \\\\\n",
       "\t25 & KIR & 1962 & 49508 & 2.52204 & Oceania & Kiribati & $\\dots$ \\\\\n",
       "\t26 & MHL & 1962 & 16387 & 3.22469 & Oceania & Marshall Islands & $\\dots$ \\\\\n",
       "\t27 & MNP & 1962 & 9252 & 3.15116 & Oceania & Northern Mariana Islands & $\\dots$ \\\\\n",
       "\t28 & NCL & 1962 & 83400 & 2.67331 & Oceania & New Caledonia & $\\dots$ \\\\\n",
       "\t29 & NRU & 1962 & 4950 & 4.06116 & Oceania & Nauru & $\\dots$ \\\\\n",
       "\t30 & NZL & 1962 & 2482000 & 2.54211 & Oceania & New Zealand & $\\dots$ \\\\\n",
       "\t$\\dots$ & $\\dots$ & $\\dots$ & $\\dots$ & $\\dots$ & $\\dots$ & $\\dots$ &  \\\\\n",
       "\\end{tabular}\n"
      ],
      "text/plain": [
       "\u001b[1m1177×8 DataFrame\u001b[0m\n",
       "\u001b[1m  Row \u001b[0m│\u001b[1m Country_Code \u001b[0m\u001b[1m Year  \u001b[0m\u001b[1m Population \u001b[0m\u001b[1m Population_Growth_Rate \u001b[0m\u001b[1m Region_Name \u001b[0m\u001b[1m \u001b[0m ⋯\n",
       "      │\u001b[90m String       \u001b[0m\u001b[90m Int64 \u001b[0m\u001b[90m Int64      \u001b[0m\u001b[90m Float64                \u001b[0m\u001b[90m String?     \u001b[0m\u001b[90m \u001b[0m ⋯\n",
       "──────┼─────────────────────────────────────────────────────────────────────────\n",
       "    1 │ ASM            1961       20626                2.65791   Oceania       ⋯\n",
       "    2 │ AUS            1961    10483000                1.98974   Oceania\n",
       "    3 │ FJI            1961      414534                3.10985   Oceania\n",
       "    4 │ FSM            1961       44563                3.60294   Oceania\n",
       "    5 │ GUM            1961       73873                2.05003   Oceania       ⋯\n",
       "    6 │ KIR            1961       48275                2.47895   Oceania\n",
       "    7 │ MHL            1961       15867                3.15637   Oceania\n",
       "    8 │ MNP            1961        8965                2.97752   Oceania\n",
       "    9 │ NCL            1961       81200                2.74674   Oceania       ⋯\n",
       "   10 │ NRU            1961        4753                3.66404   Oceania\n",
       "   11 │ NZL            1961     2419700                1.99944   Oceania\n",
       "  ⋮   │      ⋮          ⋮        ⋮                 ⋮                  ⋮        ⋱\n",
       " 1168 │ NRU            2022       12668                1.24709   Oceania\n",
       " 1169 │ NZL            2022     5124100                0.248156  Oceania       ⋯\n",
       " 1170 │ PLW            2022       18055                0.171845  Oceania\n",
       " 1171 │ PNG            2022    10142619                1.92303   Oceania\n",
       " 1172 │ PYF            2022      306279                0.736349  Oceania\n",
       " 1173 │ SLB            2022      724273                2.29348   Oceania       ⋯\n",
       " 1174 │ TON            2022      106858                0.790139  Oceania\n",
       " 1175 │ TUV            2022       11312                0.959325  Oceania\n",
       " 1176 │ VUT            2022      326740                2.35443   Oceania\n",
       " 1177 │ WSM            2022      222382                1.64031   Oceania       ⋯\n",
       "\u001b[36m                                                 3 columns and 1156 rows omitted\u001b[0m"
      ]
     },
     "execution_count": 15,
     "metadata": {},
     "output_type": "execute_result"
    }
   ],
   "source": [
    "Oc_population = Population |>\n",
    "    @filter(_.Region_Name == \"Oceania\") |>\n",
    "    DataFrame"
   ]
  },
  {
   "cell_type": "markdown",
   "id": "1f6be46e-a80f-4b37-b827-80ba91fb04b5",
   "metadata": {},
   "source": [
    "### comment \n",
    "\n",
    "We wanted to see the population changes over years in Oceania first because we are in New Zealand now! To do that, we filtered the data which has \"Oceania\" in their **Region_Name** column and returned it to dataframe. Julia pipeline `|>` was used for this process."
   ]
  },
  {
   "cell_type": "code",
   "execution_count": 16,
   "id": "58af5a73-c803-4f9e-ac50-4a62a3a8f2b8",
   "metadata": {
    "scrolled": true
   },
   "outputs": [
    {
     "data": {
      "text/html": [
       "<div><div style = \"float: left;\"><span>62×2 DataFrame</span></div><div style = \"float: right;\"><span style = \"font-style: italic;\">37 rows omitted</span></div><div style = \"clear: both;\"></div></div><div class = \"data-frame\" style = \"overflow-x: scroll;\"><table class = \"data-frame\" style = \"margin-bottom: 6px;\"><thead><tr class = \"header\"><th class = \"rowNumber\" style = \"font-weight: bold; text-align: right;\">Row</th><th style = \"text-align: left;\">Year</th><th style = \"text-align: left;\">Population_sum</th></tr><tr class = \"subheader headerLastRow\"><th class = \"rowNumber\" style = \"font-weight: bold; text-align: right;\"></th><th title = \"Int64\" style = \"text-align: left;\">Int64</th><th title = \"Int64\" style = \"text-align: left;\">Int64</th></tr></thead><tbody><tr><td class = \"rowNumber\" style = \"font-weight: bold; text-align: right;\">1</td><td style = \"text-align: right;\">1961</td><td style = \"text-align: right;\">16142477</td></tr><tr><td class = \"rowNumber\" style = \"font-weight: bold; text-align: right;\">2</td><td style = \"text-align: right;\">1962</td><td style = \"text-align: right;\">16545364</td></tr><tr><td class = \"rowNumber\" style = \"font-weight: bold; text-align: right;\">3</td><td style = \"text-align: right;\">1963</td><td style = \"text-align: right;\">16885958</td></tr><tr><td class = \"rowNumber\" style = \"font-weight: bold; text-align: right;\">4</td><td style = \"text-align: right;\">1964</td><td style = \"text-align: right;\">17239897</td></tr><tr><td class = \"rowNumber\" style = \"font-weight: bold; text-align: right;\">5</td><td style = \"text-align: right;\">1965</td><td style = \"text-align: right;\">17588556</td></tr><tr><td class = \"rowNumber\" style = \"font-weight: bold; text-align: right;\">6</td><td style = \"text-align: right;\">1966</td><td style = \"text-align: right;\">17986329</td></tr><tr><td class = \"rowNumber\" style = \"font-weight: bold; text-align: right;\">7</td><td style = \"text-align: right;\">1967</td><td style = \"text-align: right;\">18269735</td></tr><tr><td class = \"rowNumber\" style = \"font-weight: bold; text-align: right;\">8</td><td style = \"text-align: right;\">1968</td><td style = \"text-align: right;\">18591361</td></tr><tr><td class = \"rowNumber\" style = \"font-weight: bold; text-align: right;\">9</td><td style = \"text-align: right;\">1969</td><td style = \"text-align: right;\">18962191</td></tr><tr><td class = \"rowNumber\" style = \"font-weight: bold; text-align: right;\">10</td><td style = \"text-align: right;\">1970</td><td style = \"text-align: right;\">19343147</td></tr><tr><td class = \"rowNumber\" style = \"font-weight: bold; text-align: right;\">11</td><td style = \"text-align: right;\">1971</td><td style = \"text-align: right;\">19917088</td></tr><tr><td class = \"rowNumber\" style = \"font-weight: bold; text-align: right;\">12</td><td style = \"text-align: right;\">1972</td><td style = \"text-align: right;\">20308154</td></tr><tr><td class = \"rowNumber\" style = \"font-weight: bold; text-align: right;\">13</td><td style = \"text-align: right;\">1973</td><td style = \"text-align: right;\">20665969</td></tr><tr><td style = \"text-align: right;\">&vellip;</td><td style = \"text-align: right;\">&vellip;</td><td style = \"text-align: right;\">&vellip;</td></tr><tr><td class = \"rowNumber\" style = \"font-weight: bold; text-align: right;\">51</td><td style = \"text-align: right;\">2011</td><td style = \"text-align: right;\">37670039</td></tr><tr><td class = \"rowNumber\" style = \"font-weight: bold; text-align: right;\">52</td><td style = \"text-align: right;\">2012</td><td style = \"text-align: right;\">38339194</td></tr><tr><td class = \"rowNumber\" style = \"font-weight: bold; text-align: right;\">53</td><td style = \"text-align: right;\">2013</td><td style = \"text-align: right;\">39018797</td></tr><tr><td class = \"rowNumber\" style = \"font-weight: bold; text-align: right;\">54</td><td style = \"text-align: right;\">2014</td><td style = \"text-align: right;\">39691186</td></tr><tr><td class = \"rowNumber\" style = \"font-weight: bold; text-align: right;\">55</td><td style = \"text-align: right;\">2015</td><td style = \"text-align: right;\">40371102</td></tr><tr><td class = \"rowNumber\" style = \"font-weight: bold; text-align: right;\">56</td><td style = \"text-align: right;\">2016</td><td style = \"text-align: right;\">41095678</td></tr><tr><td class = \"rowNumber\" style = \"font-weight: bold; text-align: right;\">57</td><td style = \"text-align: right;\">2017</td><td style = \"text-align: right;\">41841919</td></tr><tr><td class = \"rowNumber\" style = \"font-weight: bold; text-align: right;\">58</td><td style = \"text-align: right;\">2018</td><td style = \"text-align: right;\">42542878</td></tr><tr><td class = \"rowNumber\" style = \"font-weight: bold; text-align: right;\">59</td><td style = \"text-align: right;\">2019</td><td style = \"text-align: right;\">43234733</td></tr><tr><td class = \"rowNumber\" style = \"font-weight: bold; text-align: right;\">60</td><td style = \"text-align: right;\">2020</td><td style = \"text-align: right;\">43901335</td></tr><tr><td class = \"rowNumber\" style = \"font-weight: bold; text-align: right;\">61</td><td style = \"text-align: right;\">2021</td><td style = \"text-align: right;\">44194831</td></tr><tr><td class = \"rowNumber\" style = \"font-weight: bold; text-align: right;\">62</td><td style = \"text-align: right;\">2022</td><td style = \"text-align: right;\">44733330</td></tr></tbody></table></div>"
      ],
      "text/latex": [
       "\\begin{tabular}{r|cc}\n",
       "\t& Year & Population\\_sum\\\\\n",
       "\t\\hline\n",
       "\t& Int64 & Int64\\\\\n",
       "\t\\hline\n",
       "\t1 & 1961 & 16142477 \\\\\n",
       "\t2 & 1962 & 16545364 \\\\\n",
       "\t3 & 1963 & 16885958 \\\\\n",
       "\t4 & 1964 & 17239897 \\\\\n",
       "\t5 & 1965 & 17588556 \\\\\n",
       "\t6 & 1966 & 17986329 \\\\\n",
       "\t7 & 1967 & 18269735 \\\\\n",
       "\t8 & 1968 & 18591361 \\\\\n",
       "\t9 & 1969 & 18962191 \\\\\n",
       "\t10 & 1970 & 19343147 \\\\\n",
       "\t11 & 1971 & 19917088 \\\\\n",
       "\t12 & 1972 & 20308154 \\\\\n",
       "\t13 & 1973 & 20665969 \\\\\n",
       "\t14 & 1974 & 21167633 \\\\\n",
       "\t15 & 1975 & 21492652 \\\\\n",
       "\t16 & 1976 & 21757561 \\\\\n",
       "\t17 & 1977 & 22026209 \\\\\n",
       "\t18 & 1978 & 22294152 \\\\\n",
       "\t19 & 1979 & 22540507 \\\\\n",
       "\t20 & 1980 & 22828851 \\\\\n",
       "\t21 & 1981 & 23183913 \\\\\n",
       "\t22 & 1982 & 23591331 \\\\\n",
       "\t23 & 1983 & 23960946 \\\\\n",
       "\t24 & 1984 & 24294627 \\\\\n",
       "\t25 & 1985 & 24646630 \\\\\n",
       "\t26 & 1986 & 25000568 \\\\\n",
       "\t27 & 1987 & 25399378 \\\\\n",
       "\t28 & 1988 & 25801870 \\\\\n",
       "\t29 & 1989 & 26228313 \\\\\n",
       "\t30 & 1990 & 26652214 \\\\\n",
       "\t$\\dots$ & $\\dots$ & $\\dots$ \\\\\n",
       "\\end{tabular}\n"
      ],
      "text/plain": [
       "\u001b[1m62×2 DataFrame\u001b[0m\n",
       "\u001b[1m Row \u001b[0m│\u001b[1m Year  \u001b[0m\u001b[1m Population_sum \u001b[0m\n",
       "     │\u001b[90m Int64 \u001b[0m\u001b[90m Int64          \u001b[0m\n",
       "─────┼───────────────────────\n",
       "   1 │  1961        16142477\n",
       "   2 │  1962        16545364\n",
       "   3 │  1963        16885958\n",
       "   4 │  1964        17239897\n",
       "   5 │  1965        17588556\n",
       "   6 │  1966        17986329\n",
       "   7 │  1967        18269735\n",
       "   8 │  1968        18591361\n",
       "   9 │  1969        18962191\n",
       "  10 │  1970        19343147\n",
       "  11 │  1971        19917088\n",
       "  ⋮  │   ⋮          ⋮\n",
       "  53 │  2013        39018797\n",
       "  54 │  2014        39691186\n",
       "  55 │  2015        40371102\n",
       "  56 │  2016        41095678\n",
       "  57 │  2017        41841919\n",
       "  58 │  2018        42542878\n",
       "  59 │  2019        43234733\n",
       "  60 │  2020        43901335\n",
       "  61 │  2021        44194831\n",
       "  62 │  2022        44733330\n",
       "\u001b[36m              41 rows omitted\u001b[0m"
      ]
     },
     "execution_count": 16,
     "metadata": {},
     "output_type": "execute_result"
    }
   ],
   "source": [
    "Oc_population_year = combine(groupby(Oc_population, :Year),[:Population] .=> [sum])"
   ]
  },
  {
   "cell_type": "markdown",
   "id": "bc42c444-116a-4f65-b382-d97fa1b2eb82",
   "metadata": {},
   "source": [
    "### comment\n",
    "\n",
    "With the filtered data, we grouped it by **Year** and made a new column which contains the sum of population per group."
   ]
  },
  {
   "cell_type": "code",
   "execution_count": 17,
   "id": "6de4e947-0753-4a47-b34e-e07558b72c9a",
   "metadata": {},
   "outputs": [
    {
     "data": {
      "application/vnd.vegalite.v4+json": {
       "data": {
        "values": [
         {
          "Population_sum": 16142477,
          "Year": 1961
         },
         {
          "Population_sum": 16545364,
          "Year": 1962
         },
         {
          "Population_sum": 16885958,
          "Year": 1963
         },
         {
          "Population_sum": 17239897,
          "Year": 1964
         },
         {
          "Population_sum": 17588556,
          "Year": 1965
         },
         {
          "Population_sum": 17986329,
          "Year": 1966
         },
         {
          "Population_sum": 18269735,
          "Year": 1967
         },
         {
          "Population_sum": 18591361,
          "Year": 1968
         },
         {
          "Population_sum": 18962191,
          "Year": 1969
         },
         {
          "Population_sum": 19343147,
          "Year": 1970
         },
         {
          "Population_sum": 19917088,
          "Year": 1971
         },
         {
          "Population_sum": 20308154,
          "Year": 1972
         },
         {
          "Population_sum": 20665969,
          "Year": 1973
         },
         {
          "Population_sum": 21167633,
          "Year": 1974
         },
         {
          "Population_sum": 21492652,
          "Year": 1975
         },
         {
          "Population_sum": 21757561,
          "Year": 1976
         },
         {
          "Population_sum": 22026209,
          "Year": 1977
         },
         {
          "Population_sum": 22294152,
          "Year": 1978
         },
         {
          "Population_sum": 22540507,
          "Year": 1979
         },
         {
          "Population_sum": 22828851,
          "Year": 1980
         },
         {
          "Population_sum": 23183913,
          "Year": 1981
         },
         {
          "Population_sum": 23591331,
          "Year": 1982
         },
         {
          "Population_sum": 23960946,
          "Year": 1983
         },
         {
          "Population_sum": 24294627,
          "Year": 1984
         },
         {
          "Population_sum": 24646630,
          "Year": 1985
         },
         {
          "Population_sum": 25000568,
          "Year": 1986
         },
         {
          "Population_sum": 25399378,
          "Year": 1987
         },
         {
          "Population_sum": 25801870,
          "Year": 1988
         },
         {
          "Population_sum": 26228313,
          "Year": 1989
         },
         {
          "Population_sum": 26652214,
          "Year": 1990
         },
         {
          "Population_sum": 23704031,
          "Year": 1991
         },
         {
          "Population_sum": 27610597,
          "Year": 1992
         },
         {
          "Population_sum": 27998345,
          "Year": 1993
         },
         {
          "Population_sum": 28412494,
          "Year": 1994
         },
         {
          "Population_sum": 28864742,
          "Year": 1995
         },
         {
          "Population_sum": 29352615,
          "Year": 1996
         },
         {
          "Population_sum": 29821738,
          "Year": 1997
         },
         {
          "Population_sum": 30267181,
          "Year": 1998
         },
         {
          "Population_sum": 30723354,
          "Year": 1999
         },
         {
          "Population_sum": 31193384,
          "Year": 2000
         },
         {
          "Population_sum": 31689583,
          "Year": 2001
         },
         {
          "Population_sum": 32206744,
          "Year": 2002
         },
         {
          "Population_sum": 32742457,
          "Year": 2003
         },
         {
          "Population_sum": 33248938,
          "Year": 2004
         },
         {
          "Population_sum": 33776383,
          "Year": 2005
         },
         {
          "Population_sum": 34341546,
          "Year": 2006
         },
         {
          "Population_sum": 35000190,
          "Year": 2007
         },
         {
          "Population_sum": 35702449,
          "Year": 2008
         },
         {
          "Population_sum": 36434527,
          "Year": 2009
         },
         {
          "Population_sum": 37074499,
          "Year": 2010
         },
         {
          "Population_sum": 37670039,
          "Year": 2011
         },
         {
          "Population_sum": 38339194,
          "Year": 2012
         },
         {
          "Population_sum": 39018797,
          "Year": 2013
         },
         {
          "Population_sum": 39691186,
          "Year": 2014
         },
         {
          "Population_sum": 40371102,
          "Year": 2015
         },
         {
          "Population_sum": 41095678,
          "Year": 2016
         },
         {
          "Population_sum": 41841919,
          "Year": 2017
         },
         {
          "Population_sum": 42542878,
          "Year": 2018
         },
         {
          "Population_sum": 43234733,
          "Year": 2019
         },
         {
          "Population_sum": 43901335,
          "Year": 2020
         },
         {
          "Population_sum": 44194831,
          "Year": 2021
         },
         {
          "Population_sum": 44733330,
          "Year": 2022
         }
        ]
       },
       "encoding": {
        "x": {
         "field": "Year",
         "scale": {
          "zero": false
         },
         "type": "quantitative"
        },
        "y": {
         "axis": {
          "title": "Population"
         },
         "field": "Population_sum",
         "type": "quantitative"
        }
       },
       "height": 400,
       "mark": "line",
       "width": 400
      },
      "image/png": "[encoded data removed]",
      "image/svg+xml": [
       "<?xml version=\"1.0\" encoding=\"utf-8\"?>\n",
       "<!DOCTYPE svg PUBLIC \"-//W3C//DTD SVG 1.1//EN\" \"http://www.w3.org/Graphics/SVG/1.1/DTD/svg11.dtd\">\n",
       "<svg xmlns=\"http://www.w3.org/2000/svg\" xmlns:xlink=\"http://www.w3.org/1999/xlink\" version=\"1.1\" class=\"marks\" width=\"479\" height=\"447\" viewBox=\"0 0 479 447\"><rect width=\"479\" height=\"447\" fill=\"white\"/><g fill=\"none\" stroke-miterlimit=\"10\" transform=\"translate(73,10)\"><g class=\"mark-group role-frame root\" role=\"graphics-object\" aria-roledescription=\"group mark container\"><g transform=\"translate(0,0)\"><path class=\"background\" aria-hidden=\"true\" d=\"M0.5,0.5h400v400h-400Z\" stroke=\"#ddd\"/><g><g class=\"mark-group role-axis\" aria-hidden=\"true\"><g transform=\"translate(0.5,400.5)\"><path class=\"background\" aria-hidden=\"true\" d=\"M0,0h0v0h0Z\" pointer-events=\"none\"/><g><g class=\"mark-rule role-axis-grid\" pointer-events=\"none\"><line transform=\"translate(0,-400)\" x2=\"0\" y2=\"400\" stroke=\"#ddd\" stroke-width=\"1\" opacity=\"1\"/><line transform=\"translate(31,-400)\" x2=\"0\" y2=\"400\" stroke=\"#ddd\" stroke-width=\"1\" opacity=\"1\"/><line transform=\"translate(62,-400)\" x2=\"0\" y2=\"400\" stroke=\"#ddd\" stroke-width=\"1\" opacity=\"1\"/><line transform=\"translate(92,-400)\" x2=\"0\" y2=\"400\" stroke=\"#ddd\" stroke-width=\"1\" opacity=\"1\"/><line transform=\"translate(123,-400)\" x2=\"0\" y2=\"400\" stroke=\"#ddd\" stroke-width=\"1\" opacity=\"1\"/><line transform=\"translate(154,-400)\" x2=\"0\" y2=\"400\" stroke=\"#ddd\" stroke-width=\"1\" opacity=\"1\"/><line transform=\"translate(185,-400)\" x2=\"0\" y2=\"400\" stroke=\"#ddd\" stroke-width=\"1\" opacity=\"1\"/><line transform=\"translate(215,-400)\" x2=\"0\" y2=\"400\" stroke=\"#ddd\" stroke-width=\"1\" opacity=\"1\"/><line transform=\"translate(246,-400)\" x2=\"0\" y2=\"400\" stroke=\"#ddd\" stroke-width=\"1\" opacity=\"1\"/><line transform=\"translate(277,-400)\" x2=\"0\" y2=\"400\" stroke=\"#ddd\" stroke-width=\"1\" opacity=\"1\"/><line transform=\"translate(308,-400)\" x2=\"0\" y2=\"400\" stroke=\"#ddd\" stroke-width=\"1\" opacity=\"1\"/><line transform=\"translate(338,-400)\" x2=\"0\" y2=\"400\" stroke=\"#ddd\" stroke-width=\"1\" opacity=\"1\"/><line transform=\"translate(369,-400)\" x2=\"0\" y2=\"400\" stroke=\"#ddd\" stroke-width=\"1\" opacity=\"1\"/><line transform=\"translate(400,-400)\" x2=\"0\" y2=\"400\" stroke=\"#ddd\" stroke-width=\"1\" opacity=\"1\"/></g></g><path class=\"foreground\" aria-hidden=\"true\" d=\"\" pointer-events=\"none\" display=\"none\"/></g></g><g class=\"mark-group role-axis\" aria-hidden=\"true\"><g transform=\"translate(0.5,0.5)\"><path class=\"background\" aria-hidden=\"true\" d=\"M0,0h0v0h0Z\" pointer-events=\"none\"/><g><g class=\"mark-rule role-axis-grid\" pointer-events=\"none\"><line transform=\"translate(0,400)\" x2=\"400\" y2=\"0\" stroke=\"#ddd\" stroke-width=\"1\" opacity=\"1\"/><line transform=\"translate(0,356)\" x2=\"400\" y2=\"0\" stroke=\"#ddd\" stroke-width=\"1\" opacity=\"1\"/><line transform=\"translate(0,311)\" x2=\"400\" y2=\"0\" stroke=\"#ddd\" stroke-width=\"1\" opacity=\"1\"/><line transform=\"translate(0,267)\" x2=\"400\" y2=\"0\" stroke=\"#ddd\" stroke-width=\"1\" opacity=\"1\"/><line transform=\"translate(0,222)\" x2=\"400\" y2=\"0\" stroke=\"#ddd\" stroke-width=\"1\" opacity=\"1\"/><line transform=\"translate(0,178)\" x2=\"400\" y2=\"0\" stroke=\"#ddd\" stroke-width=\"1\" opacity=\"1\"/><line transform=\"translate(0,133)\" x2=\"400\" y2=\"0\" stroke=\"#ddd\" stroke-width=\"1\" opacity=\"1\"/><line transform=\"translate(0,89)\" x2=\"400\" y2=\"0\" stroke=\"#ddd\" stroke-width=\"1\" opacity=\"1\"/><line transform=\"translate(0,44)\" x2=\"400\" y2=\"0\" stroke=\"#ddd\" stroke-width=\"1\" opacity=\"1\"/><line transform=\"translate(0,0)\" x2=\"400\" y2=\"0\" stroke=\"#ddd\" stroke-width=\"1\" opacity=\"1\"/></g></g><path class=\"foreground\" aria-hidden=\"true\" d=\"\" pointer-events=\"none\" display=\"none\"/></g></g><g class=\"mark-group role-axis\" role=\"graphics-symbol\" aria-roledescription=\"axis\" aria-label=\"X-axis titled 'Year' for a linear scale with values from 1,960 to 2,025\"><g transform=\"translate(0.5,400.5)\"><path class=\"background\" aria-hidden=\"true\" d=\"M0,0h0v0h0Z\" pointer-events=\"none\"/><g><g class=\"mark-rule role-axis-tick\" pointer-events=\"none\"><line transform=\"translate(0,0)\" x2=\"0\" y2=\"5\" stroke=\"#888\" stroke-width=\"1\" opacity=\"1\"/><line transform=\"translate(31,0)\" x2=\"0\" y2=\"5\" stroke=\"#888\" stroke-width=\"1\" opacity=\"1\"/><line transform=\"translate(62,0)\" x2=\"0\" y2=\"5\" stroke=\"#888\" stroke-width=\"1\" opacity=\"1\"/><line transform=\"translate(92,0)\" x2=\"0\" y2=\"5\" stroke=\"#888\" stroke-width=\"1\" opacity=\"1\"/><line transform=\"translate(123,0)\" x2=\"0\" y2=\"5\" stroke=\"#888\" stroke-width=\"1\" opacity=\"1\"/><line transform=\"translate(154,0)\" x2=\"0\" y2=\"5\" stroke=\"#888\" stroke-width=\"1\" opacity=\"1\"/><line transform=\"translate(185,0)\" x2=\"0\" y2=\"5\" stroke=\"#888\" stroke-width=\"1\" opacity=\"1\"/><line transform=\"translate(215,0)\" x2=\"0\" y2=\"5\" stroke=\"#888\" stroke-width=\"1\" opacity=\"1\"/><line transform=\"translate(246,0)\" x2=\"0\" y2=\"5\" stroke=\"#888\" stroke-width=\"1\" opacity=\"1\"/><line transform=\"translate(277,0)\" x2=\"0\" y2=\"5\" stroke=\"#888\" stroke-width=\"1\" opacity=\"1\"/><line transform=\"translate(308,0)\" x2=\"0\" y2=\"5\" stroke=\"#888\" stroke-width=\"1\" opacity=\"1\"/><line transform=\"translate(338,0)\" x2=\"0\" y2=\"5\" stroke=\"#888\" stroke-width=\"1\" opacity=\"1\"/><line transform=\"translate(369,0)\" x2=\"0\" y2=\"5\" stroke=\"#888\" stroke-width=\"1\" opacity=\"1\"/><line transform=\"translate(400,0)\" x2=\"0\" y2=\"5\" stroke=\"#888\" stroke-width=\"1\" opacity=\"1\"/></g><g class=\"mark-text role-axis-label\" pointer-events=\"none\"><text text-anchor=\"start\" transform=\"translate(0,15)\" font-family=\"sans-serif\" font-size=\"10px\" fill=\"#000\" opacity=\"1\">1,960</text><text text-anchor=\"middle\" transform=\"translate(30.76923076923077,15)\" font-family=\"sans-serif\" font-size=\"10px\" fill=\"#000\" opacity=\"0\">1,965</text><text text-anchor=\"middle\" transform=\"translate(61.53846153846154,15)\" font-family=\"sans-serif\" font-size=\"10px\" fill=\"#000\" opacity=\"1\">1,970</text><text text-anchor=\"middle\" transform=\"translate(92.3076923076923,15)\" font-family=\"sans-serif\" font-size=\"10px\" fill=\"#000\" opacity=\"0\">1,975</text><text text-anchor=\"middle\" transform=\"translate(123.07692307692308,15)\" font-family=\"sans-serif\" font-size=\"10px\" fill=\"#000\" opacity=\"1\">1,980</text><text text-anchor=\"middle\" transform=\"translate(153.84615384615387,15)\" font-family=\"sans-serif\" font-size=\"10px\" fill=\"#000\" opacity=\"0\">1,985</text><text text-anchor=\"middle\" transform=\"translate(184.6153846153846,15)\" font-family=\"sans-serif\" font-size=\"10px\" fill=\"#000\" opacity=\"1\">1,990</text><text text-anchor=\"middle\" transform=\"translate(215.3846153846154,15)\" font-family=\"sans-serif\" font-size=\"10px\" fill=\"#000\" opacity=\"0\">1,995</text><text text-anchor=\"middle\" transform=\"translate(246.15384615384616,15)\" font-family=\"sans-serif\" font-size=\"10px\" fill=\"#000\" opacity=\"1\">2,000</text><text text-anchor=\"middle\" transform=\"translate(276.9230769230769,15)\" font-family=\"sans-serif\" font-size=\"10px\" fill=\"#000\" opacity=\"0\">2,005</text><text text-anchor=\"middle\" transform=\"translate(307.69230769230774,15)\" font-family=\"sans-serif\" font-size=\"10px\" fill=\"#000\" opacity=\"1\">2,010</text><text text-anchor=\"middle\" transform=\"translate(338.46153846153845,15)\" font-family=\"sans-serif\" font-size=\"10px\" fill=\"#000\" opacity=\"0\">2,015</text><text text-anchor=\"middle\" transform=\"translate(369.2307692307692,15)\" font-family=\"sans-serif\" font-size=\"10px\" fill=\"#000\" opacity=\"1\">2,020</text><text text-anchor=\"end\" transform=\"translate(400,15)\" font-family=\"sans-serif\" font-size=\"10px\" fill=\"#000\" opacity=\"0\">2,025</text></g><g class=\"mark-rule role-axis-domain\" pointer-events=\"none\"><line transform=\"translate(0,0)\" x2=\"400\" y2=\"0\" stroke=\"#888\" stroke-width=\"1\" opacity=\"1\"/></g><g class=\"mark-text role-axis-title\" pointer-events=\"none\"><text text-anchor=\"middle\" transform=\"translate(200,30)\" font-family=\"sans-serif\" font-size=\"11px\" font-weight=\"bold\" fill=\"#000\" opacity=\"1\">Year</text></g></g><path class=\"foreground\" aria-hidden=\"true\" d=\"\" pointer-events=\"none\" display=\"none\"/></g></g><g class=\"mark-group role-axis\" role=\"graphics-symbol\" aria-roledescription=\"axis\" aria-label=\"Y-axis titled 'Population' for a linear scale with values from 0 to 45,000,000\"><g transform=\"translate(0.5,0.5)\"><path class=\"background\" aria-hidden=\"true\" d=\"M0,0h0v0h0Z\" pointer-events=\"none\"/><g><g class=\"mark-rule role-axis-tick\" pointer-events=\"none\"><line transform=\"translate(0,400)\" x2=\"-5\" y2=\"0\" stroke=\"#888\" stroke-width=\"1\" opacity=\"1\"/><line transform=\"translate(0,356)\" x2=\"-5\" y2=\"0\" stroke=\"#888\" stroke-width=\"1\" opacity=\"1\"/><line transform=\"translate(0,311)\" x2=\"-5\" y2=\"0\" stroke=\"#888\" stroke-width=\"1\" opacity=\"1\"/><line transform=\"translate(0,267)\" x2=\"-5\" y2=\"0\" stroke=\"#888\" stroke-width=\"1\" opacity=\"1\"/><line transform=\"translate(0,222)\" x2=\"-5\" y2=\"0\" stroke=\"#888\" stroke-width=\"1\" opacity=\"1\"/><line transform=\"translate(0,178)\" x2=\"-5\" y2=\"0\" stroke=\"#888\" stroke-width=\"1\" opacity=\"1\"/><line transform=\"translate(0,133)\" x2=\"-5\" y2=\"0\" stroke=\"#888\" stroke-width=\"1\" opacity=\"1\"/><line transform=\"translate(0,89)\" x2=\"-5\" y2=\"0\" stroke=\"#888\" stroke-width=\"1\" opacity=\"1\"/><line transform=\"translate(0,44)\" x2=\"-5\" y2=\"0\" stroke=\"#888\" stroke-width=\"1\" opacity=\"1\"/><line transform=\"translate(0,0)\" x2=\"-5\" y2=\"0\" stroke=\"#888\" stroke-width=\"1\" opacity=\"1\"/></g><g class=\"mark-text role-axis-label\" pointer-events=\"none\"><text text-anchor=\"end\" transform=\"translate(-7,403)\" font-family=\"sans-serif\" font-size=\"10px\" fill=\"#000\" opacity=\"1\">0</text><text text-anchor=\"end\" transform=\"translate(-7,358.55555555555554)\" font-family=\"sans-serif\" font-size=\"10px\" fill=\"#000\" opacity=\"1\">5,000,000</text><text text-anchor=\"end\" transform=\"translate(-7,314.11111111111114)\" font-family=\"sans-serif\" font-size=\"10px\" fill=\"#000\" opacity=\"1\">10,000,000</text><text text-anchor=\"end\" transform=\"translate(-7,269.6666666666667)\" font-family=\"sans-serif\" font-size=\"10px\" fill=\"#000\" opacity=\"1\">15,000,000</text><text text-anchor=\"end\" transform=\"translate(-7,225.22222222222223)\" font-family=\"sans-serif\" font-size=\"10px\" fill=\"#000\" opacity=\"1\">20,000,000</text><text text-anchor=\"end\" transform=\"translate(-7,180.77777777777777)\" font-family=\"sans-serif\" font-size=\"10px\" fill=\"#000\" opacity=\"1\">25,000,000</text><text text-anchor=\"end\" transform=\"translate(-7,136.33333333333334)\" font-family=\"sans-serif\" font-size=\"10px\" fill=\"#000\" opacity=\"1\">30,000,000</text><text text-anchor=\"end\" transform=\"translate(-7,91.88888888888889)\" font-family=\"sans-serif\" font-size=\"10px\" fill=\"#000\" opacity=\"1\">35,000,000</text><text text-anchor=\"end\" transform=\"translate(-7,47.444444444444464)\" font-family=\"sans-serif\" font-size=\"10px\" fill=\"#000\" opacity=\"1\">40,000,000</text><text text-anchor=\"end\" transform=\"translate(-7,3)\" font-family=\"sans-serif\" font-size=\"10px\" fill=\"#000\" opacity=\"1\">45,000,000</text></g><g class=\"mark-rule role-axis-domain\" pointer-events=\"none\"><line transform=\"translate(0,400)\" x2=\"0\" y2=\"-400\" stroke=\"#888\" stroke-width=\"1\" opacity=\"1\"/></g><g class=\"mark-text role-axis-title\" pointer-events=\"none\"><text text-anchor=\"middle\" transform=\"translate(-57,200) rotate(-90) translate(0,-2)\" font-family=\"sans-serif\" font-size=\"11px\" font-weight=\"bold\" fill=\"#000\" opacity=\"1\">Population</text></g></g><path class=\"foreground\" aria-hidden=\"true\" d=\"\" pointer-events=\"none\" display=\"none\"/></g></g><g class=\"mark-line role-mark marks\" role=\"graphics-object\" aria-roledescription=\"line mark container\"><path aria-label=\"Year: 1961; Population_sum: 16142477\" role=\"graphics-symbol\" aria-roledescription=\"line mark\" d=\"M6.153846153846154,256.51131555555554L12.307692307692308,252.9300977777778L18.461538461538463,249.90259555555556L24.615384615384617,246.75647111111113L30.76923076923077,243.65728L36.92307692307693,240.12152000000003L43.07692307692308,237.60235555555553L49.23076923076923,234.7434577777778L55.38461538461539,231.44719111111112L61.53846153846154,228.06091555555557L67.6923076923077,222.95921777777775L73.84615384615385,219.48307555555556L80,216.3024977777778L86.15384615384616,211.84326222222225L92.3076923076923,208.95420444444443L98.46153846153847,206.59945777777776L104.61538461538463,204.21147555555558L110.76923076923077,201.82976L116.92307692307693,199.6399377777778L123.07692307692308,197.07688000000002L129.23076923076923,193.92077333333333L135.3846153846154,190.29927999999998L141.53846153846155,187.0138133333333L147.6923076923077,184.04775999999998L153.84615384615387,180.91884444444446L160,177.77272888888888L166.15384615384616,174.22775111111113L172.30769230769232,170.65004444444446L178.46153846153848,166.85944L184.6153846153846,163.09143111111112L190.76923076923077,189.29750222222222L196.92307692307693,154.57247111111113L203.07692307692307,151.1258222222222L209.23076923076925,147.4444977777778L215.3846153846154,143.4245155555556L221.53846153846155,139.08786666666666L227.69230769230768,134.91788444444444L233.84615384615387,130.9583911111111L240,126.90351999999999L246.15384615384616,122.72547555555558L252.3076923076923,118.31481777777779L258.46153846153845,113.71783111111111L264.6153846153846,108.95593777777779L270.7692307692308,104.45388444444444L276.9230769230769,99.76548444444444L283.0769230769231,94.74181333333331L289.2307692307692,88.8872L295.3846153846154,82.6448977777778L301.53846153846155,76.13753777777777L307.69230769230774,70.44889777777779L313.84615384615387,65.15520888888888L320,59.20716444444443L326.15384615384613,53.16624888888888L332.3076923076923,47.18945777777779L338.46153846153845,41.14575999999999L344.61538461538464,34.705084444444445L350.7692307692308,28.071831111111088L356.92307692307696,21.84108444444446L363.0769230769231,15.691262222222235L369.2307692307692,9.765911111111114L375.38461538461536,7.157057777777798L381.53846153846155,2.3703999999999947\" stroke=\"#4c78a8\" stroke-width=\"2\"/></g></g><path class=\"foreground\" aria-hidden=\"true\" d=\"\" display=\"none\"/></g></g></g></svg>\n"
      ],
      "text/plain": [
       "@vlplot(\n",
       "    width=400,\n",
       "    height=400,\n",
       "    mark=\"line\",\n",
       "    encoding={\n",
       "        x={\n",
       "            scale={\n",
       "                zero=false\n",
       "            },\n",
       "            field=\"Year\"\n",
       "        },\n",
       "        y={\n",
       "            axis={\n",
       "                title=\"Population\"\n",
       "            },\n",
       "            field=\"Population_sum\"\n",
       "        }\n",
       "    },\n",
       "    data={\n",
       "        values=...\n",
       "    }\n",
       ")"
      ]
     },
     "execution_count": 17,
     "metadata": {},
     "output_type": "execute_result"
    }
   ],
   "source": [
    "using VegaLite\n",
    "\n",
    "Oc_popultation_plot = Oc_population_year |>\n",
    "  @vlplot(:line, x = {:Year, scale = {zero = false}}, y = {:Population_sum, axis = {title = \"Population\"}},\n",
    "           width = 400, height = 400)"
   ]
  },
  {
   "cell_type": "markdown",
   "id": "718696e2-114f-4543-8976-e875db555410",
   "metadata": {},
   "source": [
    "### comment\n",
    "\n",
    "`vlplot` was used to plot the time series graph. You can see the population is growing over times in Oceania. However, there is a drop in 1991. This doesn't look very natural. We can investigate what happened."
   ]
  },
  {
   "cell_type": "code",
   "execution_count": 18,
   "id": "40cdb789-b655-4632-96e3-f03eff84cd00",
   "metadata": {
    "scrolled": true
   },
   "outputs": [
    {
     "data": {
      "text/html": [
       "<div><div style = \"float: left;\"><span>62×2 DataFrame</span></div><div style = \"float: right;\"><span style = \"font-style: italic;\">37 rows omitted</span></div><div style = \"clear: both;\"></div></div><div class = \"data-frame\" style = \"overflow-x: scroll;\"><table class = \"data-frame\" style = \"margin-bottom: 6px;\"><thead><tr class = \"header\"><th class = \"rowNumber\" style = \"font-weight: bold; text-align: right;\">Row</th><th style = \"text-align: left;\">Year</th><th style = \"text-align: left;\">Num_Country</th></tr><tr class = \"subheader headerLastRow\"><th class = \"rowNumber\" style = \"font-weight: bold; text-align: right;\"></th><th title = \"Int64\" style = \"text-align: left;\">Int64</th><th title = \"Int64\" style = \"text-align: left;\">Int64</th></tr></thead><tbody><tr><td class = \"rowNumber\" style = \"font-weight: bold; text-align: right;\">1</td><td style = \"text-align: right;\">1961</td><td style = \"text-align: right;\">19</td></tr><tr><td class = \"rowNumber\" style = \"font-weight: bold; text-align: right;\">2</td><td style = \"text-align: right;\">1962</td><td style = \"text-align: right;\">19</td></tr><tr><td class = \"rowNumber\" style = \"font-weight: bold; text-align: right;\">3</td><td style = \"text-align: right;\">1963</td><td style = \"text-align: right;\">19</td></tr><tr><td class = \"rowNumber\" style = \"font-weight: bold; text-align: right;\">4</td><td style = \"text-align: right;\">1964</td><td style = \"text-align: right;\">19</td></tr><tr><td class = \"rowNumber\" style = \"font-weight: bold; text-align: right;\">5</td><td style = \"text-align: right;\">1965</td><td style = \"text-align: right;\">19</td></tr><tr><td class = \"rowNumber\" style = \"font-weight: bold; text-align: right;\">6</td><td style = \"text-align: right;\">1966</td><td style = \"text-align: right;\">19</td></tr><tr><td class = \"rowNumber\" style = \"font-weight: bold; text-align: right;\">7</td><td style = \"text-align: right;\">1967</td><td style = \"text-align: right;\">19</td></tr><tr><td class = \"rowNumber\" style = \"font-weight: bold; text-align: right;\">8</td><td style = \"text-align: right;\">1968</td><td style = \"text-align: right;\">19</td></tr><tr><td class = \"rowNumber\" style = \"font-weight: bold; text-align: right;\">9</td><td style = \"text-align: right;\">1969</td><td style = \"text-align: right;\">19</td></tr><tr><td class = \"rowNumber\" style = \"font-weight: bold; text-align: right;\">10</td><td style = \"text-align: right;\">1970</td><td style = \"text-align: right;\">19</td></tr><tr><td class = \"rowNumber\" style = \"font-weight: bold; text-align: right;\">11</td><td style = \"text-align: right;\">1971</td><td style = \"text-align: right;\">19</td></tr><tr><td class = \"rowNumber\" style = \"font-weight: bold; text-align: right;\">12</td><td style = \"text-align: right;\">1972</td><td style = \"text-align: right;\">19</td></tr><tr><td class = \"rowNumber\" style = \"font-weight: bold; text-align: right;\">13</td><td style = \"text-align: right;\">1973</td><td style = \"text-align: right;\">19</td></tr><tr><td style = \"text-align: right;\">&vellip;</td><td style = \"text-align: right;\">&vellip;</td><td style = \"text-align: right;\">&vellip;</td></tr><tr><td class = \"rowNumber\" style = \"font-weight: bold; text-align: right;\">51</td><td style = \"text-align: right;\">2011</td><td style = \"text-align: right;\">19</td></tr><tr><td class = \"rowNumber\" style = \"font-weight: bold; text-align: right;\">52</td><td style = \"text-align: right;\">2012</td><td style = \"text-align: right;\">19</td></tr><tr><td class = \"rowNumber\" style = \"font-weight: bold; text-align: right;\">53</td><td style = \"text-align: right;\">2013</td><td style = \"text-align: right;\">19</td></tr><tr><td class = \"rowNumber\" style = \"font-weight: bold; text-align: right;\">54</td><td style = \"text-align: right;\">2014</td><td style = \"text-align: right;\">19</td></tr><tr><td class = \"rowNumber\" style = \"font-weight: bold; text-align: right;\">55</td><td style = \"text-align: right;\">2015</td><td style = \"text-align: right;\">19</td></tr><tr><td class = \"rowNumber\" style = \"font-weight: bold; text-align: right;\">56</td><td style = \"text-align: right;\">2016</td><td style = \"text-align: right;\">19</td></tr><tr><td class = \"rowNumber\" style = \"font-weight: bold; text-align: right;\">57</td><td style = \"text-align: right;\">2017</td><td style = \"text-align: right;\">19</td></tr><tr><td class = \"rowNumber\" style = \"font-weight: bold; text-align: right;\">58</td><td style = \"text-align: right;\">2018</td><td style = \"text-align: right;\">19</td></tr><tr><td class = \"rowNumber\" style = \"font-weight: bold; text-align: right;\">59</td><td style = \"text-align: right;\">2019</td><td style = \"text-align: right;\">19</td></tr><tr><td class = \"rowNumber\" style = \"font-weight: bold; text-align: right;\">60</td><td style = \"text-align: right;\">2020</td><td style = \"text-align: right;\">19</td></tr><tr><td class = \"rowNumber\" style = \"font-weight: bold; text-align: right;\">61</td><td style = \"text-align: right;\">2021</td><td style = \"text-align: right;\">19</td></tr><tr><td class = \"rowNumber\" style = \"font-weight: bold; text-align: right;\">62</td><td style = \"text-align: right;\">2022</td><td style = \"text-align: right;\">19</td></tr></tbody></table></div>"
      ],
      "text/latex": [
       "\\begin{tabular}{r|cc}\n",
       "\t& Year & Num\\_Country\\\\\n",
       "\t\\hline\n",
       "\t& Int64 & Int64\\\\\n",
       "\t\\hline\n",
       "\t1 & 1961 & 19 \\\\\n",
       "\t2 & 1962 & 19 \\\\\n",
       "\t3 & 1963 & 19 \\\\\n",
       "\t4 & 1964 & 19 \\\\\n",
       "\t5 & 1965 & 19 \\\\\n",
       "\t6 & 1966 & 19 \\\\\n",
       "\t7 & 1967 & 19 \\\\\n",
       "\t8 & 1968 & 19 \\\\\n",
       "\t9 & 1969 & 19 \\\\\n",
       "\t10 & 1970 & 19 \\\\\n",
       "\t11 & 1971 & 19 \\\\\n",
       "\t12 & 1972 & 19 \\\\\n",
       "\t13 & 1973 & 19 \\\\\n",
       "\t14 & 1974 & 19 \\\\\n",
       "\t15 & 1975 & 19 \\\\\n",
       "\t16 & 1976 & 19 \\\\\n",
       "\t17 & 1977 & 19 \\\\\n",
       "\t18 & 1978 & 19 \\\\\n",
       "\t19 & 1979 & 19 \\\\\n",
       "\t20 & 1980 & 19 \\\\\n",
       "\t21 & 1981 & 19 \\\\\n",
       "\t22 & 1982 & 19 \\\\\n",
       "\t23 & 1983 & 19 \\\\\n",
       "\t24 & 1984 & 19 \\\\\n",
       "\t25 & 1985 & 19 \\\\\n",
       "\t26 & 1986 & 19 \\\\\n",
       "\t27 & 1987 & 19 \\\\\n",
       "\t28 & 1988 & 19 \\\\\n",
       "\t29 & 1989 & 19 \\\\\n",
       "\t30 & 1990 & 19 \\\\\n",
       "\t$\\dots$ & $\\dots$ & $\\dots$ \\\\\n",
       "\\end{tabular}\n"
      ],
      "text/plain": [
       "\u001b[1m62×2 DataFrame\u001b[0m\n",
       "\u001b[1m Row \u001b[0m│\u001b[1m Year  \u001b[0m\u001b[1m Num_Country \u001b[0m\n",
       "     │\u001b[90m Int64 \u001b[0m\u001b[90m Int64       \u001b[0m\n",
       "─────┼────────────────────\n",
       "   1 │  1961           19\n",
       "   2 │  1962           19\n",
       "   3 │  1963           19\n",
       "   4 │  1964           19\n",
       "   5 │  1965           19\n",
       "   6 │  1966           19\n",
       "   7 │  1967           19\n",
       "   8 │  1968           19\n",
       "   9 │  1969           19\n",
       "  10 │  1970           19\n",
       "  11 │  1971           19\n",
       "  ⋮  │   ⋮         ⋮\n",
       "  53 │  2013           19\n",
       "  54 │  2014           19\n",
       "  55 │  2015           19\n",
       "  56 │  2016           19\n",
       "  57 │  2017           19\n",
       "  58 │  2018           19\n",
       "  59 │  2019           19\n",
       "  60 │  2020           19\n",
       "  61 │  2021           19\n",
       "  62 │  2022           19\n",
       "\u001b[36m           41 rows omitted\u001b[0m"
      ]
     },
     "execution_count": 18,
     "metadata": {},
     "output_type": "execute_result"
    }
   ],
   "source": [
    "Oc_Countrycount_year = combine(groupby(Oc_population, :Year), nrow => :Num_Country)"
   ]
  },
  {
   "cell_type": "markdown",
   "id": "d37af9b0-2464-4fba-9188-53eb836c60c4",
   "metadata": {},
   "source": [
    "### comment\n",
    "\n",
    "The first assumption is the number of countries in the dataset might be different in that year because of partial deletion we conducted in the first notebook. To check it, `Oc_population` dataset was grouped by **Year** and counted how many countries are there every year. "
   ]
  },
  {
   "cell_type": "code",
   "execution_count": 19,
   "id": "4a683165-f683-4e8a-95b6-b6e63fe4d421",
   "metadata": {},
   "outputs": [
    {
     "data": {
      "application/vnd.vegalite.v4+json": {
       "data": {
        "values": [
         {
          "Num_Country": 19,
          "Year": 1961
         },
         {
          "Num_Country": 19,
          "Year": 1962
         },
         {
          "Num_Country": 19,
          "Year": 1963
         },
         {
          "Num_Country": 19,
          "Year": 1964
         },
         {
          "Num_Country": 19,
          "Year": 1965
         },
         {
          "Num_Country": 19,
          "Year": 1966
         },
         {
          "Num_Country": 19,
          "Year": 1967
         },
         {
          "Num_Country": 19,
          "Year": 1968
         },
         {
          "Num_Country": 19,
          "Year": 1969
         },
         {
          "Num_Country": 19,
          "Year": 1970
         },
         {
          "Num_Country": 19,
          "Year": 1971
         },
         {
          "Num_Country": 19,
          "Year": 1972
         },
         {
          "Num_Country": 19,
          "Year": 1973
         },
         {
          "Num_Country": 19,
          "Year": 1974
         },
         {
          "Num_Country": 19,
          "Year": 1975
         },
         {
          "Num_Country": 19,
          "Year": 1976
         },
         {
          "Num_Country": 19,
          "Year": 1977
         },
         {
          "Num_Country": 19,
          "Year": 1978
         },
         {
          "Num_Country": 19,
          "Year": 1979
         },
         {
          "Num_Country": 19,
          "Year": 1980
         },
         {
          "Num_Country": 19,
          "Year": 1981
         },
         {
          "Num_Country": 19,
          "Year": 1982
         },
         {
          "Num_Country": 19,
          "Year": 1983
         },
         {
          "Num_Country": 19,
          "Year": 1984
         },
         {
          "Num_Country": 19,
          "Year": 1985
         },
         {
          "Num_Country": 19,
          "Year": 1986
         },
         {
          "Num_Country": 19,
          "Year": 1987
         },
         {
          "Num_Country": 19,
          "Year": 1988
         },
         {
          "Num_Country": 19,
          "Year": 1989
         },
         {
          "Num_Country": 19,
          "Year": 1990
         },
         {
          "Num_Country": 18,
          "Year": 1991
         },
         {
          "Num_Country": 19,
          "Year": 1992
         },
         {
          "Num_Country": 19,
          "Year": 1993
         },
         {
          "Num_Country": 19,
          "Year": 1994
         },
         {
          "Num_Country": 19,
          "Year": 1995
         },
         {
          "Num_Country": 19,
          "Year": 1996
         },
         {
          "Num_Country": 19,
          "Year": 1997
         },
         {
          "Num_Country": 19,
          "Year": 1998
         },
         {
          "Num_Country": 19,
          "Year": 1999
         },
         {
          "Num_Country": 19,
          "Year": 2000
         },
         {
          "Num_Country": 19,
          "Year": 2001
         },
         {
          "Num_Country": 19,
          "Year": 2002
         },
         {
          "Num_Country": 19,
          "Year": 2003
         },
         {
          "Num_Country": 19,
          "Year": 2004
         },
         {
          "Num_Country": 19,
          "Year": 2005
         },
         {
          "Num_Country": 19,
          "Year": 2006
         },
         {
          "Num_Country": 19,
          "Year": 2007
         },
         {
          "Num_Country": 19,
          "Year": 2008
         },
         {
          "Num_Country": 19,
          "Year": 2009
         },
         {
          "Num_Country": 19,
          "Year": 2010
         },
         {
          "Num_Country": 19,
          "Year": 2011
         },
         {
          "Num_Country": 19,
          "Year": 2012
         },
         {
          "Num_Country": 19,
          "Year": 2013
         },
         {
          "Num_Country": 19,
          "Year": 2014
         },
         {
          "Num_Country": 19,
          "Year": 2015
         },
         {
          "Num_Country": 19,
          "Year": 2016
         },
         {
          "Num_Country": 19,
          "Year": 2017
         },
         {
          "Num_Country": 19,
          "Year": 2018
         },
         {
          "Num_Country": 19,
          "Year": 2019
         },
         {
          "Num_Country": 19,
          "Year": 2020
         },
         {
          "Num_Country": 19,
          "Year": 2021
         },
         {
          "Num_Country": 19,
          "Year": 2022
         }
        ]
       },
       "encoding": {
        "x": {
         "field": "Year",
         "scale": {
          "zero": false
         },
         "type": "quantitative"
        },
        "y": {
         "axis": {
          "title": "Number of Countries"
         },
         "field": "Num_Country",
         "scale": {
          "domain": [
           15,
           22
          ]
         },
         "type": "quantitative"
        }
       },
       "height": 200,
       "mark": "point",
       "width": 400
      },
      "image/png": "[encoded data removed]",
      "image/svg+xml": [
       "<?xml version=\"1.0\" encoding=\"utf-8\"?>\n",
       "<!DOCTYPE svg PUBLIC \"-//W3C//DTD SVG 1.1//EN\" \"http://www.w3.org/Graphics/SVG/1.1/DTD/svg11.dtd\">\n",
       "<svg xmlns=\"http://www.w3.org/2000/svg\" xmlns:xlink=\"http://www.w3.org/1999/xlink\" version=\"1.1\" class=\"marks\" width=\"443\" height=\"247\" viewBox=\"0 0 443 247\"><rect width=\"443\" height=\"247\" fill=\"white\"/><g fill=\"none\" stroke-miterlimit=\"10\" transform=\"translate(37,10)\"><g class=\"mark-group role-frame root\" role=\"graphics-object\" aria-roledescription=\"group mark container\"><g transform=\"translate(0,0)\"><path class=\"background\" aria-hidden=\"true\" d=\"M0.5,0.5h400v200h-400Z\" stroke=\"#ddd\"/><g><g class=\"mark-group role-axis\" aria-hidden=\"true\"><g transform=\"translate(0.5,200.5)\"><path class=\"background\" aria-hidden=\"true\" d=\"M0,0h0v0h0Z\" pointer-events=\"none\"/><g><g class=\"mark-rule role-axis-grid\" pointer-events=\"none\"><line transform=\"translate(0,-200)\" x2=\"0\" y2=\"200\" stroke=\"#ddd\" stroke-width=\"1\" opacity=\"1\"/><line transform=\"translate(31,-200)\" x2=\"0\" y2=\"200\" stroke=\"#ddd\" stroke-width=\"1\" opacity=\"1\"/><line transform=\"translate(62,-200)\" x2=\"0\" y2=\"200\" stroke=\"#ddd\" stroke-width=\"1\" opacity=\"1\"/><line transform=\"translate(92,-200)\" x2=\"0\" y2=\"200\" stroke=\"#ddd\" stroke-width=\"1\" opacity=\"1\"/><line transform=\"translate(123,-200)\" x2=\"0\" y2=\"200\" stroke=\"#ddd\" stroke-width=\"1\" opacity=\"1\"/><line transform=\"translate(154,-200)\" x2=\"0\" y2=\"200\" stroke=\"#ddd\" stroke-width=\"1\" opacity=\"1\"/><line transform=\"translate(185,-200)\" x2=\"0\" y2=\"200\" stroke=\"#ddd\" stroke-width=\"1\" opacity=\"1\"/><line transform=\"translate(215,-200)\" x2=\"0\" y2=\"200\" stroke=\"#ddd\" stroke-width=\"1\" opacity=\"1\"/><line transform=\"translate(246,-200)\" x2=\"0\" y2=\"200\" stroke=\"#ddd\" stroke-width=\"1\" opacity=\"1\"/><line transform=\"translate(277,-200)\" x2=\"0\" y2=\"200\" stroke=\"#ddd\" stroke-width=\"1\" opacity=\"1\"/><line transform=\"translate(308,-200)\" x2=\"0\" y2=\"200\" stroke=\"#ddd\" stroke-width=\"1\" opacity=\"1\"/><line transform=\"translate(338,-200)\" x2=\"0\" y2=\"200\" stroke=\"#ddd\" stroke-width=\"1\" opacity=\"1\"/><line transform=\"translate(369,-200)\" x2=\"0\" y2=\"200\" stroke=\"#ddd\" stroke-width=\"1\" opacity=\"1\"/><line transform=\"translate(400,-200)\" x2=\"0\" y2=\"200\" stroke=\"#ddd\" stroke-width=\"1\" opacity=\"1\"/></g></g><path class=\"foreground\" aria-hidden=\"true\" d=\"\" pointer-events=\"none\" display=\"none\"/></g></g><g class=\"mark-group role-axis\" aria-hidden=\"true\"><g transform=\"translate(0.5,0.5)\"><path class=\"background\" aria-hidden=\"true\" d=\"M0,0h0v0h0Z\" pointer-events=\"none\"/><g><g class=\"mark-rule role-axis-grid\" pointer-events=\"none\"><line transform=\"translate(0,200)\" x2=\"400\" y2=\"0\" stroke=\"#ddd\" stroke-width=\"1\" opacity=\"1\"/><line transform=\"translate(0,171)\" x2=\"400\" y2=\"0\" stroke=\"#ddd\" stroke-width=\"1\" opacity=\"1\"/><line transform=\"translate(0,143)\" x2=\"400\" y2=\"0\" stroke=\"#ddd\" stroke-width=\"1\" opacity=\"1\"/><line transform=\"translate(0,114)\" x2=\"400\" y2=\"0\" stroke=\"#ddd\" stroke-width=\"1\" opacity=\"1\"/><line transform=\"translate(0,86)\" x2=\"400\" y2=\"0\" stroke=\"#ddd\" stroke-width=\"1\" opacity=\"1\"/><line transform=\"translate(0,57)\" x2=\"400\" y2=\"0\" stroke=\"#ddd\" stroke-width=\"1\" opacity=\"1\"/><line transform=\"translate(0,29)\" x2=\"400\" y2=\"0\" stroke=\"#ddd\" stroke-width=\"1\" opacity=\"1\"/><line transform=\"translate(0,0)\" x2=\"400\" y2=\"0\" stroke=\"#ddd\" stroke-width=\"1\" opacity=\"1\"/></g></g><path class=\"foreground\" aria-hidden=\"true\" d=\"\" pointer-events=\"none\" display=\"none\"/></g></g><g class=\"mark-group role-axis\" role=\"graphics-symbol\" aria-roledescription=\"axis\" aria-label=\"X-axis titled 'Year' for a linear scale with values from 1,960 to 2,025\"><g transform=\"translate(0.5,200.5)\"><path class=\"background\" aria-hidden=\"true\" d=\"M0,0h0v0h0Z\" pointer-events=\"none\"/><g><g class=\"mark-rule role-axis-tick\" pointer-events=\"none\"><line transform=\"translate(0,0)\" x2=\"0\" y2=\"5\" stroke=\"#888\" stroke-width=\"1\" opacity=\"1\"/><line transform=\"translate(31,0)\" x2=\"0\" y2=\"5\" stroke=\"#888\" stroke-width=\"1\" opacity=\"1\"/><line transform=\"translate(62,0)\" x2=\"0\" y2=\"5\" stroke=\"#888\" stroke-width=\"1\" opacity=\"1\"/><line transform=\"translate(92,0)\" x2=\"0\" y2=\"5\" stroke=\"#888\" stroke-width=\"1\" opacity=\"1\"/><line transform=\"translate(123,0)\" x2=\"0\" y2=\"5\" stroke=\"#888\" stroke-width=\"1\" opacity=\"1\"/><line transform=\"translate(154,0)\" x2=\"0\" y2=\"5\" stroke=\"#888\" stroke-width=\"1\" opacity=\"1\"/><line transform=\"translate(185,0)\" x2=\"0\" y2=\"5\" stroke=\"#888\" stroke-width=\"1\" opacity=\"1\"/><line transform=\"translate(215,0)\" x2=\"0\" y2=\"5\" stroke=\"#888\" stroke-width=\"1\" opacity=\"1\"/><line transform=\"translate(246,0)\" x2=\"0\" y2=\"5\" stroke=\"#888\" stroke-width=\"1\" opacity=\"1\"/><line transform=\"translate(277,0)\" x2=\"0\" y2=\"5\" stroke=\"#888\" stroke-width=\"1\" opacity=\"1\"/><line transform=\"translate(308,0)\" x2=\"0\" y2=\"5\" stroke=\"#888\" stroke-width=\"1\" opacity=\"1\"/><line transform=\"translate(338,0)\" x2=\"0\" y2=\"5\" stroke=\"#888\" stroke-width=\"1\" opacity=\"1\"/><line transform=\"translate(369,0)\" x2=\"0\" y2=\"5\" stroke=\"#888\" stroke-width=\"1\" opacity=\"1\"/><line transform=\"translate(400,0)\" x2=\"0\" y2=\"5\" stroke=\"#888\" stroke-width=\"1\" opacity=\"1\"/></g><g class=\"mark-text role-axis-label\" pointer-events=\"none\"><text text-anchor=\"start\" transform=\"translate(0,15)\" font-family=\"sans-serif\" font-size=\"10px\" fill=\"#000\" opacity=\"1\">1,960</text><text text-anchor=\"middle\" transform=\"translate(30.76923076923077,15)\" font-family=\"sans-serif\" font-size=\"10px\" fill=\"#000\" opacity=\"0\">1,965</text><text text-anchor=\"middle\" transform=\"translate(61.53846153846154,15)\" font-family=\"sans-serif\" font-size=\"10px\" fill=\"#000\" opacity=\"1\">1,970</text><text text-anchor=\"middle\" transform=\"translate(92.3076923076923,15)\" font-family=\"sans-serif\" font-size=\"10px\" fill=\"#000\" opacity=\"0\">1,975</text><text text-anchor=\"middle\" transform=\"translate(123.07692307692308,15)\" font-family=\"sans-serif\" font-size=\"10px\" fill=\"#000\" opacity=\"1\">1,980</text><text text-anchor=\"middle\" transform=\"translate(153.84615384615387,15)\" font-family=\"sans-serif\" font-size=\"10px\" fill=\"#000\" opacity=\"0\">1,985</text><text text-anchor=\"middle\" transform=\"translate(184.6153846153846,15)\" font-family=\"sans-serif\" font-size=\"10px\" fill=\"#000\" opacity=\"1\">1,990</text><text text-anchor=\"middle\" transform=\"translate(215.3846153846154,15)\" font-family=\"sans-serif\" font-size=\"10px\" fill=\"#000\" opacity=\"0\">1,995</text><text text-anchor=\"middle\" transform=\"translate(246.15384615384616,15)\" font-family=\"sans-serif\" font-size=\"10px\" fill=\"#000\" opacity=\"1\">2,000</text><text text-anchor=\"middle\" transform=\"translate(276.9230769230769,15)\" font-family=\"sans-serif\" font-size=\"10px\" fill=\"#000\" opacity=\"0\">2,005</text><text text-anchor=\"middle\" transform=\"translate(307.69230769230774,15)\" font-family=\"sans-serif\" font-size=\"10px\" fill=\"#000\" opacity=\"1\">2,010</text><text text-anchor=\"middle\" transform=\"translate(338.46153846153845,15)\" font-family=\"sans-serif\" font-size=\"10px\" fill=\"#000\" opacity=\"0\">2,015</text><text text-anchor=\"middle\" transform=\"translate(369.2307692307692,15)\" font-family=\"sans-serif\" font-size=\"10px\" fill=\"#000\" opacity=\"1\">2,020</text><text text-anchor=\"end\" transform=\"translate(400,15)\" font-family=\"sans-serif\" font-size=\"10px\" fill=\"#000\" opacity=\"0\">2,025</text></g><g class=\"mark-rule role-axis-domain\" pointer-events=\"none\"><line transform=\"translate(0,0)\" x2=\"400\" y2=\"0\" stroke=\"#888\" stroke-width=\"1\" opacity=\"1\"/></g><g class=\"mark-text role-axis-title\" pointer-events=\"none\"><text text-anchor=\"middle\" transform=\"translate(200,30)\" font-family=\"sans-serif\" font-size=\"11px\" font-weight=\"bold\" fill=\"#000\" opacity=\"1\">Year</text></g></g><path class=\"foreground\" aria-hidden=\"true\" d=\"\" pointer-events=\"none\" display=\"none\"/></g></g><g class=\"mark-group role-axis\" role=\"graphics-symbol\" aria-roledescription=\"axis\" aria-label=\"Y-axis titled 'Number of Countries' for a linear scale with values from 15 to 22\"><g transform=\"translate(0.5,0.5)\"><path class=\"background\" aria-hidden=\"true\" d=\"M0,0h0v0h0Z\" pointer-events=\"none\"/><g><g class=\"mark-rule role-axis-tick\" pointer-events=\"none\"><line transform=\"translate(0,200)\" x2=\"-5\" y2=\"0\" stroke=\"#888\" stroke-width=\"1\" opacity=\"1\"/><line transform=\"translate(0,171)\" x2=\"-5\" y2=\"0\" stroke=\"#888\" stroke-width=\"1\" opacity=\"1\"/><line transform=\"translate(0,143)\" x2=\"-5\" y2=\"0\" stroke=\"#888\" stroke-width=\"1\" opacity=\"1\"/><line transform=\"translate(0,114)\" x2=\"-5\" y2=\"0\" stroke=\"#888\" stroke-width=\"1\" opacity=\"1\"/><line transform=\"translate(0,86)\" x2=\"-5\" y2=\"0\" stroke=\"#888\" stroke-width=\"1\" opacity=\"1\"/><line transform=\"translate(0,57)\" x2=\"-5\" y2=\"0\" stroke=\"#888\" stroke-width=\"1\" opacity=\"1\"/><line transform=\"translate(0,29)\" x2=\"-5\" y2=\"0\" stroke=\"#888\" stroke-width=\"1\" opacity=\"1\"/><line transform=\"translate(0,0)\" x2=\"-5\" y2=\"0\" stroke=\"#888\" stroke-width=\"1\" opacity=\"1\"/></g><g class=\"mark-text role-axis-label\" pointer-events=\"none\"><text text-anchor=\"end\" transform=\"translate(-7,203)\" font-family=\"sans-serif\" font-size=\"10px\" fill=\"#000\" opacity=\"1\">15</text><text text-anchor=\"end\" transform=\"translate(-7,174.42857142857144)\" font-family=\"sans-serif\" font-size=\"10px\" fill=\"#000\" opacity=\"1\">16</text><text text-anchor=\"end\" transform=\"translate(-7,145.85714285714286)\" font-family=\"sans-serif\" font-size=\"10px\" fill=\"#000\" opacity=\"1\">17</text><text text-anchor=\"end\" transform=\"translate(-7,117.28571428571428)\" font-family=\"sans-serif\" font-size=\"10px\" fill=\"#000\" opacity=\"1\">18</text><text text-anchor=\"end\" transform=\"translate(-7,88.71428571428572)\" font-family=\"sans-serif\" font-size=\"10px\" fill=\"#000\" opacity=\"1\">19</text><text text-anchor=\"end\" transform=\"translate(-7,60.14285714285714)\" font-family=\"sans-serif\" font-size=\"10px\" fill=\"#000\" opacity=\"1\">20</text><text text-anchor=\"end\" transform=\"translate(-7,31.57142857142858)\" font-family=\"sans-serif\" font-size=\"10px\" fill=\"#000\" opacity=\"1\">21</text><text text-anchor=\"end\" transform=\"translate(-7,3)\" font-family=\"sans-serif\" font-size=\"10px\" fill=\"#000\" opacity=\"1\">22</text></g><g class=\"mark-rule role-axis-domain\" pointer-events=\"none\"><line transform=\"translate(0,200)\" x2=\"0\" y2=\"-200\" stroke=\"#888\" stroke-width=\"1\" opacity=\"1\"/></g><g class=\"mark-text role-axis-title\" pointer-events=\"none\"><text text-anchor=\"middle\" transform=\"translate(-21,100) rotate(-90) translate(0,-2)\" font-family=\"sans-serif\" font-size=\"11px\" font-weight=\"bold\" fill=\"#000\" opacity=\"1\">Number of Countries</text></g></g><path class=\"foreground\" aria-hidden=\"true\" d=\"\" pointer-events=\"none\" display=\"none\"/></g></g><g class=\"mark-symbol role-mark marks\" role=\"graphics-object\" aria-roledescription=\"symbol mark container\"><path aria-label=\"Year: 1961; Num_Country: 19\" role=\"graphics-symbol\" aria-roledescription=\"point\" transform=\"translate(6.153846153846154,85.71428571428572)\" d=\"M2.7386127875258306,0A2.7386127875258306,2.7386127875258306,0,1,1,-2.7386127875258306,0A2.7386127875258306,2.7386127875258306,0,1,1,2.7386127875258306,0\" stroke=\"#4c78a8\" stroke-width=\"2\" opacity=\"0.7\"/><path aria-label=\"Year: 1962; Num_Country: 19\" role=\"graphics-symbol\" aria-roledescription=\"point\" transform=\"translate(12.307692307692308,85.71428571428572)\" d=\"M2.7386127875258306,0A2.7386127875258306,2.7386127875258306,0,1,1,-2.7386127875258306,0A2.7386127875258306,2.7386127875258306,0,1,1,2.7386127875258306,0\" stroke=\"#4c78a8\" stroke-width=\"2\" opacity=\"0.7\"/><path aria-label=\"Year: 1963; Num_Country: 19\" role=\"graphics-symbol\" aria-roledescription=\"point\" transform=\"translate(18.461538461538463,85.71428571428572)\" d=\"M2.7386127875258306,0A2.7386127875258306,2.7386127875258306,0,1,1,-2.7386127875258306,0A2.7386127875258306,2.7386127875258306,0,1,1,2.7386127875258306,0\" stroke=\"#4c78a8\" stroke-width=\"2\" opacity=\"0.7\"/><path aria-label=\"Year: 1964; Num_Country: 19\" role=\"graphics-symbol\" aria-roledescription=\"point\" transform=\"translate(24.615384615384617,85.71428571428572)\" d=\"M2.7386127875258306,0A2.7386127875258306,2.7386127875258306,0,1,1,-2.7386127875258306,0A2.7386127875258306,2.7386127875258306,0,1,1,2.7386127875258306,0\" stroke=\"#4c78a8\" stroke-width=\"2\" opacity=\"0.7\"/><path aria-label=\"Year: 1965; Num_Country: 19\" role=\"graphics-symbol\" aria-roledescription=\"point\" transform=\"translate(30.76923076923077,85.71428571428572)\" d=\"M2.7386127875258306,0A2.7386127875258306,2.7386127875258306,0,1,1,-2.7386127875258306,0A2.7386127875258306,2.7386127875258306,0,1,1,2.7386127875258306,0\" stroke=\"#4c78a8\" stroke-width=\"2\" opacity=\"0.7\"/><path aria-label=\"Year: 1966; Num_Country: 19\" role=\"graphics-symbol\" aria-roledescription=\"point\" transform=\"translate(36.92307692307693,85.71428571428572)\" d=\"M2.7386127875258306,0A2.7386127875258306,2.7386127875258306,0,1,1,-2.7386127875258306,0A2.7386127875258306,2.7386127875258306,0,1,1,2.7386127875258306,0\" stroke=\"#4c78a8\" stroke-width=\"2\" opacity=\"0.7\"/><path aria-label=\"Year: 1967; Num_Country: 19\" role=\"graphics-symbol\" aria-roledescription=\"point\" transform=\"translate(43.07692307692308,85.71428571428572)\" d=\"M2.7386127875258306,0A2.7386127875258306,2.7386127875258306,0,1,1,-2.7386127875258306,0A2.7386127875258306,2.7386127875258306,0,1,1,2.7386127875258306,0\" stroke=\"#4c78a8\" stroke-width=\"2\" opacity=\"0.7\"/><path aria-label=\"Year: 1968; Num_Country: 19\" role=\"graphics-symbol\" aria-roledescription=\"point\" transform=\"translate(49.23076923076923,85.71428571428572)\" d=\"M2.7386127875258306,0A2.7386127875258306,2.7386127875258306,0,1,1,-2.7386127875258306,0A2.7386127875258306,2.7386127875258306,0,1,1,2.7386127875258306,0\" stroke=\"#4c78a8\" stroke-width=\"2\" opacity=\"0.7\"/><path aria-label=\"Year: 1969; Num_Country: 19\" role=\"graphics-symbol\" aria-roledescription=\"point\" transform=\"translate(55.38461538461539,85.71428571428572)\" d=\"M2.7386127875258306,0A2.7386127875258306,2.7386127875258306,0,1,1,-2.7386127875258306,0A2.7386127875258306,2.7386127875258306,0,1,1,2.7386127875258306,0\" stroke=\"#4c78a8\" stroke-width=\"2\" opacity=\"0.7\"/><path aria-label=\"Year: 1970; Num_Country: 19\" role=\"graphics-symbol\" aria-roledescription=\"point\" transform=\"translate(61.53846153846154,85.71428571428572)\" d=\"M2.7386127875258306,0A2.7386127875258306,2.7386127875258306,0,1,1,-2.7386127875258306,0A2.7386127875258306,2.7386127875258306,0,1,1,2.7386127875258306,0\" stroke=\"#4c78a8\" stroke-width=\"2\" opacity=\"0.7\"/><path aria-label=\"Year: 1971; Num_Country: 19\" role=\"graphics-symbol\" aria-roledescription=\"point\" transform=\"translate(67.6923076923077,85.71428571428572)\" d=\"M2.7386127875258306,0A2.7386127875258306,2.7386127875258306,0,1,1,-2.7386127875258306,0A2.7386127875258306,2.7386127875258306,0,1,1,2.7386127875258306,0\" stroke=\"#4c78a8\" stroke-width=\"2\" opacity=\"0.7\"/><path aria-label=\"Year: 1972; Num_Country: 19\" role=\"graphics-symbol\" aria-roledescription=\"point\" transform=\"translate(73.84615384615385,85.71428571428572)\" d=\"M2.7386127875258306,0A2.7386127875258306,2.7386127875258306,0,1,1,-2.7386127875258306,0A2.7386127875258306,2.7386127875258306,0,1,1,2.7386127875258306,0\" stroke=\"#4c78a8\" stroke-width=\"2\" opacity=\"0.7\"/><path aria-label=\"Year: 1973; Num_Country: 19\" role=\"graphics-symbol\" aria-roledescription=\"point\" transform=\"translate(80,85.71428571428572)\" d=\"M2.7386127875258306,0A2.7386127875258306,2.7386127875258306,0,1,1,-2.7386127875258306,0A2.7386127875258306,2.7386127875258306,0,1,1,2.7386127875258306,0\" stroke=\"#4c78a8\" stroke-width=\"2\" opacity=\"0.7\"/><path aria-label=\"Year: 1974; Num_Country: 19\" role=\"graphics-symbol\" aria-roledescription=\"point\" transform=\"translate(86.15384615384616,85.71428571428572)\" d=\"M2.7386127875258306,0A2.7386127875258306,2.7386127875258306,0,1,1,-2.7386127875258306,0A2.7386127875258306,2.7386127875258306,0,1,1,2.7386127875258306,0\" stroke=\"#4c78a8\" stroke-width=\"2\" opacity=\"0.7\"/><path aria-label=\"Year: 1975; Num_Country: 19\" role=\"graphics-symbol\" aria-roledescription=\"point\" transform=\"translate(92.3076923076923,85.71428571428572)\" d=\"M2.7386127875258306,0A2.7386127875258306,2.7386127875258306,0,1,1,-2.7386127875258306,0A2.7386127875258306,2.7386127875258306,0,1,1,2.7386127875258306,0\" stroke=\"#4c78a8\" stroke-width=\"2\" opacity=\"0.7\"/><path aria-label=\"Year: 1976; Num_Country: 19\" role=\"graphics-symbol\" aria-roledescription=\"point\" transform=\"translate(98.46153846153847,85.71428571428572)\" d=\"M2.7386127875258306,0A2.7386127875258306,2.7386127875258306,0,1,1,-2.7386127875258306,0A2.7386127875258306,2.7386127875258306,0,1,1,2.7386127875258306,0\" stroke=\"#4c78a8\" stroke-width=\"2\" opacity=\"0.7\"/><path aria-label=\"Year: 1977; Num_Country: 19\" role=\"graphics-symbol\" aria-roledescription=\"point\" transform=\"translate(104.61538461538463,85.71428571428572)\" d=\"M2.7386127875258306,0A2.7386127875258306,2.7386127875258306,0,1,1,-2.7386127875258306,0A2.7386127875258306,2.7386127875258306,0,1,1,2.7386127875258306,0\" stroke=\"#4c78a8\" stroke-width=\"2\" opacity=\"0.7\"/><path aria-label=\"Year: 1978; Num_Country: 19\" role=\"graphics-symbol\" aria-roledescription=\"point\" transform=\"translate(110.76923076923077,85.71428571428572)\" d=\"M2.7386127875258306,0A2.7386127875258306,2.7386127875258306,0,1,1,-2.7386127875258306,0A2.7386127875258306,2.7386127875258306,0,1,1,2.7386127875258306,0\" stroke=\"#4c78a8\" stroke-width=\"2\" opacity=\"0.7\"/><path aria-label=\"Year: 1979; Num_Country: 19\" role=\"graphics-symbol\" aria-roledescription=\"point\" transform=\"translate(116.92307692307693,85.71428571428572)\" d=\"M2.7386127875258306,0A2.7386127875258306,2.7386127875258306,0,1,1,-2.7386127875258306,0A2.7386127875258306,2.7386127875258306,0,1,1,2.7386127875258306,0\" stroke=\"#4c78a8\" stroke-width=\"2\" opacity=\"0.7\"/><path aria-label=\"Year: 1980; Num_Country: 19\" role=\"graphics-symbol\" aria-roledescription=\"point\" transform=\"translate(123.07692307692308,85.71428571428572)\" d=\"M2.7386127875258306,0A2.7386127875258306,2.7386127875258306,0,1,1,-2.7386127875258306,0A2.7386127875258306,2.7386127875258306,0,1,1,2.7386127875258306,0\" stroke=\"#4c78a8\" stroke-width=\"2\" opacity=\"0.7\"/><path aria-label=\"Year: 1981; Num_Country: 19\" role=\"graphics-symbol\" aria-roledescription=\"point\" transform=\"translate(129.23076923076923,85.71428571428572)\" d=\"M2.7386127875258306,0A2.7386127875258306,2.7386127875258306,0,1,1,-2.7386127875258306,0A2.7386127875258306,2.7386127875258306,0,1,1,2.7386127875258306,0\" stroke=\"#4c78a8\" stroke-width=\"2\" opacity=\"0.7\"/><path aria-label=\"Year: 1982; Num_Country: 19\" role=\"graphics-symbol\" aria-roledescription=\"point\" transform=\"translate(135.3846153846154,85.71428571428572)\" d=\"M2.7386127875258306,0A2.7386127875258306,2.7386127875258306,0,1,1,-2.7386127875258306,0A2.7386127875258306,2.7386127875258306,0,1,1,2.7386127875258306,0\" stroke=\"#4c78a8\" stroke-width=\"2\" opacity=\"0.7\"/><path aria-label=\"Year: 1983; Num_Country: 19\" role=\"graphics-symbol\" aria-roledescription=\"point\" transform=\"translate(141.53846153846155,85.71428571428572)\" d=\"M2.7386127875258306,0A2.7386127875258306,2.7386127875258306,0,1,1,-2.7386127875258306,0A2.7386127875258306,2.7386127875258306,0,1,1,2.7386127875258306,0\" stroke=\"#4c78a8\" stroke-width=\"2\" opacity=\"0.7\"/><path aria-label=\"Year: 1984; Num_Country: 19\" role=\"graphics-symbol\" aria-roledescription=\"point\" transform=\"translate(147.6923076923077,85.71428571428572)\" d=\"M2.7386127875258306,0A2.7386127875258306,2.7386127875258306,0,1,1,-2.7386127875258306,0A2.7386127875258306,2.7386127875258306,0,1,1,2.7386127875258306,0\" stroke=\"#4c78a8\" stroke-width=\"2\" opacity=\"0.7\"/><path aria-label=\"Year: 1985; Num_Country: 19\" role=\"graphics-symbol\" aria-roledescription=\"point\" transform=\"translate(153.84615384615387,85.71428571428572)\" d=\"M2.7386127875258306,0A2.7386127875258306,2.7386127875258306,0,1,1,-2.7386127875258306,0A2.7386127875258306,2.7386127875258306,0,1,1,2.7386127875258306,0\" stroke=\"#4c78a8\" stroke-width=\"2\" opacity=\"0.7\"/><path aria-label=\"Year: 1986; Num_Country: 19\" role=\"graphics-symbol\" aria-roledescription=\"point\" transform=\"translate(160,85.71428571428572)\" d=\"M2.7386127875258306,0A2.7386127875258306,2.7386127875258306,0,1,1,-2.7386127875258306,0A2.7386127875258306,2.7386127875258306,0,1,1,2.7386127875258306,0\" stroke=\"#4c78a8\" stroke-width=\"2\" opacity=\"0.7\"/><path aria-label=\"Year: 1987; Num_Country: 19\" role=\"graphics-symbol\" aria-roledescription=\"point\" transform=\"translate(166.15384615384616,85.71428571428572)\" d=\"M2.7386127875258306,0A2.7386127875258306,2.7386127875258306,0,1,1,-2.7386127875258306,0A2.7386127875258306,2.7386127875258306,0,1,1,2.7386127875258306,0\" stroke=\"#4c78a8\" stroke-width=\"2\" opacity=\"0.7\"/><path aria-label=\"Year: 1988; Num_Country: 19\" role=\"graphics-symbol\" aria-roledescription=\"point\" transform=\"translate(172.30769230769232,85.71428571428572)\" d=\"M2.7386127875258306,0A2.7386127875258306,2.7386127875258306,0,1,1,-2.7386127875258306,0A2.7386127875258306,2.7386127875258306,0,1,1,2.7386127875258306,0\" stroke=\"#4c78a8\" stroke-width=\"2\" opacity=\"0.7\"/><path aria-label=\"Year: 1989; Num_Country: 19\" role=\"graphics-symbol\" aria-roledescription=\"point\" transform=\"translate(178.46153846153848,85.71428571428572)\" d=\"M2.7386127875258306,0A2.7386127875258306,2.7386127875258306,0,1,1,-2.7386127875258306,0A2.7386127875258306,2.7386127875258306,0,1,1,2.7386127875258306,0\" stroke=\"#4c78a8\" stroke-width=\"2\" opacity=\"0.7\"/><path aria-label=\"Year: 1990; Num_Country: 19\" role=\"graphics-symbol\" aria-roledescription=\"point\" transform=\"translate(184.6153846153846,85.71428571428572)\" d=\"M2.7386127875258306,0A2.7386127875258306,2.7386127875258306,0,1,1,-2.7386127875258306,0A2.7386127875258306,2.7386127875258306,0,1,1,2.7386127875258306,0\" stroke=\"#4c78a8\" stroke-width=\"2\" opacity=\"0.7\"/><path aria-label=\"Year: 1991; Num_Country: 18\" role=\"graphics-symbol\" aria-roledescription=\"point\" transform=\"translate(190.76923076923077,114.28571428571428)\" d=\"M2.7386127875258306,0A2.7386127875258306,2.7386127875258306,0,1,1,-2.7386127875258306,0A2.7386127875258306,2.7386127875258306,0,1,1,2.7386127875258306,0\" stroke=\"#4c78a8\" stroke-width=\"2\" opacity=\"0.7\"/><path aria-label=\"Year: 1992; Num_Country: 19\" role=\"graphics-symbol\" aria-roledescription=\"point\" transform=\"translate(196.92307692307693,85.71428571428572)\" d=\"M2.7386127875258306,0A2.7386127875258306,2.7386127875258306,0,1,1,-2.7386127875258306,0A2.7386127875258306,2.7386127875258306,0,1,1,2.7386127875258306,0\" stroke=\"#4c78a8\" stroke-width=\"2\" opacity=\"0.7\"/><path aria-label=\"Year: 1993; Num_Country: 19\" role=\"graphics-symbol\" aria-roledescription=\"point\" transform=\"translate(203.07692307692307,85.71428571428572)\" d=\"M2.7386127875258306,0A2.7386127875258306,2.7386127875258306,0,1,1,-2.7386127875258306,0A2.7386127875258306,2.7386127875258306,0,1,1,2.7386127875258306,0\" stroke=\"#4c78a8\" stroke-width=\"2\" opacity=\"0.7\"/><path aria-label=\"Year: 1994; Num_Country: 19\" role=\"graphics-symbol\" aria-roledescription=\"point\" transform=\"translate(209.23076923076925,85.71428571428572)\" d=\"M2.7386127875258306,0A2.7386127875258306,2.7386127875258306,0,1,1,-2.7386127875258306,0A2.7386127875258306,2.7386127875258306,0,1,1,2.7386127875258306,0\" stroke=\"#4c78a8\" stroke-width=\"2\" opacity=\"0.7\"/><path aria-label=\"Year: 1995; Num_Country: 19\" role=\"graphics-symbol\" aria-roledescription=\"point\" transform=\"translate(215.3846153846154,85.71428571428572)\" d=\"M2.7386127875258306,0A2.7386127875258306,2.7386127875258306,0,1,1,-2.7386127875258306,0A2.7386127875258306,2.7386127875258306,0,1,1,2.7386127875258306,0\" stroke=\"#4c78a8\" stroke-width=\"2\" opacity=\"0.7\"/><path aria-label=\"Year: 1996; Num_Country: 19\" role=\"graphics-symbol\" aria-roledescription=\"point\" transform=\"translate(221.53846153846155,85.71428571428572)\" d=\"M2.7386127875258306,0A2.7386127875258306,2.7386127875258306,0,1,1,-2.7386127875258306,0A2.7386127875258306,2.7386127875258306,0,1,1,2.7386127875258306,0\" stroke=\"#4c78a8\" stroke-width=\"2\" opacity=\"0.7\"/><path aria-label=\"Year: 1997; Num_Country: 19\" role=\"graphics-symbol\" aria-roledescription=\"point\" transform=\"translate(227.69230769230768,85.71428571428572)\" d=\"M2.7386127875258306,0A2.7386127875258306,2.7386127875258306,0,1,1,-2.7386127875258306,0A2.7386127875258306,2.7386127875258306,0,1,1,2.7386127875258306,0\" stroke=\"#4c78a8\" stroke-width=\"2\" opacity=\"0.7\"/><path aria-label=\"Year: 1998; Num_Country: 19\" role=\"graphics-symbol\" aria-roledescription=\"point\" transform=\"translate(233.84615384615387,85.71428571428572)\" d=\"M2.7386127875258306,0A2.7386127875258306,2.7386127875258306,0,1,1,-2.7386127875258306,0A2.7386127875258306,2.7386127875258306,0,1,1,2.7386127875258306,0\" stroke=\"#4c78a8\" stroke-width=\"2\" opacity=\"0.7\"/><path aria-label=\"Year: 1999; Num_Country: 19\" role=\"graphics-symbol\" aria-roledescription=\"point\" transform=\"translate(240,85.71428571428572)\" d=\"M2.7386127875258306,0A2.7386127875258306,2.7386127875258306,0,1,1,-2.7386127875258306,0A2.7386127875258306,2.7386127875258306,0,1,1,2.7386127875258306,0\" stroke=\"#4c78a8\" stroke-width=\"2\" opacity=\"0.7\"/><path aria-label=\"Year: 2000; Num_Country: 19\" role=\"graphics-symbol\" aria-roledescription=\"point\" transform=\"translate(246.15384615384616,85.71428571428572)\" d=\"M2.7386127875258306,0A2.7386127875258306,2.7386127875258306,0,1,1,-2.7386127875258306,0A2.7386127875258306,2.7386127875258306,0,1,1,2.7386127875258306,0\" stroke=\"#4c78a8\" stroke-width=\"2\" opacity=\"0.7\"/><path aria-label=\"Year: 2001; Num_Country: 19\" role=\"graphics-symbol\" aria-roledescription=\"point\" transform=\"translate(252.3076923076923,85.71428571428572)\" d=\"M2.7386127875258306,0A2.7386127875258306,2.7386127875258306,0,1,1,-2.7386127875258306,0A2.7386127875258306,2.7386127875258306,0,1,1,2.7386127875258306,0\" stroke=\"#4c78a8\" stroke-width=\"2\" opacity=\"0.7\"/><path aria-label=\"Year: 2002; Num_Country: 19\" role=\"graphics-symbol\" aria-roledescription=\"point\" transform=\"translate(258.46153846153845,85.71428571428572)\" d=\"M2.7386127875258306,0A2.7386127875258306,2.7386127875258306,0,1,1,-2.7386127875258306,0A2.7386127875258306,2.7386127875258306,0,1,1,2.7386127875258306,0\" stroke=\"#4c78a8\" stroke-width=\"2\" opacity=\"0.7\"/><path aria-label=\"Year: 2003; Num_Country: 19\" role=\"graphics-symbol\" aria-roledescription=\"point\" transform=\"translate(264.6153846153846,85.71428571428572)\" d=\"M2.7386127875258306,0A2.7386127875258306,2.7386127875258306,0,1,1,-2.7386127875258306,0A2.7386127875258306,2.7386127875258306,0,1,1,2.7386127875258306,0\" stroke=\"#4c78a8\" stroke-width=\"2\" opacity=\"0.7\"/><path aria-label=\"Year: 2004; Num_Country: 19\" role=\"graphics-symbol\" aria-roledescription=\"point\" transform=\"translate(270.7692307692308,85.71428571428572)\" d=\"M2.7386127875258306,0A2.7386127875258306,2.7386127875258306,0,1,1,-2.7386127875258306,0A2.7386127875258306,2.7386127875258306,0,1,1,2.7386127875258306,0\" stroke=\"#4c78a8\" stroke-width=\"2\" opacity=\"0.7\"/><path aria-label=\"Year: 2005; Num_Country: 19\" role=\"graphics-symbol\" aria-roledescription=\"point\" transform=\"translate(276.9230769230769,85.71428571428572)\" d=\"M2.7386127875258306,0A2.7386127875258306,2.7386127875258306,0,1,1,-2.7386127875258306,0A2.7386127875258306,2.7386127875258306,0,1,1,2.7386127875258306,0\" stroke=\"#4c78a8\" stroke-width=\"2\" opacity=\"0.7\"/><path aria-label=\"Year: 2006; Num_Country: 19\" role=\"graphics-symbol\" aria-roledescription=\"point\" transform=\"translate(283.0769230769231,85.71428571428572)\" d=\"M2.7386127875258306,0A2.7386127875258306,2.7386127875258306,0,1,1,-2.7386127875258306,0A2.7386127875258306,2.7386127875258306,0,1,1,2.7386127875258306,0\" stroke=\"#4c78a8\" stroke-width=\"2\" opacity=\"0.7\"/><path aria-label=\"Year: 2007; Num_Country: 19\" role=\"graphics-symbol\" aria-roledescription=\"point\" transform=\"translate(289.2307692307692,85.71428571428572)\" d=\"M2.7386127875258306,0A2.7386127875258306,2.7386127875258306,0,1,1,-2.7386127875258306,0A2.7386127875258306,2.7386127875258306,0,1,1,2.7386127875258306,0\" stroke=\"#4c78a8\" stroke-width=\"2\" opacity=\"0.7\"/><path aria-label=\"Year: 2008; Num_Country: 19\" role=\"graphics-symbol\" aria-roledescription=\"point\" transform=\"translate(295.3846153846154,85.71428571428572)\" d=\"M2.7386127875258306,0A2.7386127875258306,2.7386127875258306,0,1,1,-2.7386127875258306,0A2.7386127875258306,2.7386127875258306,0,1,1,2.7386127875258306,0\" stroke=\"#4c78a8\" stroke-width=\"2\" opacity=\"0.7\"/><path aria-label=\"Year: 2009; Num_Country: 19\" role=\"graphics-symbol\" aria-roledescription=\"point\" transform=\"translate(301.53846153846155,85.71428571428572)\" d=\"M2.7386127875258306,0A2.7386127875258306,2.7386127875258306,0,1,1,-2.7386127875258306,0A2.7386127875258306,2.7386127875258306,0,1,1,2.7386127875258306,0\" stroke=\"#4c78a8\" stroke-width=\"2\" opacity=\"0.7\"/><path aria-label=\"Year: 2010; Num_Country: 19\" role=\"graphics-symbol\" aria-roledescription=\"point\" transform=\"translate(307.69230769230774,85.71428571428572)\" d=\"M2.7386127875258306,0A2.7386127875258306,2.7386127875258306,0,1,1,-2.7386127875258306,0A2.7386127875258306,2.7386127875258306,0,1,1,2.7386127875258306,0\" stroke=\"#4c78a8\" stroke-width=\"2\" opacity=\"0.7\"/><path aria-label=\"Year: 2011; Num_Country: 19\" role=\"graphics-symbol\" aria-roledescription=\"point\" transform=\"translate(313.84615384615387,85.71428571428572)\" d=\"M2.7386127875258306,0A2.7386127875258306,2.7386127875258306,0,1,1,-2.7386127875258306,0A2.7386127875258306,2.7386127875258306,0,1,1,2.7386127875258306,0\" stroke=\"#4c78a8\" stroke-width=\"2\" opacity=\"0.7\"/><path aria-label=\"Year: 2012; Num_Country: 19\" role=\"graphics-symbol\" aria-roledescription=\"point\" transform=\"translate(320,85.71428571428572)\" d=\"M2.7386127875258306,0A2.7386127875258306,2.7386127875258306,0,1,1,-2.7386127875258306,0A2.7386127875258306,2.7386127875258306,0,1,1,2.7386127875258306,0\" stroke=\"#4c78a8\" stroke-width=\"2\" opacity=\"0.7\"/><path aria-label=\"Year: 2013; Num_Country: 19\" role=\"graphics-symbol\" aria-roledescription=\"point\" transform=\"translate(326.15384615384613,85.71428571428572)\" d=\"M2.7386127875258306,0A2.7386127875258306,2.7386127875258306,0,1,1,-2.7386127875258306,0A2.7386127875258306,2.7386127875258306,0,1,1,2.7386127875258306,0\" stroke=\"#4c78a8\" stroke-width=\"2\" opacity=\"0.7\"/><path aria-label=\"Year: 2014; Num_Country: 19\" role=\"graphics-symbol\" aria-roledescription=\"point\" transform=\"translate(332.3076923076923,85.71428571428572)\" d=\"M2.7386127875258306,0A2.7386127875258306,2.7386127875258306,0,1,1,-2.7386127875258306,0A2.7386127875258306,2.7386127875258306,0,1,1,2.7386127875258306,0\" stroke=\"#4c78a8\" stroke-width=\"2\" opacity=\"0.7\"/><path aria-label=\"Year: 2015; Num_Country: 19\" role=\"graphics-symbol\" aria-roledescription=\"point\" transform=\"translate(338.46153846153845,85.71428571428572)\" d=\"M2.7386127875258306,0A2.7386127875258306,2.7386127875258306,0,1,1,-2.7386127875258306,0A2.7386127875258306,2.7386127875258306,0,1,1,2.7386127875258306,0\" stroke=\"#4c78a8\" stroke-width=\"2\" opacity=\"0.7\"/><path aria-label=\"Year: 2016; Num_Country: 19\" role=\"graphics-symbol\" aria-roledescription=\"point\" transform=\"translate(344.61538461538464,85.71428571428572)\" d=\"M2.7386127875258306,0A2.7386127875258306,2.7386127875258306,0,1,1,-2.7386127875258306,0A2.7386127875258306,2.7386127875258306,0,1,1,2.7386127875258306,0\" stroke=\"#4c78a8\" stroke-width=\"2\" opacity=\"0.7\"/><path aria-label=\"Year: 2017; Num_Country: 19\" role=\"graphics-symbol\" aria-roledescription=\"point\" transform=\"translate(350.7692307692308,85.71428571428572)\" d=\"M2.7386127875258306,0A2.7386127875258306,2.7386127875258306,0,1,1,-2.7386127875258306,0A2.7386127875258306,2.7386127875258306,0,1,1,2.7386127875258306,0\" stroke=\"#4c78a8\" stroke-width=\"2\" opacity=\"0.7\"/><path aria-label=\"Year: 2018; Num_Country: 19\" role=\"graphics-symbol\" aria-roledescription=\"point\" transform=\"translate(356.92307692307696,85.71428571428572)\" d=\"M2.7386127875258306,0A2.7386127875258306,2.7386127875258306,0,1,1,-2.7386127875258306,0A2.7386127875258306,2.7386127875258306,0,1,1,2.7386127875258306,0\" stroke=\"#4c78a8\" stroke-width=\"2\" opacity=\"0.7\"/><path aria-label=\"Year: 2019; Num_Country: 19\" role=\"graphics-symbol\" aria-roledescription=\"point\" transform=\"translate(363.0769230769231,85.71428571428572)\" d=\"M2.7386127875258306,0A2.7386127875258306,2.7386127875258306,0,1,1,-2.7386127875258306,0A2.7386127875258306,2.7386127875258306,0,1,1,2.7386127875258306,0\" stroke=\"#4c78a8\" stroke-width=\"2\" opacity=\"0.7\"/><path aria-label=\"Year: 2020; Num_Country: 19\" role=\"graphics-symbol\" aria-roledescription=\"point\" transform=\"translate(369.2307692307692,85.71428571428572)\" d=\"M2.7386127875258306,0A2.7386127875258306,2.7386127875258306,0,1,1,-2.7386127875258306,0A2.7386127875258306,2.7386127875258306,0,1,1,2.7386127875258306,0\" stroke=\"#4c78a8\" stroke-width=\"2\" opacity=\"0.7\"/><path aria-label=\"Year: 2021; Num_Country: 19\" role=\"graphics-symbol\" aria-roledescription=\"point\" transform=\"translate(375.38461538461536,85.71428571428572)\" d=\"M2.7386127875258306,0A2.7386127875258306,2.7386127875258306,0,1,1,-2.7386127875258306,0A2.7386127875258306,2.7386127875258306,0,1,1,2.7386127875258306,0\" stroke=\"#4c78a8\" stroke-width=\"2\" opacity=\"0.7\"/><path aria-label=\"Year: 2022; Num_Country: 19\" role=\"graphics-symbol\" aria-roledescription=\"point\" transform=\"translate(381.53846153846155,85.71428571428572)\" d=\"M2.7386127875258306,0A2.7386127875258306,2.7386127875258306,0,1,1,-2.7386127875258306,0A2.7386127875258306,2.7386127875258306,0,1,1,2.7386127875258306,0\" stroke=\"#4c78a8\" stroke-width=\"2\" opacity=\"0.7\"/></g></g><path class=\"foreground\" aria-hidden=\"true\" d=\"\" display=\"none\"/></g></g></g></svg>\n"
      ],
      "text/plain": [
       "@vlplot(\n",
       "    width=400,\n",
       "    height=200,\n",
       "    mark=\"point\",\n",
       "    encoding={\n",
       "        x={\n",
       "            scale={\n",
       "                zero=false\n",
       "            },\n",
       "            field=\"Year\"\n",
       "        },\n",
       "        y={\n",
       "            scale={\n",
       "                domain=[\n",
       "                    15,\n",
       "                    22\n",
       "                ]\n",
       "            },\n",
       "            axis={\n",
       "                title=\"Number of Countries\"\n",
       "            },\n",
       "            field=\"Num_Country\"\n",
       "        }\n",
       "    },\n",
       "    data={\n",
       "        values=...\n",
       "    }\n",
       ")"
      ]
     },
     "execution_count": 19,
     "metadata": {},
     "output_type": "execute_result"
    }
   ],
   "source": [
    "Oc_Countrycount_plot = Oc_Countrycount_year |>\n",
    "  @vlplot(:point, x = {:Year, scale = {zero = false}}, \n",
    "           y = {:Num_Country, scale = {domain = [15, 22]}, axis = {title = \"Number of Countries\"}},\n",
    "           width = 400, height = 200)"
   ]
  },
  {
   "cell_type": "markdown",
   "id": "2fd4e485-01b1-448e-8ce0-7e23438c4a9f",
   "metadata": {},
   "source": [
    "### comment\n",
    "\n",
    "The assumption was correct. Usually, there are 19 countries in Oceania in the dataset, but only 18 countries are there in 1991. This shows that we need to be careful to use partial deletion and this could happen again in further research. We need to keep in mind this and investigate the reason when there are unnatural trends."
   ]
  },
  {
   "cell_type": "code",
   "execution_count": 20,
   "id": "966a0fff-6a4f-47a8-a214-e46832ffcf3b",
   "metadata": {},
   "outputs": [
    {
     "data": {
      "text/plain": [
       "\"Population_combined.csv\""
      ]
     },
     "execution_count": 20,
     "metadata": {},
     "output_type": "execute_result"
    }
   ],
   "source": [
    "CSV.write(\"Population_combined.csv\", Population)"
   ]
  },
  {
   "cell_type": "code",
   "execution_count": 21,
   "id": "6ed40a66-a25d-410d-a30d-33f7a71b1b63",
   "metadata": {},
   "outputs": [],
   "source": [
    "save(\"Oc_popultation_plot.png\", Oc_popultation_plot)\n",
    "save(\"Oc_Countrycount_plot.png\", Oc_Countrycount_plot)"
   ]
  },
  {
   "cell_type": "markdown",
   "id": "3f52a652-85d8-44d4-af81-62270c85165d",
   "metadata": {},
   "source": [
    "### comment\n",
    "\n",
    "`Population` data frame was saved in csv file and two plots are saved as png format."
   ]
  },
  {
   "cell_type": "markdown",
   "id": "47bdee66-de4c-4fc5-8b18-06185ab091c9",
   "metadata": {},
   "source": [
    "## Reference\n",
    "\n",
    "https://www.geeksforgeeks.org/working-with-csv-files-in-julia/\n",
    "\n",
    "https://csv.juliadata.org/stable/examples.html\n",
    "\n",
    "https://stackoverflow.com/questions/71679457/sort-julia-dataframe-in-descending-order\n",
    "\n",
    "https://docs.juliaplots.org/latest/tutorial/\n",
    "\n",
    "https://www.queryverse.org/VegaLite.jl/v2.6/userguide/vlplotmacro/"
   ]
  }
 ],
 "metadata": {
  "kernelspec": {
   "display_name": "Julia 1.9.2",
   "language": "julia",
   "name": "julia-1.9"
  },
  "language_info": {
   "file_extension": ".jl",
   "mimetype": "application/julia",
   "name": "julia",
   "version": "1.9.2"
  }
 },
 "nbformat": 4,
 "nbformat_minor": 5
}
